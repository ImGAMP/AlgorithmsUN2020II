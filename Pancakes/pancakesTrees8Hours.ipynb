{
  "nbformat": 4,
  "nbformat_minor": 0,
  "metadata": {
    "colab": {
      "name": "pancakesTrees8Hours.ipynb",
      "provenance": [],
      "collapsed_sections": [
        "r5wuocMo9_n7"
      ]
    },
    "kernelspec": {
      "name": "python3",
      "display_name": "Python 3"
    },
    "accelerator": "GPU"
  },
  "cells": [
    {
      "cell_type": "markdown",
      "metadata": {
        "id": "NoPwFWMKQFjC"
      },
      "source": [
        "#Second Item \n",
        "Modify the [PancakesTrees.ipynb](https://github.com/gjhernandezp/algorithms/blob/master/PancakesTrees.ipynb) code leaving only the necessary code and data structures required to calculate the Pn and run the code for at least one night (8 hours) starting with n=5. What is the largest Pn calculated? (Save the results in drive to avoid losing them)"
      ]
    },
    {
      "cell_type": "code",
      "metadata": {
        "id": "IuF8r6kXgDdV"
      },
      "source": [
        "import pydot \n",
        "import time, random\n",
        "from collections import defaultdict\n",
        "from IPython.display import Image, display\n"
      ],
      "execution_count": 2,
      "outputs": []
    },
    {
      "cell_type": "code",
      "metadata": {
        "id": "C-pdBhDihXxx"
      },
      "source": [
        "def lstr(p):\n",
        "  return ''.join([str(elem) for elem in p])"
      ],
      "execution_count": 3,
      "outputs": []
    },
    {
      "cell_type": "code",
      "metadata": {
        "id": "p0ois8S5-lUi"
      },
      "source": [
        "def case(f):\n",
        "  a=[]\n",
        "  b=[]\n",
        "  for h in range(f):\n",
        "    b.append(h)\n",
        "  for m in range(len(b)):\n",
        "    x = random.randrange(len(b))\n",
        "    a.append(b[x])\n",
        "    b.remove(b[x])\n",
        "  return a"
      ],
      "execution_count": 4,
      "outputs": []
    },
    {
      "cell_type": "code",
      "metadata": {
        "id": "y8WcM4fKswhg"
      },
      "source": [
        "def ModifiedBFSPreSols(s):\n",
        "  tik = time.time()\n",
        "  #Grafo como diccionario\n",
        "  graph = defaultdict()\n",
        "  visited = defaultdict()\n",
        "  G = pydot.Dot(graph_type = \"digraph\")\n",
        "\n",
        "  #Crear cola\n",
        "  queue = []\n",
        "\n",
        "  #Nodo naciente\n",
        "  queue.append([s,0])\n",
        "  visited[lstr(s)] = True\n",
        "\n",
        "  while queue:\n",
        "\n",
        "    #Sacar el vertice de la cola\n",
        "    e = queue.pop(0)\n",
        "    s = e[0]\n",
        "    l = e [1]\n",
        "    graph[lstr(s)]=[]\n",
        "    altura = l\n",
        "\n",
        "    #Crear bandera\n",
        "    \n",
        "    flag = False\n",
        "    for i in range(len(s)-1):\n",
        "      d = s[i+1::-1]+s[i+2:]\n",
        "      if (d==sorted(d)):\n",
        "        flag=True\n",
        "    if flag:\n",
        "      node = pydot.Node(lstr(s), style=\"filled\", fillcolor= \"yellow\")\n",
        "    else: \n",
        "      node = pydot.Node(lstr(s))\n",
        "\n",
        "    G.add_node(node)\n",
        "\n",
        "    #Get all adjacent vertices of the \n",
        "    #dequeued vertex s. If a adjacent \n",
        "    #has not been visited, then mark it \n",
        "    #visited and enqueue it\n",
        "\n",
        "    if (s != sorted(s)) :\n",
        "      for i in range(len(s)-1): \n",
        "        d = s[i+1::-1] + s[i+2:]\n",
        "        if (d != s) and not(lstr(d) in visited.keys()):\n",
        "\n",
        "          if (d != sorted(d)):\n",
        "            node = pydot.Node(lstr(d))\n",
        "          else:\n",
        "            node = pydot.Node(lstr(d), style=\"filled\", fillcolor=\"green\") #Primer ordenado será verde\n",
        "\n",
        "          G.add_node(node)\n",
        "          edge = pydot.Edge(lstr(s),lstr(d))\n",
        "          G.add_edge(edge)\n",
        "          graph[lstr(s)].append(lstr(d))\n",
        "          queue.append([d,l+1])\n",
        "          visited[lstr(d)] = True\n",
        "          altura = l+1\n",
        "  tok = time.time()\n",
        "  #Mostrar grafico pydot G\n",
        "  #im = Image(G.create_png())\n",
        "  #display(im) \n",
        "  tiempo = (tok - tik)*100 \n",
        "  #print(\"Pn time for graph {0} with level {1} is : {2}\".format( s , l , tiempo))\n",
        "  return (altura,tiempo)"
      ],
      "execution_count": 5,
      "outputs": []
    },
    {
      "cell_type": "markdown",
      "metadata": {
        "id": "PZ0zK279aH_p"
      },
      "source": [
        "intento #1"
      ]
    },
    {
      "cell_type": "code",
      "metadata": {
        "colab": {
          "base_uri": "https://localhost:8080/"
        },
        "id": "L23rO6nkt0LY",
        "outputId": "9f345948-4bbf-4f5a-9921-ff08ac46ac8c"
      },
      "source": [
        "for i in range(1,20):\n",
        "  p = case(i)\n",
        "  l = ModifiedBFSPreSols(p)\n",
        "  print(\"Pn height for graph {0} is : {1}\".format( i , l[0]))\n",
        "  print(\"Pn time for graph {0} is : {1}\".format( i, l[1]))\n",
        "  print(\"-------------------------------------------------------------------------------------\")"
      ],
      "execution_count": null,
      "outputs": [
        {
          "output_type": "stream",
          "text": [
            "Pn height for graph 1 is : 0\n",
            "Pn time for graph 1 is : 0.09987354278564453\n",
            "-------------------------------------------------------------------------------------\n",
            "Pn height for graph 2 is : 1\n",
            "Pn time for graph 2 is : 0.19996166229248047\n",
            "-------------------------------------------------------------------------------------\n",
            "Pn height for graph 3 is : 3\n",
            "Pn time for graph 3 is : 0.9993076324462891\n",
            "-------------------------------------------------------------------------------------\n",
            "Pn height for graph 4 is : 4\n",
            "Pn time for graph 4 is : 6.19654655456543\n",
            "-------------------------------------------------------------------------------------\n",
            "Pn height for graph 5 is : 5\n",
            "Pn time for graph 5 is : 18.28939914703369\n",
            "-------------------------------------------------------------------------------------\n",
            "Pn height for graph 6 is : 7\n",
            "Pn time for graph 6 is : 74.65717792510986\n",
            "-------------------------------------------------------------------------------------\n",
            "Pn height for graph 7 is : 8\n",
            "Pn time for graph 7 is : 598.158073425293\n",
            "-------------------------------------------------------------------------------------\n",
            "Pn height for graph 8 is : 9\n",
            "Pn time for graph 8 is : 5257.873749732971\n",
            "-------------------------------------------------------------------------------------\n",
            "Pn height for graph 9 is : 10\n",
            "Pn time for graph 9 is : 45711.10987663269\n",
            "-------------------------------------------------------------------------------------\n"
          ],
          "name": "stdout"
        }
      ]
    },
    {
      "cell_type": "markdown",
      "metadata": {
        "id": "cze29_-3aK4h"
      },
      "source": [
        "intento # 2"
      ]
    },
    {
      "cell_type": "code",
      "metadata": {
        "colab": {
          "base_uri": "https://localhost:8080/"
        },
        "id": "s0rmU5yPNg0M",
        "outputId": "727f7798-9bc7-45db-85db-b28e9af9119f"
      },
      "source": [
        "for i in range(5,20):\n",
        "  p = case(i)\n",
        "  l = ModifiedBFSPreSols(p)\n",
        "  print(\"Pn height for graph {0} is : {1}\".format( i , l[0]))\n",
        "  print(\"Pn time for graph {0} is : {1}\".format( i, l[1]))\n",
        "  print(\"-------------------------------------------------------------------------------------\")"
      ],
      "execution_count": 6,
      "outputs": [
        {
          "output_type": "stream",
          "text": [
            "Pn height for graph 5 is : 5\n",
            "Pn time for graph 5 is : 14.092016220092773\n",
            "-------------------------------------------------------------------------------------\n",
            "Pn height for graph 6 is : 7\n",
            "Pn time for graph 6 is : 65.76228141784668\n",
            "-------------------------------------------------------------------------------------\n",
            "Pn height for graph 7 is : 8\n",
            "Pn time for graph 7 is : 468.5316324234009\n",
            "-------------------------------------------------------------------------------------\n",
            "Pn height for graph 8 is : 9\n",
            "Pn time for graph 8 is : 3864.406633377075\n",
            "-------------------------------------------------------------------------------------\n",
            "Pn height for graph 9 is : 10\n",
            "Pn time for graph 9 is : 42311.47966384888\n",
            "-------------------------------------------------------------------------------------\n"
          ],
          "name": "stdout"
        },
        {
          "output_type": "stream",
          "text": [
            "\n",
            "KeyboardInterrupt\n",
            "\n"
          ],
          "name": "stderr"
        }
      ]
    },
    {
      "cell_type": "markdown",
      "metadata": {
        "id": "r5wuocMo9_n7"
      },
      "source": [
        "#*References*\n",
        "* Breadth First Search or BFS for a Graph https://www.geeksforgeeks.org/breadth-first-search-or-bfs-for-a-graph/\n",
        "\n",
        "* Graph visualization using Python https://www.youtube.com/watch?v=SpDI6-FvtJY\n",
        "\n",
        "* nikhilkumarsingh / PyDot-Examples https://github.com/nikhilkumarsingh/PyDot-Examples/blob/master/Directory_Structure_Plotter.ipynb\n",
        "\n",
        "* pydot https://pypi.org/project/pydot/\n",
        "\n",
        "* Graphviz https://www.graphviz.org/\n",
        "\n",
        "* NetworkX https://networkx.github.io/"
      ]
    }
  ]
}
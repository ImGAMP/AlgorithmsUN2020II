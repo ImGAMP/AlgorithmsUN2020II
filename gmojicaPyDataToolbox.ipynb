{
  "nbformat": 4,
  "nbformat_minor": 0,
  "metadata": {
    "celltoolbar": "Slideshow",
    "kernelspec": {
      "display_name": "Python 3",
      "language": "python",
      "name": "python3"
    },
    "language_info": {
      "codemirror_mode": {
        "name": "ipython",
        "version": 3
      },
      "file_extension": ".py",
      "mimetype": "text/x-python",
      "name": "python",
      "nbconvert_exporter": "python",
      "pygments_lexer": "ipython3",
      "version": "3.5.2"
    },
    "livereveal": {
      "start_slideshow_at": "selected"
    },
    "name": "Main.ipynb",
    "colab": {
      "name": "gmojicaPyDataToolboxSS-an (1).ipynb",
      "provenance": [],
      "collapsed_sections": [
        "dULHcoYr-Dak",
        "RDpRYDB1-Dal",
        "0xeVsbZ9-Da4",
        "jAZ_ikcV-Dbr",
        "mPTmGHFF-Db1",
        "qk1x856P-Db2",
        "_Z02iKvK-Dcc",
        "bBACKh4k-Dci",
        "JUElFYiy-Dci",
        "FicIU1PH-Dc4",
        "hZYiMD_R-Dc4",
        "6EsEcoyR-Dds",
        "cScYKuV0-Ddt",
        "1uh4vCdB-DeE",
        "VEu8jghb-DeG",
        "TW9eGKxM-DeR",
        "NqCuX3wN-DeR",
        "7b68i4b_-Dea",
        "59KN1plb-De5",
        "8_FfTkLl-DfQ",
        "AwTo7sl3-DfR"
      ],
      "toc_visible": true
    }
  },
  "cells": [
    {
      "cell_type": "markdown",
      "metadata": {
        "id": "HgTV3oIk-8N3",
        "colab_type": "text"
      },
      "source": [
        "# Instalación paquete para fortran"
      ]
    },
    {
      "cell_type": "markdown",
      "metadata": {
        "id": "_i8Z9XsOHUiR",
        "colab_type": "text"
      },
      "source": [
        "### **Redacted by** : *Gustavo Adolfo Mojica Perdigon*\n",
        "\n",
        
      ]
    },
    {
      "cell_type": "code",
      "metadata": {
        "id": "e3-mVl5v-HNF",
        "colab_type": "code",
        "colab": {
          "base_uri": "https://localhost:8080/",
          "height": 292
        },
        "outputId": "1fabd91d-e08e-4851-fdac-c82c7378c298"
      },
      "source": [
        "pip install -U fortran-magic"
      ],
      "execution_count": 3,
      "outputs": [
        {
          "output_type": "stream",
          "text": [
            "Requirement already up-to-date: fortran-magic in /usr/local/lib/python3.6/dist-packages (0.7)\n",
            "Requirement already satisfied, skipping upgrade: numpy in /usr/local/lib/python3.6/dist-packages (from fortran-magic) (1.18.5)\n",
            "Requirement already satisfied, skipping upgrade: ipython in /usr/local/lib/python3.6/dist-packages (from fortran-magic) (5.5.0)\n",
            "Requirement already satisfied, skipping upgrade: simplegeneric>0.8 in /usr/local/lib/python3.6/dist-packages (from ipython->fortran-magic) (0.8.1)\n",
            "Requirement already satisfied, skipping upgrade: decorator in /usr/local/lib/python3.6/dist-packages (from ipython->fortran-magic) (4.4.2)\n",
            "Requirement already satisfied, skipping upgrade: traitlets>=4.2 in /usr/local/lib/python3.6/dist-packages (from ipython->fortran-magic) (4.3.3)\n",
            "Requirement already satisfied, skipping upgrade: pexpect; sys_platform != \"win32\" in /usr/local/lib/python3.6/dist-packages (from ipython->fortran-magic) (4.8.0)\n",
            "Requirement already satisfied, skipping upgrade: setuptools>=18.5 in /usr/local/lib/python3.6/dist-packages (from ipython->fortran-magic) (49.6.0)\n",
            "Requirement already satisfied, skipping upgrade: pygments in /usr/local/lib/python3.6/dist-packages (from ipython->fortran-magic) (2.1.3)\n",
            "Requirement already satisfied, skipping upgrade: prompt-toolkit<2.0.0,>=1.0.4 in /usr/local/lib/python3.6/dist-packages (from ipython->fortran-magic) (1.0.18)\n",
            "Requirement already satisfied, skipping upgrade: pickleshare in /usr/local/lib/python3.6/dist-packages (from ipython->fortran-magic) (0.7.5)\n",
            "Requirement already satisfied, skipping upgrade: six in /usr/local/lib/python3.6/dist-packages (from traitlets>=4.2->ipython->fortran-magic) (1.15.0)\n",
            "Requirement already satisfied, skipping upgrade: ipython-genutils in /usr/local/lib/python3.6/dist-packages (from traitlets>=4.2->ipython->fortran-magic) (0.2.0)\n",
            "Requirement already satisfied, skipping upgrade: ptyprocess>=0.5 in /usr/local/lib/python3.6/dist-packages (from pexpect; sys_platform != \"win32\"->ipython->fortran-magic) (0.6.0)\n",
            "Requirement already satisfied, skipping upgrade: wcwidth in /usr/local/lib/python3.6/dist-packages (from prompt-toolkit<2.0.0,>=1.0.4->ipython->fortran-magic) (0.2.5)\n"
          ],
          "name": "stdout"
        }
      ]
    },
    {
      "cell_type": "code",
      "metadata": {
        "id": "zQGi-q8M-kbT",
        "colab_type": "code",
        "colab": {
          "base_uri": "https://localhost:8080/",
          "height": 71
        },
        "outputId": "db7fe7fa-495a-41ea-c592-8da6f713e491"
      },
      "source": [
        "%reload_ext fortranmagic"
      ],
      "execution_count": 4,
      "outputs": [
        {
          "output_type": "stream",
          "text": [
            "/usr/local/lib/python3.6/dist-packages/fortranmagic.py:147: UserWarning: get_ipython_cache_dir has moved to the IPython.paths module since IPython 4.0.\n",
            "  self._lib_dir = os.path.join(get_ipython_cache_dir(), 'fortran')\n"
          ],
          "name": "stderr"
        },
        {
          "output_type": "display_data",
          "data": {
            "application/javascript": [
              "$.getScript(\"https://raw.github.com/marijnh/CodeMirror/master/mode/fortran/fortran.js\", function () {\n",
              "IPython.config.cell_magic_highlight['magic_fortran'] = {'reg':[/^%%fortran/]};});\n"
            ]
          },
          "metadata": {
            "tags": []
          }
        }
      ]
    },
    {
      "cell_type": "code",
      "metadata": {
        "id": "xSoCWBSt-tT9",
        "colab_type": "code",
        "colab": {}
      },
      "source": [
        "import py_compile"
      ],
      "execution_count": 5,
      "outputs": []
    },
    {
      "cell_type": "markdown",
      "metadata": {
        "id": "3ssftNYZ-uGu",
        "colab_type": "text"
      },
      "source": [
        "# Inicio del notebook de Scott Sanderson"
      ]
    },
    {
      "cell_type": "code",
      "metadata": {
        "autoscroll": false,
        "ein.tags": "worksheet-0",
        "id": "RZCWCoot-DZY",
        "colab_type": "code",
        "colab": {
          "base_uri": "https://localhost:8080/",
          "height": 105
        },
        "outputId": "402ad944-d547-4d34-d852-73c8c25f2e33"
      },
      "source": [
        "%matplotlib inline\n",
        "%load_ext fortranmagic\n",
        "\n",
        "import sys; sys.path.append('..')\n",
        "\n",
        "import pandas as pd\n",
        "import numpy as np\n",
        "import matplotlib as mpl\n",
        "import matplotlib.pyplot as plt\n",
        "import seaborn as sns\n",
        "\n",
        "mpl.rc('figure', figsize=(12, 7))\n",
        "\n",
        "ran_the_first_cell = True\n",
        "\n",
        "jan2017 = pd.to_datetime(['2017-01-03 00:00:00+00:00',\n",
        " '2017-01-04 00:00:00+00:00',\n",
        " '2017-01-05 00:00:00+00:00',\n",
        " '2017-01-06 00:00:00+00:00',\n",
        " '2017-01-09 00:00:00+00:00',\n",
        " '2017-01-10 00:00:00+00:00',\n",
        " '2017-01-11 00:00:00+00:00',\n",
        " '2017-01-12 00:00:00+00:00',\n",
        " '2017-01-13 00:00:00+00:00',\n",
        " '2017-01-17 00:00:00+00:00',\n",
        " '2017-01-18 00:00:00+00:00',\n",
        " '2017-01-19 00:00:00+00:00',\n",
        " '2017-01-20 00:00:00+00:00',\n",
        " '2017-01-23 00:00:00+00:00',\n",
        " '2017-01-24 00:00:00+00:00',\n",
        " '2017-01-25 00:00:00+00:00',\n",
        " '2017-01-26 00:00:00+00:00',\n",
        " '2017-01-27 00:00:00+00:00',\n",
        " '2017-01-30 00:00:00+00:00',\n",
        " '2017-01-31 00:00:00+00:00',\n",
        " '2017-02-01 00:00:00+00:00'])\n",
        "calendar = jan2017.values.astype('datetime64[D]')\n",
        "\n",
        "event_dates = pd.to_datetime(['2017-01-06 00:00:00+00:00', \n",
        "                             '2017-01-07 00:00:00+00:00', \n",
        "                             '2017-01-08 00:00:00+00:00']).values.astype('datetime64[D]')\n",
        "event_values = np.array([10, 15, 20])"
      ],
      "execution_count": 6,
      "outputs": [
        {
          "output_type": "stream",
          "text": [
            "The fortranmagic extension is already loaded. To reload it, use:\n",
            "  %reload_ext fortranmagic\n"
          ],
          "name": "stdout"
        },
        {
          "output_type": "stream",
          "text": [
            "/usr/local/lib/python3.6/dist-packages/statsmodels/tools/_testing.py:19: FutureWarning: pandas.util.testing is deprecated. Use the functions in the public API at pandas.testing instead.\n",
            "  import pandas.util.testing as tm\n"
          ],
          "name": "stderr"
        }
      ]
    },
    {
      "cell_type": "code",
      "metadata": {
        "id": "ylmAHRL_J4yd",
        "colab_type": "code",
        "colab": {}
      },
      "source": [
        "# Modificación @gmojica\n",
        "jan2018 = pd.to_datetime(['2018-01-03 00:00:00+00:00',\n",
        " '2018-01-04 00:00:00+00:00',\n",
        " '2018-01-05 00:00:00+00:00',\n",
        " '2018-01-06 00:00:00+00:00',\n",
        " '2018-01-09 00:00:00+00:00',\n",
        " '2018-01-10 00:00:00+00:00',\n",
        " '2018-01-11 00:00:00+00:00',\n",
        " '2018-01-12 00:00:00+00:00',\n",
        " '2018-01-13 00:00:00+00:00',\n",
        " '2018-01-17 00:00:00+00:00',\n",
        " '2018-01-18 00:00:00+00:00',\n",
        " '2018-01-19 00:00:00+00:00',\n",
        " '2018-01-20 00:00:00+00:00',\n",
        " '2018-01-23 00:00:00+00:00',\n",
        " '2018-01-24 00:00:00+00:00',\n",
        " '2018-01-25 00:00:00+00:00',\n",
        " '2018-01-26 00:00:00+00:00',\n",
        " '2018-01-27 00:00:00+00:00',\n",
        " '2018-01-30 00:00:00+00:00',\n",
        " '2018-01-31 00:00:00+00:00',\n",
        " '2018-02-01 00:00:00+00:00'])\n",
        "calendar18 = jan2018.values.astype('datetime64[D]')\n",
        "\n",
        "event_dates18 = pd.to_datetime(['2018-01-06 00:00:00+00:00', \n",
        "                             '2018-01-07 00:00:00+00:00', \n",
        "                             '2018-01-08 00:00:00+00:00']).values.astype('datetime64[D]')\n",
        "event_values18 = np.array([10, 15, 20])"
      ],
      "execution_count": 7,
      "outputs": []
    },
    {
      "cell_type": "markdown",
      "metadata": {
        "ein.tags": "worksheet-0",
        "id": "QaVoBXfv-DZn",
        "colab_type": "text"
      },
      "source": [
        "<center>\n",
        "  <h1>The PyData Toolbox</h1>\n",
        "  <h3>Scott Sanderson (Twitter: @scottbsanderson, GitHub: ssanderson)</h3>\n",
        "  <h3><a href=\"https://github.com/ssanderson/pydata-toolbox\">https://github.com/ssanderson/pydata-toolbox</a></h3>\n",
        "</center>"
      ]
    },
    {
      "cell_type": "markdown",
      "metadata": {
        "collapsed": true,
        "ein.tags": "worksheet-0",
        "id": "ZxVF9-oF-DZo",
        "colab_type": "text"
      },
      "source": [
        "# About Me:\n",
        "\n",
        "<img src=\"https://github.com/ssanderson/pydata-toolbox/blob/master/notebooks/images/me.jpg?raw=1\" alt=\"Drawing\" style=\"width: 300px;\"/>\n",
        "\n",
        "- Senior Engineer at [Quantopian](www.quantopian.com)\n",
        "- Background in Mathematics and Philosophy\n",
        "- **Twitter:** [@scottbsanderson](https://twitter.com/scottbsanderson)\n",
        "- **GitHub:** [ssanderson](github.com/ssanderson)"
      ]
    },
    {
      "cell_type": "markdown",
      "metadata": {
        "id": "a5NC59DZ-DZp",
        "colab_type": "text"
      },
      "source": [
        "## Outline\n",
        "\n",
        "- Built-in Data Structures\n",
        "- Numpy `array`\n",
        "- Pandas `Series`/`DataFrame`\n",
        "- Plotting and \"Real-World\" Analyses"
      ]
    },
    {
      "cell_type": "markdown",
      "metadata": {
        "id": "YwSUxH69-DZr",
        "colab_type": "text"
      },
      "source": [
        "# Data Structures"
      ]
    },
    {
      "cell_type": "markdown",
      "metadata": {
        "id": "GVPjqpzK-DZs",
        "colab_type": "text"
      },
      "source": [
        "> Rule 5. Data dominates. If you've chosen the right data structures and organized things well, the algorithms\n",
        "will almost always be self-evident. Data structures, not algorithms, are central to programming.\n",
        "\n",
        "- *Notes on Programming in C*, by Rob Pike."
      ]
    },
    {
      "cell_type": "markdown",
      "metadata": {
        "id": "-qhRlBVs-DZt",
        "colab_type": "text"
      },
      "source": [
        "# Lists"
      ]
    },
    {
      "cell_type": "code",
      "metadata": {
        "id": "6TyerEYj-DZu",
        "colab_type": "code",
        "colab": {}
      },
      "source": [
        "assert ran_the_first_cell, \"Oh noes!\""
      ],
      "execution_count": 8,
      "outputs": []
    },
    {
      "cell_type": "code",
      "metadata": {
        "id": "Tb2sOm5E-DZz",
        "colab_type": "code",
        "colab": {
          "base_uri": "https://localhost:8080/",
          "height": 0
        },
        "outputId": "8c1cff1e-c22e-407d-fdf4-97918ab11798"
      },
      "source": [
        "l = [1, 'two', 3.0, 4, 5.0, \"six\"]\n",
        "l"
      ],
      "execution_count": 9,
      "outputs": [
        {
          "output_type": "execute_result",
          "data": {
            "text/plain": [
              "[1, 'two', 3.0, 4, 5.0, 'six']"
            ]
          },
          "metadata": {
            "tags": []
          },
          "execution_count": 9
        }
      ]
    },
    {
      "cell_type": "code",
      "metadata": {
        "id": "pc6_yHcZKuEX",
        "colab_type": "code",
        "colab": {}
      },
      "source": [
        ""
      ],
      "execution_count": 9,
      "outputs": []
    },
    {
      "cell_type": "code",
      "metadata": {
        "id": "x1hhyYNZ-DZ4",
        "colab_type": "code",
        "colab": {
          "base_uri": "https://localhost:8080/",
          "height": 0
        },
        "outputId": "88e7301d-34e6-4383-bad6-4e2b2b33a65f"
      },
      "source": [
        "# Lists can be indexed like C-style arrays.\n",
        "first = l[0]\n",
        "second = l[1]\n",
        "print(\"first:\", first)\n",
        "print(\"second:\", second)"
      ],
      "execution_count": 10,
      "outputs": [
        {
          "output_type": "stream",
          "text": [
            "first: 1\n",
            "second: two\n"
          ],
          "name": "stdout"
        }
      ]
    },
    {
      "cell_type": "code",
      "metadata": {
        "id": "ALeyMcvvLkz3",
        "colab_type": "code",
        "colab": {}
      },
      "source": [
        ""
      ],
      "execution_count": 10,
      "outputs": []
    },
    {
      "cell_type": "code",
      "metadata": {
        "id": "PcsMSwar-DZ-",
        "colab_type": "code",
        "colab": {
          "base_uri": "https://localhost:8080/",
          "height": 0
        },
        "outputId": "3944dbf9-ed61-492a-be76-882906f7bbbf"
      },
      "source": [
        "# Negative indexing gives elements relative to the end of the list.\n",
        "last = l[-1]\n",
        "penultimate = l[-2]\n",
        "print(\"last:\", last)\n",
        "print(\"second to last:\", penultimate)"
      ],
      "execution_count": 11,
      "outputs": [
        {
          "output_type": "stream",
          "text": [
            "last: six\n",
            "second to last: 5.0\n"
          ],
          "name": "stdout"
        }
      ]
    },
    {
      "cell_type": "code",
      "metadata": {
        "id": "O7xOw8F8L6VT",
        "colab_type": "code",
        "colab": {}
      },
      "source": [
        ""
      ],
      "execution_count": 11,
      "outputs": []
    },
    {
      "cell_type": "code",
      "metadata": {
        "id": "2k8A6xLN-DaD",
        "colab_type": "code",
        "colab": {
          "base_uri": "https://localhost:8080/",
          "height": 0
        },
        "outputId": "427477c1-e383-4846-d0bd-b704f2f72bb9"
      },
      "source": [
        "# Lists can also be sliced, which makes a copy of elements between \n",
        "# start (inclusive) and stop (exclusive)\n",
        "sublist = l[1:3]\n",
        "sublist"
      ],
      "execution_count": 12,
      "outputs": [
        {
          "output_type": "execute_result",
          "data": {
            "text/plain": [
              "['two', 3.0]"
            ]
          },
          "metadata": {
            "tags": []
          },
          "execution_count": 12
        }
      ]
    },
    {
      "cell_type": "code",
      "metadata": {
        "id": "ylWWGr5PMK87",
        "colab_type": "code",
        "colab": {}
      },
      "source": [
        ""
      ],
      "execution_count": 12,
      "outputs": []
    },
    {
      "cell_type": "code",
      "metadata": {
        "id": "oIugZ8fs-DaI",
        "colab_type": "code",
        "colab": {
          "base_uri": "https://localhost:8080/",
          "height": 0
        },
        "outputId": "17340536-27b3-4915-be99-afcc3e0e3cf0"
      },
      "source": [
        "# l[:N] is equivalent to l[0:N].\n",
        "first_three = l[:3]\n",
        "first_three"
      ],
      "execution_count": 13,
      "outputs": [
        {
          "output_type": "execute_result",
          "data": {
            "text/plain": [
              "[1, 'two', 3.0]"
            ]
          },
          "metadata": {
            "tags": []
          },
          "execution_count": 13
        }
      ]
    },
    {
      "cell_type": "code",
      "metadata": {
        "id": "99jKT-XQMTkW",
        "colab_type": "code",
        "colab": {}
      },
      "source": [
        ""
      ],
      "execution_count": 13,
      "outputs": []
    },
    {
      "cell_type": "code",
      "metadata": {
        "id": "ZrfHjUxk-DaN",
        "colab_type": "code",
        "colab": {
          "base_uri": "https://localhost:8080/",
          "height": 0
        },
        "outputId": "40d1a255-9586-4752-b382-fd00df823af3"
      },
      "source": [
        "# l[3:] is equivalent to l[3:len(l)].\n",
        "after_three = l[3:]\n",
        "after_three"
      ],
      "execution_count": 14,
      "outputs": [
        {
          "output_type": "execute_result",
          "data": {
            "text/plain": [
              "[4, 5.0, 'six']"
            ]
          },
          "metadata": {
            "tags": []
          },
          "execution_count": 14
        }
      ]
    },
    {
      "cell_type": "code",
      "metadata": {
        "id": "en2tyYYCMcyC",
        "colab_type": "code",
        "colab": {}
      },
      "source": [
        ""
      ],
      "execution_count": 14,
      "outputs": []
    },
    {
      "cell_type": "code",
      "metadata": {
        "id": "3YUgNG49-DaR",
        "colab_type": "code",
        "colab": {
          "base_uri": "https://localhost:8080/",
          "height": 0
        },
        "outputId": "8332787c-099f-49d1-9971-4f99b7f4860a"
      },
      "source": [
        "# There's also a third parameter, \"step\", which gets every Nth element.\n",
        "l = ['a', 'b', 'c', 'd', 'e', 'f', 'g','h']\n",
        "l[1:7:2]"
      ],
      "execution_count": 15,
      "outputs": [
        {
          "output_type": "execute_result",
          "data": {
            "text/plain": [
              "['b', 'd', 'f']"
            ]
          },
          "metadata": {
            "tags": []
          },
          "execution_count": 15
        }
      ]
    },
    {
      "cell_type": "code",
      "metadata": {
        "id": "jNixEr4UMjGF",
        "colab_type": "code",
        "colab": {}
      },
      "source": [
        ""
      ],
      "execution_count": 15,
      "outputs": []
    },
    {
      "cell_type": "code",
      "metadata": {
        "id": "BWXPv6if-DaW",
        "colab_type": "code",
        "colab": {
          "base_uri": "https://localhost:8080/",
          "height": 0
        },
        "outputId": "4f6ee91a-77f1-4495-f8a5-a5d682ef902d"
      },
      "source": [
        "# This is a cute way to reverse a list.\n",
        "l[::-1]"
      ],
      "execution_count": 16,
      "outputs": [
        {
          "output_type": "execute_result",
          "data": {
            "text/plain": [
              "['h', 'g', 'f', 'e', 'd', 'c', 'b', 'a']"
            ]
          },
          "metadata": {
            "tags": []
          },
          "execution_count": 16
        }
      ]
    },
    {
      "cell_type": "code",
      "metadata": {
        "id": "Z_YQZlJmM53l",
        "colab_type": "code",
        "colab": {}
      },
      "source": [
        ""
      ],
      "execution_count": 16,
      "outputs": []
    },
    {
      "cell_type": "code",
      "metadata": {
        "id": "7dzBIjXh-Daa",
        "colab_type": "code",
        "colab": {
          "base_uri": "https://localhost:8080/",
          "height": 0
        },
        "outputId": "c9b8b341-4664-42d1-bacc-e77e01ea7c8c"
      },
      "source": [
        "# Lists can be grown efficiently (in O(1) amortized time).\n",
        "l = [1, 2, 3, 4, 5]\n",
        "print(\"Before:\", l)\n",
        "l.append('six')\n",
        "print(\"After:\", l)"
      ],
      "execution_count": 17,
      "outputs": [
        {
          "output_type": "stream",
          "text": [
            "Before: [1, 2, 3, 4, 5]\n",
            "After: [1, 2, 3, 4, 5, 'six']\n"
          ],
          "name": "stdout"
        }
      ]
    },
    {
      "cell_type": "code",
      "metadata": {
        "id": "LDCZtB2xM9op",
        "colab_type": "code",
        "colab": {}
      },
      "source": [
        ""
      ],
      "execution_count": 17,
      "outputs": []
    },
    {
      "cell_type": "code",
      "metadata": {
        "id": "o14Fmqmv-Dag",
        "colab_type": "code",
        "colab": {
          "base_uri": "https://localhost:8080/",
          "height": 0
        },
        "outputId": "1baf65b7-0f15-4557-9d50-de05697e27ae"
      },
      "source": [
        "# Comprehensions let us perform elementwise computations.\n",
        "l = [1, 2, 3, 4, 5]\n",
        "[x * 2 for x in l]"
      ],
      "execution_count": 18,
      "outputs": [
        {
          "output_type": "execute_result",
          "data": {
            "text/plain": [
              "[2, 4, 6, 8, 10]"
            ]
          },
          "metadata": {
            "tags": []
          },
          "execution_count": 18
        }
      ]
    },
    {
      "cell_type": "code",
      "metadata": {
        "id": "QHW9mQj8NdGN",
        "colab_type": "code",
        "colab": {}
      },
      "source": [
        ""
      ],
      "execution_count": 18,
      "outputs": []
    },
    {
      "cell_type": "markdown",
      "metadata": {
        "ein.tags": "worksheet-0",
        "id": "dULHcoYr-Dak",
        "colab_type": "text"
      },
      "source": [
        "## Review: Python Lists\n",
        "\n",
        "- Zero-indexed sequence of arbitrary Python values.\n",
        "- Slicing syntax: `l[start:stop:step]` copies elements at regular intervals from `start` to `stop`.\n",
        "- Efficient (`O(1)`) appends and removes from end.\n",
        "- Comprehension syntax: `[f(x) for x in l if cond(x)]`."
      ]
    },
    {
      "cell_type": "markdown",
      "metadata": {
        "id": "j7kNadDpohdz",
        "colab_type": "text"
      },
      "source": [
        ""
      ]
    },
    {
      "cell_type": "markdown",
      "metadata": {
        "id": "NcyJofhupDSO",
        "colab_type": "text"
      },
      "source": [
        "#MyLists\n"
      ]
    },
    {
      "cell_type": "code",
      "metadata": {
        "id": "-2Fa94LVpNWn",
        "colab_type": "code",
        "colab": {}
      },
      "source": [
        "assert ran_the_first_cell, 'Oh shit!'"
      ],
      "execution_count": 19,
      "outputs": []
    },
    {
      "cell_type": "code",
      "metadata": {
        "id": "5vbyfs-0qwun",
        "colab_type": "code",
        "colab": {
          "base_uri": "https://localhost:8080/",
          "height": 0
        },
        "outputId": "4fa31ae4-69f5-4cec-f47c-7621cc97e15b"
      },
      "source": [
        "g = [69 , \"yaoi\", 11.6, 43, \"jule\", 7.2]\n",
        "g"
      ],
      "execution_count": 20,
      "outputs": [
        {
          "output_type": "execute_result",
          "data": {
            "text/plain": [
              "[69, 'yaoi', 11.6, 43, 'jule', 7.2]"
            ]
          },
          "metadata": {
            "tags": []
          },
          "execution_count": 20
        }
      ]
    },
    {
      "cell_type": "code",
      "metadata": {
        "id": "0Am0cQ9nrMWo",
        "colab_type": "code",
        "colab": {
          "base_uri": "https://localhost:8080/",
          "height": 0
        },
        "outputId": "1f3e6ead-f385-42f3-983a-8cd78c90b927"
      },
      "source": [
        "f1 = g[0]\n",
        "f2 = g[1]\n",
        "print (\"First: \" , f1)\n",
        "print (\"Second: \", f2)"
      ],
      "execution_count": 21,
      "outputs": [
        {
          "output_type": "stream",
          "text": [
            "First:  69\n",
            "Second:  yaoi\n"
          ],
          "name": "stdout"
        }
      ]
    },
    {
      "cell_type": "code",
      "metadata": {
        "id": "UwkB5y-arrFj",
        "colab_type": "code",
        "colab": {
          "base_uri": "https://localhost:8080/",
          "height": 0
        },
        "outputId": "381b2e1d-a8ac-480d-c792-0d0bbf95ae44"
      },
      "source": [
        "fn = g[-1]\n",
        "fn1 = g[-2]\n",
        "print(\"Last: \", fn)\n",
        "print(\"Second to last: \", fn1)"
      ],
      "execution_count": 22,
      "outputs": [
        {
          "output_type": "stream",
          "text": [
            "Last:  7.2\n",
            "Second to last:  jule\n"
          ],
          "name": "stdout"
        }
      ]
    },
    {
      "cell_type": "code",
      "metadata": {
        "id": "wAPO7oOZvQb2",
        "colab_type": "code",
        "colab": {
          "base_uri": "https://localhost:8080/",
          "height": 0
        },
        "outputId": "6d64a0f7-0f5b-4f61-b06a-1066a05aec0e"
      },
      "source": [
        "subg = g[2:5]\n",
        "subg"
      ],
      "execution_count": 23,
      "outputs": [
        {
          "output_type": "execute_result",
          "data": {
            "text/plain": [
              "[11.6, 43, 'jule']"
            ]
          },
          "metadata": {
            "tags": []
          },
          "execution_count": 23
        }
      ]
    },
    {
      "cell_type": "code",
      "metadata": {
        "id": "K92sEBlXvdBA",
        "colab_type": "code",
        "colab": {
          "base_uri": "https://localhost:8080/",
          "height": 0
        },
        "outputId": "147368f3-1e21-4b8b-e663-307508d4c34e"
      },
      "source": [
        "f5s = g[:5]\n",
        "f5s"
      ],
      "execution_count": 24,
      "outputs": [
        {
          "output_type": "execute_result",
          "data": {
            "text/plain": [
              "[69, 'yaoi', 11.6, 43, 'jule']"
            ]
          },
          "metadata": {
            "tags": []
          },
          "execution_count": 24
        }
      ]
    },
    {
      "cell_type": "code",
      "metadata": {
        "id": "SHsa1dQCv3qF",
        "colab_type": "code",
        "colab": {
          "base_uri": "https://localhost:8080/",
          "height": 0
        },
        "outputId": "63d5aa39-bb83-455d-c591-f237785d2022"
      },
      "source": [
        "l4s = g[4:]\n",
        "l4s"
      ],
      "execution_count": 25,
      "outputs": [
        {
          "output_type": "execute_result",
          "data": {
            "text/plain": [
              "['jule', 7.2]"
            ]
          },
          "metadata": {
            "tags": []
          },
          "execution_count": 25
        }
      ]
    },
    {
      "cell_type": "code",
      "metadata": {
        "id": "JPGT1jogwEXT",
        "colab_type": "code",
        "colab": {
          "base_uri": "https://localhost:8080/",
          "height": 0
        },
        "outputId": "32241c60-2210-4b04-8117-14f84506d0d8"
      },
      "source": [
        "g = ['Z','Y','X','W','V','U','T','S']\n",
        "g[0:3:2]"
      ],
      "execution_count": 26,
      "outputs": [
        {
          "output_type": "execute_result",
          "data": {
            "text/plain": [
              "['Z', 'X']"
            ]
          },
          "metadata": {
            "tags": []
          },
          "execution_count": 26
        }
      ]
    },
    {
      "cell_type": "code",
      "metadata": {
        "id": "3Nwtq2m4xD_7",
        "colab_type": "code",
        "colab": {
          "base_uri": "https://localhost:8080/",
          "height": 0
        },
        "outputId": "df8e58b9-9d27-49bc-bc92-af2e78220a26"
      },
      "source": [
        "# Colocar al reves g\n",
        "gr = g[::-1]\n",
        "gr"
      ],
      "execution_count": 27,
      "outputs": [
        {
          "output_type": "execute_result",
          "data": {
            "text/plain": [
              "['S', 'T', 'U', 'V', 'W', 'X', 'Y', 'Z']"
            ]
          },
          "metadata": {
            "tags": []
          },
          "execution_count": 27
        }
      ]
    },
    {
      "cell_type": "code",
      "metadata": {
        "id": "pP3_Y-WFxWtg",
        "colab_type": "code",
        "colab": {
          "base_uri": "https://localhost:8080/",
          "height": 0
        },
        "outputId": "4eeb3aa0-74bc-49bc-fd18-536927c0e2fd"
      },
      "source": [
        "g = [123, 654, 65, 245, 654,\"hol\",23,False]\n",
        "print(\"Before:\", g)\n",
        "g.append('Five')\n",
        "g.append(False)\n",
        "print(\"After:\", g)"
      ],
      "execution_count": 28,
      "outputs": [
        {
          "output_type": "stream",
          "text": [
            "Before: [123, 654, 65, 245, 654, 'hol', 23, False]\n",
            "After: [123, 654, 65, 245, 654, 'hol', 23, False, 'Five', False]\n"
          ],
          "name": "stdout"
        }
      ]
    },
    {
      "cell_type": "code",
      "metadata": {
        "id": "_VM6EEAbyiOn",
        "colab_type": "code",
        "colab": {
          "base_uri": "https://localhost:8080/",
          "height": 0
        },
        "outputId": "211bd36b-15df-4e2e-a9f5-29f0954afd0c"
      },
      "source": [
        "g = [-4, 2.5, 67, 6.2, -9]\n",
        "[(x**2.4 - 4) for x in g]"
      ],
      "execution_count": 29,
      "outputs": [
        {
          "output_type": "execute_result",
          "data": {
            "text/plain": [
              "[(4.608477392677949+26.49416915159025j),\n",
              " 5.016874411920083,\n",
              " 24127.2337482305,\n",
              " 75.75171936932419,\n",
              " (56.27877067602449+185.51898015076281j)]"
            ]
          },
          "metadata": {
            "tags": []
          },
          "execution_count": 29
        }
      ]
    },
    {
      "cell_type": "markdown",
      "metadata": {
        "id": "RDpRYDB1-Dal",
        "colab_type": "text"
      },
      "source": [
        "# Dictionaries"
      ]
    },
    {
      "cell_type": "code",
      "metadata": {
        "id": "HupPosY6-Dam",
        "colab_type": "code",
        "colab": {
          "base_uri": "https://localhost:8080/",
          "height": 0
        },
        "outputId": "64e2d8fc-bbbb-4448-8a5b-4004798f496d"
      },
      "source": [
        "# Dictionaries are key-value mappings.\n",
        "philosophers = {'David': 'Hume', 'Immanuel': 'Kant', 'Bertrand': 'Russell'}\n",
        "philosophers"
      ],
      "execution_count": 30,
      "outputs": [
        {
          "output_type": "execute_result",
          "data": {
            "text/plain": [
              "{'Bertrand': 'Russell', 'David': 'Hume', 'Immanuel': 'Kant'}"
            ]
          },
          "metadata": {
            "tags": []
          },
          "execution_count": 30
        }
      ]
    },
    {
      "cell_type": "code",
      "metadata": {
        "id": "KEHpvIcFNqdV",
        "colab_type": "code",
        "colab": {}
      },
      "source": [
        ""
      ],
      "execution_count": 30,
      "outputs": []
    },
    {
      "cell_type": "code",
      "metadata": {
        "id": "_EwXwTPu-Daq",
        "colab_type": "code",
        "colab": {
          "base_uri": "https://localhost:8080/",
          "height": 0
        },
        "outputId": "bc09a389-0932-4a57-e31a-c99629fbc97d"
      },
      "source": [
        "# Like lists, dictionaries are size-mutable.\n",
        "philosophers['Ludwig'] = 'Wittgenstein'\n",
        "philosophers"
      ],
      "execution_count": 31,
      "outputs": [
        {
          "output_type": "execute_result",
          "data": {
            "text/plain": [
              "{'Bertrand': 'Russell',\n",
              " 'David': 'Hume',\n",
              " 'Immanuel': 'Kant',\n",
              " 'Ludwig': 'Wittgenstein'}"
            ]
          },
          "metadata": {
            "tags": []
          },
          "execution_count": 31
        }
      ]
    },
    {
      "cell_type": "code",
      "metadata": {
        "id": "KWy-8n3hOudH",
        "colab_type": "code",
        "colab": {}
      },
      "source": [
        "\n"
      ],
      "execution_count": 31,
      "outputs": []
    },
    {
      "cell_type": "code",
      "metadata": {
        "id": "MaGL2pgu-Dav",
        "colab_type": "code",
        "colab": {
          "base_uri": "https://localhost:8080/",
          "height": 0
        },
        "outputId": "cdb55510-63ab-437d-c3cb-e9ddd6c3edee"
      },
      "source": [
        "del philosophers['David']\n",
        "philosophers"
      ],
      "execution_count": 32,
      "outputs": [
        {
          "output_type": "execute_result",
          "data": {
            "text/plain": [
              "{'Bertrand': 'Russell', 'Immanuel': 'Kant', 'Ludwig': 'Wittgenstein'}"
            ]
          },
          "metadata": {
            "tags": []
          },
          "execution_count": 32
        }
      ]
    },
    {
      "cell_type": "code",
      "metadata": {
        "id": "vJKRZrMgPKrr",
        "colab_type": "code",
        "colab": {}
      },
      "source": [
        ""
      ],
      "execution_count": 32,
      "outputs": []
    },
    {
      "cell_type": "code",
      "metadata": {
        "id": "xDa-SWBA-Daz",
        "colab_type": "code",
        "colab": {
          "base_uri": "https://localhost:8080/",
          "height": 0
        },
        "outputId": "37b464a7-c550-4e12-ea81-490f954b18f9"
      },
      "source": [
        "# No slicing.\n",
        "philosophers['Bertrand':'Immanuel']"
      ],
      "execution_count": 33,
      "outputs": [
        {
          "output_type": "error",
          "ename": "TypeError",
          "evalue": "ignored",
          "traceback": [
            "\u001b[0;31m---------------------------------------------------------------------------\u001b[0m",
            "\u001b[0;31mTypeError\u001b[0m                                 Traceback (most recent call last)",
            "\u001b[0;32m<ipython-input-33-042d882bd6b0>\u001b[0m in \u001b[0;36m<module>\u001b[0;34m()\u001b[0m\n\u001b[1;32m      1\u001b[0m \u001b[0;31m# No slicing.\u001b[0m\u001b[0;34m\u001b[0m\u001b[0;34m\u001b[0m\u001b[0;34m\u001b[0m\u001b[0m\n\u001b[0;32m----> 2\u001b[0;31m \u001b[0mphilosophers\u001b[0m\u001b[0;34m[\u001b[0m\u001b[0;34m'Bertrand'\u001b[0m\u001b[0;34m:\u001b[0m\u001b[0;34m'Immanuel'\u001b[0m\u001b[0;34m]\u001b[0m\u001b[0;34m\u001b[0m\u001b[0;34m\u001b[0m\u001b[0m\n\u001b[0m",
            "\u001b[0;31mTypeError\u001b[0m: unhashable type: 'slice'"
          ]
        }
      ]
    },
    {
      "cell_type": "code",
      "metadata": {
        "id": "DN5WsHj_PWJ7",
        "colab_type": "code",
        "colab": {}
      },
      "source": [
        ""
      ],
      "execution_count": null,
      "outputs": []
    },
    {
      "cell_type": "markdown",
      "metadata": {
        "ein.tags": "worksheet-0",
        "id": "0xeVsbZ9-Da4",
        "colab_type": "text"
      },
      "source": [
        "## Review: Python Dictionaries\n",
        "\n",
        "- Unordered key-value mapping from (almost) arbitrary keys to arbitrary values.\n",
        "- Efficient (`O(1)`) lookup, insertion, and deletion.\n",
        "- No slicing (would require a notion of order)."
      ]
    },
    {
      "cell_type": "markdown",
      "metadata": {
        "id": "Paa89FcZ-Da4",
        "colab_type": "text"
      },
      "source": [
        "<center><img src=\"https://github.com/ssanderson/pydata-toolbox/blob/master/notebooks/images/pacino.gif?raw=1\" alt=\"Drawing\" style=\"width: 100%;\"/></center>\n"
      ]
    },
    {
      "cell_type": "code",
      "metadata": {
        "id": "jSRyblqf-Da5",
        "colab_type": "code",
        "colab": {}
      },
      "source": [
        "# Suppose we have some matrices...\n",
        "a = [[1, 2, 3],\n",
        "     [2, 3, 4],\n",
        "     [5, 6, 7],\n",
        "     [1, 1, 1]]\n",
        "\n",
        "b = [[1, 2, 3, 4],\n",
        "     [2, 3, 4, 5]]"
      ],
      "execution_count": null,
      "outputs": []
    },
    {
      "cell_type": "code",
      "metadata": {
        "id": "W9U_BnyzPk2F",
        "colab_type": "code",
        "colab": {}
      },
      "source": [
        "# Modificacion @andiazo\n",
        "c = [[3, 2, 1],\n",
        "     [4, 3, 2],\n",
        "     [2, 2, 2],\n",
        "     [5, 1, 5]]\n",
        "\n",
        "d = [[1, 2, 2, 1],\n",
        "     [2, 4, 6, 8]]"
      ],
      "execution_count": null,
      "outputs": []
    },
    {
      "cell_type": "code",
      "metadata": {
        "id": "mnhuRO_P-Da-",
        "colab_type": "code",
        "colab": {}
      },
      "source": [
        "def matmul(A, B):\n",
        "    \"\"\"Multiply matrix A by matrix B.\"\"\"\n",
        "    rows_out = len(A)\n",
        "    cols_out = len(B[0])\n",
        "    out = [[0 for col in range(cols_out)] for row in range(rows_out)]\n",
        "    \n",
        "    for i in range(rows_out):\n",
        "        for j in range(cols_out):\n",
        "            for k in range(len(B)):\n",
        "                out[i][j] += A[i][k] * B[k][j]\n",
        "    return out"
      ],
      "execution_count": null,
      "outputs": []
    },
    {
      "cell_type": "markdown",
      "metadata": {
        "id": "e-agn-Jb-DbC",
        "colab_type": "text"
      },
      "source": [
        "<center><img src=\"https://github.com/ssanderson/pydata-toolbox/blob/master/notebooks/images/gross.gif?raw=1\" alt=\"Drawing\" style=\"width: 50%;\"/></center>\n"
      ]
    },
    {
      "cell_type": "code",
      "metadata": {
        "id": "0KRdbPB2-DbD",
        "colab_type": "code",
        "colab": {}
      },
      "source": [
        "%%time\n",
        "\n",
        "matmul(a, b)"
      ],
      "execution_count": null,
      "outputs": []
    },
    {
      "cell_type": "code",
      "metadata": {
        "id": "aeUa5CcTQ0FD",
        "colab_type": "code",
        "colab": {}
      },
      "source": [
        "# Modificacion @andiazo\n",
        "%%time\n",
        "\n",
        "matmul(c, d)"
      ],
      "execution_count": null,
      "outputs": []
    },
    {
      "cell_type": "code",
      "metadata": {
        "id": "bsBxTno8-DbJ",
        "colab_type": "code",
        "colab": {}
      },
      "source": [
        "import random\n",
        "def random_matrix(m, n):\n",
        "    out = []\n",
        "    for row in range(m):\n",
        "        out.append([random.random() for _ in range(n)])\n",
        "    return out\n",
        "\n",
        "randm = random_matrix(2, 3)\n",
        "randm"
      ],
      "execution_count": null,
      "outputs": []
    },
    {
      "cell_type": "code",
      "metadata": {
        "id": "jxTKGQbORFiq",
        "colab_type": "code",
        "colab": {}
      },
      "source": [
        "# Modificacion @andiazo\n",
        "randm2 = random_matrix(2, 3)"
      ],
      "execution_count": null,
      "outputs": []
    },
    {
      "cell_type": "code",
      "metadata": {
        "scrolled": true,
        "id": "mEDTGfVu-DbN",
        "colab_type": "code",
        "colab": {}
      },
      "source": [
        "%%time\n",
        "randa = random_matrix(600, 100)\n",
        "randb = random_matrix(100, 600)\n",
        "x = matmul(randa, randb)"
      ],
      "execution_count": null,
      "outputs": []
    },
    {
      "cell_type": "code",
      "metadata": {
        "id": "7ORsLvcIRMqO",
        "colab_type": "code",
        "colab": {}
      },
      "source": [
        "# Modificacion @andiazo\n",
        "%%time\n",
        "randc = random_matrix(350, 200)\n",
        "randd = random_matrix(200, 350)\n",
        "y = matmul(randc, randd)"
      ],
      "execution_count": null,
      "outputs": []
    },
    {
      "cell_type": "code",
      "metadata": {
        "id": "OU2KdoA--DbQ",
        "colab_type": "code",
        "colab": {}
      },
      "source": [
        "# Maybe that's not that bad?  Let's try a simpler case.\n",
        "def python_dot_product(xs, ys):\n",
        "    return sum(x * y for x, y in zip(xs, ys))"
      ],
      "execution_count": null,
      "outputs": []
    },
    {
      "cell_type": "code",
      "metadata": {
        "id": "oqlbFL4D-DbU",
        "colab_type": "code",
        "colab": {}
      },
      "source": [
        "%%fortran\n",
        "subroutine fortran_dot_product(xs, ys, result)\n",
        "    double precision, intent(in) :: xs(:)\n",
        "    double precision, intent(in) :: ys(:)\n",
        "    double precision, intent(out) :: result\n",
        "    \n",
        "    result = sum(xs * ys)\n",
        "end"
      ],
      "execution_count": null,
      "outputs": []
    },
    {
      "cell_type": "code",
      "metadata": {
        "id": "wcCXCfv4-Dba",
        "colab_type": "code",
        "colab": {}
      },
      "source": [
        "list_data = [float(i) for i in range(100000)]\n",
        "array_data = np.array(list_data)"
      ],
      "execution_count": null,
      "outputs": []
    },
    {
      "cell_type": "code",
      "metadata": {
        "id": "32J8aCa59Nuw",
        "colab_type": "code",
        "colab": {}
      },
      "source": [
        "# Modificacion @andiazo\n",
        "list_datos = [float((i*2)%100000) for i in range(100000)]\n",
        "array_datos = np.array(list_datos)"
      ],
      "execution_count": null,
      "outputs": []
    },
    {
      "cell_type": "code",
      "metadata": {
        "id": "PSByIvOM-Dbg",
        "colab_type": "code",
        "colab": {}
      },
      "source": [
        "%%time\n",
        "python_dot_product(list_data, list_data)"
      ],
      "execution_count": null,
      "outputs": []
    },
    {
      "cell_type": "code",
      "metadata": {
        "id": "f26ddlqT9t9r",
        "colab_type": "code",
        "colab": {}
      },
      "source": [
        "# Modificacion @andiazo\n",
        "%%time\n",
        "python_dot_product(list_datos, list_datos)"
      ],
      "execution_count": null,
      "outputs": []
    },
    {
      "cell_type": "code",
      "metadata": {
        "id": "c9AyXZkS-Dbj",
        "colab_type": "code",
        "colab": {}
      },
      "source": [
        "%%time\n",
        "fortran_dot_product(array_data, array_data)"
      ],
      "execution_count": null,
      "outputs": []
    },
    {
      "cell_type": "code",
      "metadata": {
        "id": "gCUsdKYb95Ul",
        "colab_type": "code",
        "colab": {}
      },
      "source": [
        "# Modificacion @andiazo\n",
        "%%time\n",
        "fortran_dot_product(array_datos, array_datos)"
      ],
      "execution_count": null,
      "outputs": []
    },
    {
      "cell_type": "markdown",
      "metadata": {
        "id": "M1TmF2ls-Dbq",
        "colab_type": "text"
      },
      "source": [
        "<center><img src=\"https://github.com/ssanderson/pydata-toolbox/blob/master/notebooks/images/sloth.gif?raw=1\" alt=\"Drawing\" style=\"width: 1080px;\"/></center>\n"
      ]
    },
    {
      "cell_type": "markdown",
      "metadata": {
        "id": "jAZ_ikcV-Dbr",
        "colab_type": "text"
      },
      "source": [
        "## Why is the Python Version so Much Slower?"
      ]
    },
    {
      "cell_type": "code",
      "metadata": {
        "id": "JOdrVIsF-Dbr",
        "colab_type": "code",
        "colab": {}
      },
      "source": [
        "# Dynamic typing.\n",
        "def mul_elemwise(xs, ys):\n",
        "    return [x * y for x, y in zip(xs, ys)]\n",
        "\n",
        "mul_elemwise([1, 2, 3, 4], [1, 2 + 0j, 3.0, 'four'])\n",
        "#[type(x) for x in _]"
      ],
      "execution_count": null,
      "outputs": []
    },
    {
      "cell_type": "code",
      "metadata": {
        "id": "C-tCG3yR_e0L",
        "colab_type": "code",
        "colab": {}
      },
      "source": [
        "# Modificacion @andiazo\n",
        "mul_elemwise([4, 3, 2, 1], [1+0j, 1.0, 4, 'tres'])"
      ],
      "execution_count": null,
      "outputs": []
    },
    {
      "cell_type": "code",
      "metadata": {
        "id": "Gb_XhzUo-Dbv",
        "colab_type": "code",
        "colab": {}
      },
      "source": [
        "# Interpretation overhead.\n",
        "source_code = 'a + b * c'\n",
        "bytecode = compile(source_code, '', 'eval')\n",
        "import dis; dis.dis(bytecode)"
      ],
      "execution_count": null,
      "outputs": []
    },
    {
      "cell_type": "code",
      "metadata": {
        "id": "ei_oEuoM_7Ce",
        "colab_type": "code",
        "colab": {}
      },
      "source": [
        "# Modificacion @andiazo\n",
        "source_codigo = 'd * e + f'\n",
        "bytecodigo = compile(source_codigo, '', 'eval')\n",
        "dis.dis(bytecodigo)"
      ],
      "execution_count": null,
      "outputs": []
    },
    {
      "cell_type": "markdown",
      "metadata": {
        "id": "mPTmGHFF-Db1",
        "colab_type": "text"
      },
      "source": [
        "## Why is the Python Version so Slow?\n",
        "- Dynamic typing means that every single operation requires dispatching on the input type.\n",
        "- Having an interpreter means that every instruction is fetched and dispatched at runtime.\n",
        "- Other overheads:\n",
        "  - Arbitrary-size integers.\n",
        "  - Reference-counted garbage collection."
      ]
    },
    {
      "cell_type": "markdown",
      "metadata": {
        "id": "_dVZA5Tj-Db1",
        "colab_type": "text"
      },
      "source": [
        "> This is the paradox that we have to work with when we're doing scientific or numerically-intensive Python. What makes Python fast for development -- this high-level, interpreted, and dynamically-typed aspect of the language -- is exactly what makes it slow for code execution.\n",
        "\n",
        "- Jake VanderPlas, [*Losing Your Loops: Fast Numerical Computing with NumPy*](https://www.youtube.com/watch?v=EEUXKG97YRw)"
      ]
    },
    {
      "cell_type": "markdown",
      "metadata": {
        "id": "SsuQcRQHz5Kr",
        "colab_type": "text"
      },
      "source": [
        "#MyDictionaries"
      ]
    },
    {
      "cell_type": "code",
      "metadata": {
        "id": "eSUXImSMqCDi",
        "colab_type": "code",
        "colab": {}
      },
      "source": [
        "starsPlayers = {\"RM\": \"Cristiano Ronaldo\", \"MU\": \"van der Sar\", \"Barcelona\": \"Ronaldhino\", \"Bayern\": \"Robben\"}\n",
        "starsPlayers"
      ],
      "execution_count": null,
      "outputs": []
    },
    {
      "cell_type": "code",
      "metadata": {
        "id": "0h_ufaR1uYf6",
        "colab_type": "code",
        "colab": {}
      },
      "source": [
        "starsPlayers[\"Santos\"] = \"Pele\"\n",
        "starsPlayers"
      ],
      "execution_count": null,
      "outputs": []
    },
    {
      "cell_type": "code",
      "metadata": {
        "id": "PI_rekOvvG_p",
        "colab_type": "code",
        "colab": {}
      },
      "source": [
        "del starsPlayers[\"MU\"]\n",
        "starsPlayers"
      ],
      "execution_count": null,
      "outputs": []
    },
    {
      "cell_type": "code",
      "metadata": {
        "id": "SynO4pmsvdT0",
        "colab_type": "code",
        "colab": {}
      },
      "source": [
        "#starsPlayers[\"Barcelona\":\"RM\"]"
      ],
      "execution_count": null,
      "outputs": []
    },
    {
      "cell_type": "code",
      "metadata": {
        "id": "jkL-i1BGwEAw",
        "colab_type": "code",
        "colab": {}
      },
      "source": [
        "g = [[3.5, 5.5],\n",
        "     [67.1, -2],\n",
        "     [33.4, -8.005]]\n",
        "m = [[-1.05, -5,12, -0.1234] ,\n",
        "     [0.98765, 0.6567, -1]]\n",
        "\n",
        "print(m,g)"
      ],
      "execution_count": null,
      "outputs": []
    },
    {
      "cell_type": "code",
      "metadata": {
        "id": "mW2GUHOOzS-_",
        "colab_type": "code",
        "colab": {}
      },
      "source": [
        "def restMa (A,B):\n",
        "  rowo = len(A)\n",
        "  colo = len(A[0])\n",
        "  show = [[0 for col in range(colo)] for row in range(rowo)]\n",
        "\n",
        "  if len(A) == len(B) and len(B[0]) == len(A[0]):\n",
        "    for i in range(rowo):\n",
        "      for j in range(colo):\n",
        "        show[i][j] += A[i][j]- B[i][j] \n",
        "  else:\n",
        "    print(\"It isnt posible\") \n",
        "  \n",
        "  return show"
      ],
      "execution_count": null,
      "outputs": []
    },
    {
      "cell_type": "code",
      "metadata": {
        "id": "e_365cIf0po6",
        "colab_type": "code",
        "colab": {}
      },
      "source": [
        "%time\n",
        "\n",
        "restMa(m,g)"
      ],
      "execution_count": null,
      "outputs": []
    },
    {
      "cell_type": "code",
      "metadata": {
        "id": "a_IemjqN1gva",
        "colab_type": "code",
        "colab": {}
      },
      "source": [
        "import random\n",
        "def rm(m,n):\n",
        "  show = []\n",
        "  for row in range(m):\n",
        "    show.append([random.random() for _ in range(n)])\n",
        "  return show\n",
        "\n",
        "rMatrix = rm(3,5)\n",
        "rMatrix\n",
        "\n",
        "    "
      ],
      "execution_count": null,
      "outputs": []
    },
    {
      "cell_type": "code",
      "metadata": {
        "id": "injVWkq92r6q",
        "colab_type": "code",
        "colab": {}
      },
      "source": [
        "%time\n",
        "ma = rm(600, 100)\n",
        "mb = rm(600, 100)\n",
        "x = restMa(ma, mb)\n",
        "print(x)"
      ],
      "execution_count": null,
      "outputs": []
    },
    {
      "cell_type": "code",
      "metadata": {
        "id": "vfqxFCHF7jXU",
        "colab_type": "code",
        "colab": {}
      },
      "source": [
        "def p_divdot(xs, ys):\n",
        "    return sum(x / y for x, y in zip(xs, ys))"
      ],
      "execution_count": null,
      "outputs": []
    },
    {
      "cell_type": "code",
      "metadata": {
        "id": "U8Hg_05Z7wzq",
        "colab_type": "code",
        "colab": {}
      },
      "source": [
        "%%fortran\n",
        "subroutine fortran_dot_div(xs, ys, result)\n",
        "    double precision, intent(in) :: xs(:)\n",
        "    double precision, intent(in) :: ys(:)\n",
        "    double precision, intent(out) :: result\n",
        "    \n",
        "    result = sum(xs / ys)\n",
        "end"
      ],
      "execution_count": null,
      "outputs": []
    },
    {
      "cell_type": "code",
      "metadata": {
        "id": "aUhOb8iPkPy4",
        "colab_type": "code",
        "colab": {}
      },
      "source": [
        "dataList = [float((i*0.5)/60) for i in range(100000)]\n",
        "arrayData = np.array(dataList)"
      ],
      "execution_count": null,
      "outputs": []
    },
    {
      "cell_type": "code",
      "metadata": {
        "id": "1i2gvbL9kaly",
        "colab_type": "code",
        "colab": {}
      },
      "source": [
        "%%time\n",
        "p_divdot(dataList, arrayData)"
      ],
      "execution_count": null,
      "outputs": []
    },
    {
      "cell_type": "code",
      "metadata": {
        "id": "pZT4gb-wskza",
        "colab_type": "code",
        "colab": {}
      },
      "source": [
        "%%time\n",
        "fortran_dot_div(dataList, arrayData)"
      ],
      "execution_count": null,
      "outputs": []
    },
    {
      "cell_type": "markdown",
      "metadata": {
        "id": "5kGNUHMchFqV",
        "colab_type": "text"
      },
      "source": [
        "## Why is the Python Version so Much Slower?"
      ]
    },
    {
      "cell_type": "code",
      "metadata": {
        "id": "PdembzayhFqW",
        "colab_type": "code",
        "colab": {}
      },
      "source": [
        "# Dynamic typing.\n",
        "def mul_elemwise(xs, ys):\n",
        "    return [x * y for x, y in zip(xs, ys)]\n",
        "\n",
        "mul_elemwise([1, 2, 3, 4], [1, 2 + 0j, 3.0, 'four'])\n",
        "#[type(x) for x in _]"
      ],
      "execution_count": null,
      "outputs": []
    },
    {
      "cell_type": "code",
      "metadata": {
        "id": "vP5q7S81hFqc",
        "colab_type": "code",
        "colab": {}
      },
      "source": [
        "# Interpretation overhead.\n",
        "source_code = 'a + b * c'\n",
        "bytecode = compile(source_code, '', 'eval')\n",
        "import dis; dis.dis(bytecode)"
      ],
      "execution_count": null,
      "outputs": []
    },
    {
      "cell_type": "markdown",
      "metadata": {
        "id": "stUe3mxghFqk",
        "colab_type": "text"
      },
      "source": [
        "## Why is the Python Version so Slow?\n",
        "- Dynamic typing means that every single operation requires dispatching on the input type.\n",
        "- Having an interpreter means that every instruction is fetched and dispatched at runtime.\n",
        "- Other overheads:\n",
        "  - Arbitrary-size integers.\n",
        "  - Reference-counted garbage collection."
      ]
    },
    {
      "cell_type": "markdown",
      "metadata": {
        "id": "ul9Cy7_IhFqk",
        "colab_type": "text"
      },
      "source": [
        "> This is the paradox that we have to work with when we're doing scientific or numerically-intensive Python. What makes Python fast for development -- this high-level, interpreted, and dynamically-typed aspect of the language -- is exactly what makes it slow for code execution.\n",
        "\n",
        "- Jake VanderPlas, [*Losing Your Loops: Fast Numerical Computing with NumPy*](https://www.youtube.com/watch?v=EEUXKG97YRw)"
      ]
    },
    {
      "cell_type": "code",
      "metadata": {
        "id": "KYfea1nLrlXn",
        "colab_type": "code",
        "colab": {}
      },
      "source": [
        ""
      ],
      "execution_count": null,
      "outputs": []
    },
    {
      "cell_type": "markdown",
      "metadata": {
        "id": "qk1x856P-Db2",
        "colab_type": "text"
      },
      "source": [
        "# What Do We Do?"
      ]
    },
    {
      "cell_type": "markdown",
      "metadata": {
        "id": "dhh7KLhD-Db3",
        "colab_type": "text"
      },
      "source": [
        "<center><img src=\"https://github.com/ssanderson/pydata-toolbox/blob/master/notebooks/images/runaway.gif?raw=1\" alt=\"Drawing\" style=\"width: 50%;\"/></center>"
      ]
    },
    {
      "cell_type": "markdown",
      "metadata": {
        "id": "gvurOzO6-Db3",
        "colab_type": "text"
      },
      "source": [
        "<center><img src=\"https://github.com/ssanderson/pydata-toolbox/blob/master/notebooks/images/thisisfine.gif?raw=1\" alt=\"Drawing\" style=\"width: 1080px;\"/></center>"
      ]
    },
    {
      "cell_type": "markdown",
      "metadata": {
        "id": "6IEjiIVL-Db4",
        "colab_type": "text"
      },
      "source": [
        "- Python is slow for numerical computation because it performs dynamic dispatch on every operation we perform..."
      ]
    },
    {
      "cell_type": "markdown",
      "metadata": {
        "collapsed": true,
        "id": "ltQ2m05W-Db5",
        "colab_type": "text"
      },
      "source": [
        "- ...but often, we just want to do the same thing over and over in a loop!"
      ]
    },
    {
      "cell_type": "markdown",
      "metadata": {
        "id": "Si7zPJ8v-Db5",
        "colab_type": "text"
      },
      "source": [
        "- If we don't need Python's dynamicism, we don't want to pay (much) for it."
      ]
    },
    {
      "cell_type": "markdown",
      "metadata": {
        "id": "o5yHVTIO-Db6",
        "colab_type": "text"
      },
      "source": [
        "- **Idea:** Dispatch **once per operation** instead of **once per element**."
      ]
    },
    {
      "cell_type": "code",
      "metadata": {
        "id": "j5wN8IX1-Db7",
        "colab_type": "code",
        "colab": {}
      },
      "source": [
        "import numpy as np\n",
        "\n",
        "data = np.array([1, 2, 3, 4])\n",
        "data"
      ],
      "execution_count": null,
      "outputs": []
    },
    {
      "cell_type": "code",
      "metadata": {
        "id": "DXNPeWEe-Db-",
        "colab_type": "code",
        "colab": {}
      },
      "source": [
        "data + data"
      ],
      "execution_count": null,
      "outputs": []
    },
    {
      "cell_type": "code",
      "metadata": {
        "id": "36h76-zL-DcE",
        "colab_type": "code",
        "colab": {}
      },
      "source": [
        "%%time\n",
        "# Naive dot product\n",
        "(array_data * array_data).sum()"
      ],
      "execution_count": null,
      "outputs": []
    },
    {
      "cell_type": "code",
      "metadata": {
        "id": "2maHWHWZ-DcJ",
        "colab_type": "code",
        "colab": {}
      },
      "source": [
        "%%time\n",
        "# Built-in dot product.\n",
        "array_data.dot(array_data)"
      ],
      "execution_count": null,
      "outputs": []
    },
    {
      "cell_type": "code",
      "metadata": {
        "id": "KINjhQO0-DcM",
        "colab_type": "code",
        "colab": {}
      },
      "source": [
        "%%time\n",
        "fortran_dot_product(array_data, array_data)"
      ],
      "execution_count": null,
      "outputs": []
    },
    {
      "cell_type": "code",
      "metadata": {
        "id": "TvHPY8C7-DcP",
        "colab_type": "code",
        "colab": {}
      },
      "source": [
        "# Numpy won't allow us to write a string into an int array.\n",
        "data[0] = \"foo\""
      ],
      "execution_count": null,
      "outputs": []
    },
    {
      "cell_type": "code",
      "metadata": {
        "id": "lwjs4RUb-DcR",
        "colab_type": "code",
        "colab": {}
      },
      "source": [
        "# We also can't grow an array once it's created.\n",
        "data.append(3)"
      ],
      "execution_count": null,
      "outputs": []
    },
    {
      "cell_type": "code",
      "metadata": {
        "id": "unIhkAi3-DcU",
        "colab_type": "code",
        "colab": {}
      },
      "source": [
        "# We **can** reshape an array though.\n",
        "two_by_two = data.reshape(2, 2)\n",
        "two_by_two"
      ],
      "execution_count": null,
      "outputs": []
    },
    {
      "cell_type": "markdown",
      "metadata": {
        "id": "2KiaNEQh-DcY",
        "colab_type": "text"
      },
      "source": [
        "Numpy arrays are:\n",
        "\n",
        "- Fixed-type"
      ]
    },
    {
      "cell_type": "markdown",
      "metadata": {
        "id": "fAetRCw0-DcZ",
        "colab_type": "text"
      },
      "source": [
        "- Size-immutable"
      ]
    },
    {
      "cell_type": "markdown",
      "metadata": {
        "id": "icNHdMMb-Dca",
        "colab_type": "text"
      },
      "source": [
        "- Multi-dimensional"
      ]
    },
    {
      "cell_type": "markdown",
      "metadata": {
        "id": "kDXzk8Ah-Dcb",
        "colab_type": "text"
      },
      "source": [
        "- Fast\\*"
      ]
    },
    {
      "cell_type": "markdown",
      "metadata": {
        "id": "5nhw4_nk-Dcb",
        "colab_type": "text"
      },
      "source": [
        "\\* If you use them correctly."
      ]
    },
    {
      "cell_type": "markdown",
      "metadata": {
        "colab_type": "text",
        "id": "cl2nBYh2s3b-"
      },
      "source": [
        "# ¿Qué hacemos?"
      ]
    },
    {
      "cell_type": "code",
      "metadata": {
        "colab_type": "code",
        "id": "nmoe41SVs3cM",
        "colab": {}
      },
      "source": [
        "import numpy as np\n",
        "\n",
        "dato = np.array([12,14,34,54])\n",
        "dato"
      ],
      "execution_count": null,
      "outputs": []
    },
    {
      "cell_type": "code",
      "metadata": {
        "colab_type": "code",
        "id": "NQflYL0Fs3cY",
        "colab": {}
      },
      "source": [
        "(dato + 3) - (dato - 2)"
      ],
      "execution_count": null,
      "outputs": []
    },
    {
      "cell_type": "code",
      "metadata": {
        "colab_type": "code",
        "id": "40zKmzHBs3cg",
        "colab": {}
      },
      "source": [
        "%%time\n",
        "# Naive dot product\n",
        "(arrayData * arrayData).sum()"
      ],
      "execution_count": null,
      "outputs": []
    },
    {
      "cell_type": "code",
      "metadata": {
        "colab_type": "code",
        "id": "mcaNH9POs3ck",
        "colab": {}
      },
      "source": [
        "%%time\n",
        "# Built-in dot product.\n",
        "arrayData.dot(arrayData)"
      ],
      "execution_count": null,
      "outputs": []
    },
    {
      "cell_type": "code",
      "metadata": {
        "colab_type": "code",
        "id": "Y8IvZV0Is3co",
        "colab": {}
      },
      "source": [
        "%%time\n",
        "fortran_dot_div(arrayData, arrayData)"
      ],
      "execution_count": null,
      "outputs": []
    },
    {
      "cell_type": "code",
      "metadata": {
        "colab_type": "code",
        "id": "4aIrF4Ios3cv",
        "colab": {}
      },
      "source": [
        "# Numpy won't allow us to write a string into an int array.\n",
        "dato[0] = \"foo\""
      ],
      "execution_count": null,
      "outputs": []
    },
    {
      "cell_type": "code",
      "metadata": {
        "colab_type": "code",
        "id": "vzQs37Bys3c0",
        "colab": {}
      },
      "source": [
        "# We also can't grow an array once it's created.\n",
        "dato.append(3)"
      ],
      "execution_count": null,
      "outputs": []
    },
    {
      "cell_type": "code",
      "metadata": {
        "colab_type": "code",
        "id": "SUrZTf5Qs3dC",
        "colab": {}
      },
      "source": [
        "# We **can** reshape an array though.\n",
        "two_by_two = dato.reshape(2, 2)\n",
        "two_by_two"
      ],
      "execution_count": null,
      "outputs": []
    },
    {
      "cell_type": "markdown",
      "metadata": {
        "colab_type": "text",
        "id": "2wJfoSg5s3dN"
      },
      "source": [
        "Numpy arrays are:\n",
        "\n",
        "- Fixed-type"
      ]
    },
    {
      "cell_type": "markdown",
      "metadata": {
        "colab_type": "text",
        "id": "PYJb46Tks3dN"
      },
      "source": [
        "- Size-immutable"
      ]
    },
    {
      "cell_type": "markdown",
      "metadata": {
        "colab_type": "text",
        "id": "AITCXQsEs3dO"
      },
      "source": [
        "- Multi-dimensional"
      ]
    },
    {
      "cell_type": "markdown",
      "metadata": {
        "colab_type": "text",
        "id": "UU6yMxA4s3dQ"
      },
      "source": [
        "- Fast\\*"
      ]
    },
    {
      "cell_type": "markdown",
      "metadata": {
        "colab_type": "text",
        "id": "uBKd_uUHs3dR"
      },
      "source": [
        "\\* If you use them correctly."
      ]
    },
    {
      "cell_type": "markdown",
      "metadata": {
        "id": "_Z02iKvK-Dcc",
        "colab_type": "text"
      },
      "source": [
        "# What's in an Array?"
      ]
    },
    {
      "cell_type": "code",
      "metadata": {
        "id": "jXaSrFVr-Dcd",
        "colab_type": "code",
        "colab": {}
      },
      "source": [
        "arr = np.array([1, 2, 3, 4, 5, 6], dtype='int16').reshape(2, 3)\n",
        "print(\"Array:\\n\", arr, sep='')\n",
        "print(\"===========\")\n",
        "print(\"DType:\", arr.dtype)\n",
        "print(\"Shape:\", arr.shape)\n",
        "print(\"Strides:\", arr.strides)\n",
        "print(\"Data:\", arr.data.tobytes())"
      ],
      "execution_count": null,
      "outputs": []
    },
    {
      "cell_type": "code",
      "metadata": {
        "id": "XkTAoNcxDPno",
        "colab_type": "code",
        "colab": {}
      },
      "source": [
        "array = np.array([2, 4, 6, 8, 10, 12], dtype='int16').reshape(2, 3)\n",
        "print(\"Mi array:\\n\", array, sep='')\n",
        "print(\"-+-+-+-+-+-+-+\")\n",
        "print(\"DType:\", array.dtype)\n",
        "print(\"Shape:\", arr.shape)\n",
        "print(\"Strides:\", arr.strides)\n",
        "print(\"Data:\", arr.data.tobytes())"
      ],
      "execution_count": null,
      "outputs": []
    },
    {
      "cell_type": "markdown",
      "metadata": {
        "id": "bBACKh4k-Dci",
        "colab_type": "text"
      },
      "source": [
        "# Core Operations\n",
        "\n",
        "- Vectorized **ufuncs** for elementwise operations.\n",
        "- Fancy indexing and masking for selection and filtering.\n",
        "- Aggregations across axes.\n",
        "- Broadcasting"
      ]
    },
    {
      "cell_type": "markdown",
      "metadata": {
        "id": "JUElFYiy-Dci",
        "colab_type": "text"
      },
      "source": [
        "# UFuncs\n",
        "\n",
        "UFuncs (universal functions) are functions that operate elementwise on one or more arrays."
      ]
    },
    {
      "cell_type": "code",
      "metadata": {
        "id": "r6Irk7uX-Dcj",
        "colab_type": "code",
        "colab": {}
      },
      "source": [
        "data = np.arange(15).reshape(3, 5)\n",
        "data"
      ],
      "execution_count": null,
      "outputs": []
    },
    {
      "cell_type": "code",
      "metadata": {
        "id": "CZC1T28y-Dcn",
        "colab_type": "code",
        "colab": {}
      },
      "source": [
        "# Binary operators.\n",
        "data * data"
      ],
      "execution_count": null,
      "outputs": []
    },
    {
      "cell_type": "code",
      "metadata": {
        "id": "PraAbDsw-Dcr",
        "colab_type": "code",
        "colab": {}
      },
      "source": [
        "# Unary functions.\n",
        "np.sqrt(data)"
      ],
      "execution_count": null,
      "outputs": []
    },
    {
      "cell_type": "code",
      "metadata": {
        "id": "yJKG2yGJ-Dcu",
        "colab_type": "code",
        "colab": {}
      },
      "source": [
        "# Comparison operations\n",
        "(data % 3) == 0"
      ],
      "execution_count": null,
      "outputs": []
    },
    {
      "cell_type": "code",
      "metadata": {
        "id": "nPLnvxUD-Dcy",
        "colab_type": "code",
        "colab": {}
      },
      "source": [
        "# Boolean combinators.\n",
        "((data % 2) == 0) & ((data % 3) == 0)"
      ],
      "execution_count": null,
      "outputs": []
    },
    {
      "cell_type": "code",
      "metadata": {
        "id": "rVNo6gyQ-Dc0",
        "colab_type": "code",
        "colab": {}
      },
      "source": [
        "# as of python 3.5, @ is matrix-multiply\n",
        "data @ data.T"
      ],
      "execution_count": null,
      "outputs": []
    },
    {
      "cell_type": "markdown",
      "metadata": {
        "id": "FicIU1PH-Dc4",
        "colab_type": "text"
      },
      "source": [
        "# UFuncs Review\n",
        "\n",
        "- UFuncs provide efficient elementwise operations applied across one or more arrays.\n",
        "- Arithmetic Operators (`+`, `*`, `/`)\n",
        "- Comparisons (`==`, `>`, `!=`)\n",
        "- Boolean Operators (`&`, `|`, `^`)\n",
        "- Trigonometric Functions (`sin`, `cos`)\n",
        "- Transcendental Functions (`exp`, `log`)"
      ]
    },
    {
      "cell_type": "markdown",
      "metadata": {
        "colab_type": "text",
        "id": "7EQKXKykusI9"
      },
      "source": [
        "# MyUFuncs\n",
        "\n"
      ]
    },
    {
      "cell_type": "code",
      "metadata": {
        "colab_type": "code",
        "id": "fEi3zjzrusJA",
        "colab": {}
      },
      "source": [
        "dato = np.arange(12).reshape(4, 3)\n",
        "dato"
      ],
      "execution_count": null,
      "outputs": []
    },
    {
      "cell_type": "code",
      "metadata": {
        "colab_type": "code",
        "id": "wgF-euhausJN",
        "colab": {}
      },
      "source": [
        "# Binary operators.\n",
        "dato * dato"
      ],
      "execution_count": null,
      "outputs": []
    },
    {
      "cell_type": "code",
      "metadata": {
        "colab_type": "code",
        "id": "jM-LdSVausJS",
        "colab": {}
      },
      "source": [
        "# Unary functions.\n",
        "np.sqrt(dato)"
      ],
      "execution_count": null,
      "outputs": []
    },
    {
      "cell_type": "code",
      "metadata": {
        "colab_type": "code",
        "id": "R3HGQOmEusJW",
        "colab": {}
      },
      "source": [
        "# Comparison operations\n",
        "(dato % 6) == 1"
      ],
      "execution_count": null,
      "outputs": []
    },
    {
      "cell_type": "code",
      "metadata": {
        "colab_type": "code",
        "id": "n7yeUz5_usJY",
        "colab": {}
      },
      "source": [
        "# Boolean combinators.\n",
        "((dato % 4) == 2) & ((dato % 2) == 1)"
      ],
      "execution_count": null,
      "outputs": []
    },
    {
      "cell_type": "code",
      "metadata": {
        "colab_type": "code",
        "id": "nmn8YCiNusJa",
        "colab": {}
      },
      "source": [
        "# as of python 3.5, @ is matrix-multiply\n",
        "dato @ dato.T"
      ],
      "execution_count": null,
      "outputs": []
    },
    {
      "cell_type": "markdown",
      "metadata": {
        "id": "hZYiMD_R-Dc4",
        "colab_type": "text"
      },
      "source": [
        "# Selections"
      ]
    },
    {
      "cell_type": "markdown",
      "metadata": {
        "id": "zVPuW1SM-Dc5",
        "colab_type": "text"
      },
      "source": [
        "We often want to perform an operation on just a subset of our data."
      ]
    },
    {
      "cell_type": "code",
      "metadata": {
        "id": "IxdJgcDd-Dc5",
        "colab_type": "code",
        "colab": {}
      },
      "source": [
        "sines = np.sin(np.linspace(0, 3.14, 10))\n",
        "cosines = np.cos(np.linspace(0, 3.14, 10))\n",
        "sines"
      ],
      "execution_count": null,
      "outputs": []
    },
    {
      "cell_type": "code",
      "metadata": {
        "id": "nB4Kbkvq-Dc8",
        "colab_type": "code",
        "colab": {}
      },
      "source": [
        "# Slicing works with the same semantics as Python lists.\n",
        "sines[0]"
      ],
      "execution_count": null,
      "outputs": []
    },
    {
      "cell_type": "code",
      "metadata": {
        "id": "yaqMWgYa-Dc-",
        "colab_type": "code",
        "colab": {}
      },
      "source": [
        "sines[:3]  # First three elements  "
      ],
      "execution_count": null,
      "outputs": []
    },
    {
      "cell_type": "code",
      "metadata": {
        "id": "aZLnmR8B-DdC",
        "colab_type": "code",
        "colab": {}
      },
      "source": [
        "sines[5:]  # Elements from 5 on."
      ],
      "execution_count": null,
      "outputs": []
    },
    {
      "cell_type": "code",
      "metadata": {
        "id": "FrBKRckF-DdI",
        "colab_type": "code",
        "colab": {}
      },
      "source": [
        "sines[::2]  # Every other element."
      ],
      "execution_count": null,
      "outputs": []
    },
    {
      "cell_type": "code",
      "metadata": {
        "id": "6z7laA0d-DdL",
        "colab_type": "code",
        "colab": {}
      },
      "source": [
        "# More interesting: we can index with boolean arrays to filter by a predicate.\n",
        "print(\"sines:\\n\", sines)\n",
        "print(\"sines > 0.5:\\n\", sines > 0.5)\n",
        "print(\"sines[sines > 0.5]:\\n\", sines[sines > 0.5])"
      ],
      "execution_count": null,
      "outputs": []
    },
    {
      "cell_type": "code",
      "metadata": {
        "id": "Z9UbthTG-DdN",
        "colab_type": "code",
        "colab": {}
      },
      "source": [
        "# We index with lists/arrays of integers to select values at those indices.\n",
        "print(sines)\n",
        "sines[[0, 4, 7]]"
      ],
      "execution_count": null,
      "outputs": []
    },
    {
      "cell_type": "code",
      "metadata": {
        "id": "NDniOZPl-DdP",
        "colab_type": "code",
        "colab": {}
      },
      "source": [
        "# Index arrays are often used for sorting one or more arrays.\n",
        "unsorted_data = np.array([1, 3, 2, 12, -1, 5, 2])"
      ],
      "execution_count": null,
      "outputs": []
    },
    {
      "cell_type": "code",
      "metadata": {
        "id": "M-UwmQtt-DdS",
        "colab_type": "code",
        "colab": {}
      },
      "source": [
        "sort_indices = np.argsort(unsorted_data)\n",
        "sort_indices"
      ],
      "execution_count": null,
      "outputs": []
    },
    {
      "cell_type": "code",
      "metadata": {
        "id": "RQ_3KyWe-DdU",
        "colab_type": "code",
        "colab": {}
      },
      "source": [
        "unsorted_data[sort_indices]"
      ],
      "execution_count": null,
      "outputs": []
    },
    {
      "cell_type": "code",
      "metadata": {
        "id": "pF8SUxXe-DdX",
        "colab_type": "code",
        "colab": {}
      },
      "source": [
        "market_caps = np.array([12, 6, 10, 5, 6])  # Presumably in dollars?\n",
        "assets = np.array(['A', 'B', 'C', 'D', 'E'])"
      ],
      "execution_count": null,
      "outputs": []
    },
    {
      "cell_type": "code",
      "metadata": {
        "id": "Oi9Zz5Hc-Dda",
        "colab_type": "code",
        "colab": {}
      },
      "source": [
        "# Sort assets by market cap by using the permutation that would sort market caps on ``assets``.\n",
        "sort_by_mcap = np.argsort(market_caps)\n",
        "assets[sort_by_mcap]"
      ],
      "execution_count": null,
      "outputs": []
    },
    {
      "cell_type": "code",
      "metadata": {
        "scrolled": true,
        "id": "o6xJf7CV-Dde",
        "colab_type": "code",
        "colab": {}
      },
      "source": [
        "# Indexers are also useful for aligning data.\n",
        "print(\"Dates:\\n\", repr(event_dates))\n",
        "print(\"Values:\\n\", repr(event_values))\n",
        "print(\"Calendar:\\n\", repr(calendar))"
      ],
      "execution_count": null,
      "outputs": []
    },
    {
      "cell_type": "code",
      "metadata": {
        "id": "7UkjDf4C-Ddh",
        "colab_type": "code",
        "colab": {}
      },
      "source": [
        "print(\"Raw Dates:\", event_dates)\n",
        "print(\"Indices:\", calendar.searchsorted(event_dates))\n",
        "print(\"Forward-Filled Dates:\", calendar[calendar.searchsorted(event_dates)])"
      ],
      "execution_count": null,
      "outputs": []
    },
    {
      "cell_type": "markdown",
      "metadata": {
        "id": "LROsl7VZ-Ddk",
        "colab_type": "text"
      },
      "source": [
        "On multi-dimensional arrays, we can slice along each axis independently."
      ]
    },
    {
      "cell_type": "code",
      "metadata": {
        "id": "7gX4b6_a-Ddk",
        "colab_type": "code",
        "colab": {}
      },
      "source": [
        "data = np.arange(25).reshape(5, 5)\n",
        "data"
      ],
      "execution_count": null,
      "outputs": []
    },
    {
      "cell_type": "code",
      "metadata": {
        "id": "1RjV5bOc-Ddn",
        "colab_type": "code",
        "colab": {}
      },
      "source": [
        "data[:2, :2]  # First two rows and first two columns."
      ],
      "execution_count": null,
      "outputs": []
    },
    {
      "cell_type": "code",
      "metadata": {
        "id": "lphDUeGi-Ddo",
        "colab_type": "code",
        "colab": {}
      },
      "source": [
        "data[:2, [0, -1]]  # First two rows, first and last columns."
      ],
      "execution_count": null,
      "outputs": []
    },
    {
      "cell_type": "code",
      "metadata": {
        "id": "Nhtpq2CF-Ddq",
        "colab_type": "code",
        "colab": {}
      },
      "source": [
        "data[(data[:, 0] % 2) == 0]  # Rows where the first column is divisible by two."
      ],
      "execution_count": null,
      "outputs": []
    },
    {
      "cell_type": "markdown",
      "metadata": {
        "colab_type": "text",
        "id": "fC6PJZgLv7ab"
      },
      "source": [
        "# MySelections"
      ]
    },
    {
      "cell_type": "code",
      "metadata": {
        "colab_type": "code",
        "id": "EdXIddRnv7ag",
        "colab": {}
      },
      "source": [
        "senos = np.sin(np.linspace(0, 3.14, 10))\n",
        "tan = np.tan(np.linspace(0, 2.78, 10))\n",
        "tan"
      ],
      "execution_count": null,
      "outputs": []
    },
    {
      "cell_type": "code",
      "metadata": {
        "colab_type": "code",
        "id": "t-O2vR65v7ap",
        "colab": {}
      },
      "source": [
        "\n",
        "tan[0]"
      ],
      "execution_count": null,
      "outputs": []
    },
    {
      "cell_type": "code",
      "metadata": {
        "colab_type": "code",
        "id": "-akVomo-v7av",
        "colab": {}
      },
      "source": [
        "tan[:4]  # First four elements  "
      ],
      "execution_count": null,
      "outputs": []
    },
    {
      "cell_type": "code",
      "metadata": {
        "colab_type": "code",
        "id": "A9PbITk0v7ay",
        "colab": {}
      },
      "source": [
        "tan[3:]  # Elements from 3 on."
      ],
      "execution_count": null,
      "outputs": []
    },
    {
      "cell_type": "code",
      "metadata": {
        "colab_type": "code",
        "id": "D7VdgNdhv7a2",
        "colab": {}
      },
      "source": [
        "tan[::6]  # Every other element."
      ],
      "execution_count": null,
      "outputs": []
    },
    {
      "cell_type": "code",
      "metadata": {
        "colab_type": "code",
        "id": "zdo5NPPiv7a4",
        "colab": {}
      },
      "source": [
        "\n",
        "print(\"fudge:\\n\", tan)\n",
        "print(\"fudge > 0.7:\\n\", tan > 0.7)\n",
        "print(\"fudge[fudge < 0.6]:\\n\", tan[tan < 0.6])"
      ],
      "execution_count": null,
      "outputs": []
    },
    {
      "cell_type": "code",
      "metadata": {
        "colab_type": "code",
        "id": "QfVr0_AQv7a6",
        "colab": {}
      },
      "source": [
        "print(tan)\n",
        "tan[[1, 5, 9]]"
      ],
      "execution_count": null,
      "outputs": []
    },
    {
      "cell_type": "code",
      "metadata": {
        "colab_type": "code",
        "id": "qEMLyVQkv7a8",
        "colab": {}
      },
      "source": [
        "residuosDato = np.array([12,55,23,67,12,12,98])"
      ],
      "execution_count": null,
      "outputs": []
    },
    {
      "cell_type": "code",
      "metadata": {
        "colab_type": "code",
        "id": "AJOQ6jOyv7a-",
        "colab": {}
      },
      "source": [
        "residuosDato = np.argsort(residuosDato)\n",
        "residuosDato"
      ],
      "execution_count": null,
      "outputs": []
    },
    {
      "cell_type": "code",
      "metadata": {
        "id": "P4aIpKTZxpAD",
        "colab_type": "code",
        "colab": {}
      },
      "source": [
        "orden_indices = np.argsort(residuosDato)\n",
        "orden_indices"
      ],
      "execution_count": null,
      "outputs": []
    },
    {
      "cell_type": "code",
      "metadata": {
        "colab_type": "code",
        "id": "mU_6RlbCv7bA",
        "colab": {}
      },
      "source": [
        "residuosDato[orden_indices]"
      ],
      "execution_count": null,
      "outputs": []
    },
    {
      "cell_type": "code",
      "metadata": {
        "colab_type": "code",
        "id": "2NMr3xQzv7bC",
        "colab": {}
      },
      "source": [
        "mc = np.array([11, 6, 69, 1313, 24])  \n",
        "a = np.array(['G', 'M', 'A', 'P', 'V'])"
      ],
      "execution_count": null,
      "outputs": []
    },
    {
      "cell_type": "code",
      "metadata": {
        "colab_type": "code",
        "id": "cpcjzJ-8v7bF",
        "colab": {}
      },
      "source": [
        "sort_by_mc = np.argsort(mc)\n",
        "a[sort_by_mc]"
      ],
      "execution_count": null,
      "outputs": []
    },
    {
      "cell_type": "code",
      "metadata": {
        "scrolled": true,
        "colab_type": "code",
        "id": "bu9xJcY0v7bJ",
        "colab": {}
      },
      "source": [
        "\n",
        "print(\"Fechas:\\n\", repr(event_dates18))\n",
        "print(\"Valores:\\n\", repr(event_values18))\n",
        "print(\"Calendario:\\n\", repr(calendar18))"
      ],
      "execution_count": null,
      "outputs": []
    },
    {
      "cell_type": "code",
      "metadata": {
        "colab_type": "code",
        "id": "SHsYD6pcv7bL",
        "colab": {}
      },
      "source": [
        "print(\"Fechas crudas:\", event_dates18)\n",
        "print(\"Indices:\", calendar.searchsorted(event_dates18))\n",
        "print(\"Fechas llenas hacia adelante:\", calendar18[calendar18.searchsorted(event_dates18)])"
      ],
      "execution_count": null,
      "outputs": []
    },
    {
      "cell_type": "markdown",
      "metadata": {
        "colab_type": "text",
        "id": "Y5_DGArcv7bN"
      },
      "source": [
        "On multi-dimensional arrays, we can slice along each axis independently."
      ]
    },
    {
      "cell_type": "code",
      "metadata": {
        "colab_type": "code",
        "id": "13Xpr7UYv7bN",
        "colab": {}
      },
      "source": [
        "dato = np.arange(36).reshape(6, 6)\n",
        "dato"
      ],
      "execution_count": null,
      "outputs": []
    },
    {
      "cell_type": "code",
      "metadata": {
        "colab_type": "code",
        "id": "82PQ6ZiUv7bP",
        "colab": {}
      },
      "source": [
        "dato[:3, :3]  # Primeros 3 de columnas y filas 2"
      ],
      "execution_count": null,
      "outputs": []
    },
    {
      "cell_type": "code",
      "metadata": {
        "colab_type": "code",
        "id": "uBXlc-hAv7bR",
        "colab": {}
      },
      "source": [
        "dato[:5, [0, -1]]  # 1er 5 filas, primero y ultima columna."
      ],
      "execution_count": null,
      "outputs": []
    },
    {
      "cell_type": "code",
      "metadata": {
        "colab_type": "code",
        "id": "w646qkGvv7bT",
        "colab": {}
      },
      "source": [
        "dato[(dato[:, 0] % 4) != 0]  # filas donde la primera columna NO se pueda dividir en 4"
      ],
      "execution_count": null,
      "outputs": []
    },
    {
      "cell_type": "markdown",
      "metadata": {
        "id": "6EsEcoyR-Dds",
        "colab_type": "text"
      },
      "source": [
        "# Selections Review\n",
        "\n",
        "- Indexing with an integer removes a dimension.\n",
        "- Slicing operations work on Numpy arrays the same way they do on lists.\n",
        "- Indexing with a boolean array filters to True locations.\n",
        "- Indexing with an integer array selects indices along an axis.\n",
        "- Multidimensional arrays can apply selections independently along different axes."
      ]
    },
    {
      "cell_type": "markdown",
      "metadata": {
        "id": "cScYKuV0-Ddt",
        "colab_type": "text"
      },
      "source": [
        "## Reductions\n",
        "\n",
        "Functions that reduce an array to a scalar."
      ]
    },
    {
      "cell_type": "markdown",
      "metadata": {
        "id": "ovPjgS0L-Ddt",
        "colab_type": "text"
      },
      "source": [
        "$Var(X) = \\frac{1}{N}\\sqrt{\\sum_{i=1}^N (x_i - \\bar{x})^2}$"
      ]
    },
    {
      "cell_type": "code",
      "metadata": {
        "id": "hqhKXRop-Ddu",
        "colab_type": "code",
        "colab": {}
      },
      "source": [
        "def variance(x):\n",
        "    return ((x - x.mean()) ** 2).sum() / len(x)"
      ],
      "execution_count": null,
      "outputs": []
    },
    {
      "cell_type": "code",
      "metadata": {
        "id": "17y_qYq1-Ddw",
        "colab_type": "code",
        "colab": {}
      },
      "source": [
        "variance(np.random.standard_normal(1000))"
      ],
      "execution_count": null,
      "outputs": []
    },
    {
      "cell_type": "markdown",
      "metadata": {
        "id": "qIgEQdn7-Dd1",
        "colab_type": "text"
      },
      "source": [
        "- `sum()` and `mean()` are both **reductions**."
      ]
    },
    {
      "cell_type": "markdown",
      "metadata": {
        "id": "sjW22ioX-Dd1",
        "colab_type": "text"
      },
      "source": [
        "- In the simplest case, we use these to reduce an entire array into a single value..."
      ]
    },
    {
      "cell_type": "code",
      "metadata": {
        "id": "CVVuUK3y-Dd2",
        "colab_type": "code",
        "colab": {}
      },
      "source": [
        "data = np.arange(30)\n",
        "data.mean()"
      ],
      "execution_count": null,
      "outputs": []
    },
    {
      "cell_type": "markdown",
      "metadata": {
        "id": "uZBGo65H-Dd4",
        "colab_type": "text"
      },
      "source": [
        "- ...but we can do more interesting things with multi-dimensional arrays."
      ]
    },
    {
      "cell_type": "code",
      "metadata": {
        "id": "_MyAZ0fy-Dd4",
        "colab_type": "code",
        "colab": {}
      },
      "source": [
        "data = np.arange(30).reshape(3, 10)\n",
        "data"
      ],
      "execution_count": null,
      "outputs": []
    },
    {
      "cell_type": "code",
      "metadata": {
        "id": "NLZvTNPE-Dd6",
        "colab_type": "code",
        "colab": {}
      },
      "source": [
        "data.mean()"
      ],
      "execution_count": null,
      "outputs": []
    },
    {
      "cell_type": "code",
      "metadata": {
        "id": "364fjuKY-Dd-",
        "colab_type": "code",
        "colab": {}
      },
      "source": [
        "data.mean(axis=0)"
      ],
      "execution_count": null,
      "outputs": []
    },
    {
      "cell_type": "code",
      "metadata": {
        "id": "tZGbZGdC-DeB",
        "colab_type": "code",
        "colab": {}
      },
      "source": [
        "data.mean(axis=1)"
      ],
      "execution_count": null,
      "outputs": []
    },
    {
      "cell_type": "markdown",
      "metadata": {
        "id": "1uh4vCdB-DeE",
        "colab_type": "text"
      },
      "source": [
        "## Reductions Review\n",
        "\n",
        "- Reductions allow us to perform efficient aggregations over arrays.\n",
        "- We can do aggregations over a single axis to collapse a single dimension.\n",
        "- Many built-in reductions (`mean`, `sum`, `min`, `max`, `median`, ...)."
      ]
    },
    {
      "cell_type": "markdown",
      "metadata": {
        "colab_type": "text",
        "id": "__qAtrBMz3iF"
      },
      "source": [
        "## MyReductions\n"
      ]
    },
    {
      "cell_type": "markdown",
      "metadata": {
        "colab_type": "text",
        "id": "ZJx0Moc1z3iJ"
      },
      "source": [
        "$Var(X) = \\frac{1}{N}\\sqrt{\\sum_{i=1}^N (x_i - \\bar{x})^2}$"
      ]
    },
    {
      "cell_type": "code",
      "metadata": {
        "colab_type": "code",
        "id": "7ep-zc9rz3iK",
        "colab": {}
      },
      "source": [
        "def var(x):\n",
        "    return ((x - x.mean()) ** 2).sum() / len(x)"
      ],
      "execution_count": null,
      "outputs": []
    },
    {
      "cell_type": "code",
      "metadata": {
        "colab_type": "code",
        "id": "by9enIr_z3iT",
        "colab": {}
      },
      "source": [
        "varianza =var(np.random.standard_exponential(2000))\n",
        "varianza\n"
      ],
      "execution_count": null,
      "outputs": []
    },
    {
      "cell_type": "markdown",
      "metadata": {
        "colab_type": "text",
        "id": "_m6Cmmzsz3iW"
      },
      "source": [
        "- `sum()` and `mean()` are both **reductions**."
      ]
    },
    {
      "cell_type": "markdown",
      "metadata": {
        "colab_type": "text",
        "id": "bsgqrLKnz3iX"
      },
      "source": [
        "- In the simplest case, we use these to reduce an entire array into a single value..."
      ]
    },
    {
      "cell_type": "code",
      "metadata": {
        "colab_type": "code",
        "id": "ogLN1BZwz3iY",
        "colab": {
          "base_uri": "https://localhost:8080/",
          "height": 34
        },
        "outputId": "8d7cd9f7-fa32-41b6-b115-e936fef2e7c8"
      },
      "source": [
        "dato = np.arange(345678943)\n",
        "dato.mean()"
      ],
      "execution_count": 34,
      "outputs": [
        {
          "output_type": "execute_result",
          "data": {
            "text/plain": [
              "172839471.0"
            ]
          },
          "metadata": {
            "tags": []
          },
          "execution_count": 34
        }
      ]
    },
    {
      "cell_type": "markdown",
      "metadata": {
        "colab_type": "text",
        "id": "FzLUiAkXz3id"
      },
      "source": [
        "- ...but we can do more interesting things with multi-dimensional arrays."
      ]
    },
    {
      "cell_type": "code",
      "metadata": {
        "colab_type": "code",
        "id": "xfFS8LUmz3id",
        "colab": {
          "base_uri": "https://localhost:8080/",
          "height": 170
        },
        "outputId": "4e38b335-ad8f-4508-e73d-40966a4fee3e"
      },
      "source": [
        "dato = np.arange(45).reshape(9, 5)\n",
        "dato"
      ],
      "execution_count": 35,
      "outputs": [
        {
          "output_type": "execute_result",
          "data": {
            "text/plain": [
              "array([[ 0,  1,  2,  3,  4],\n",
              "       [ 5,  6,  7,  8,  9],\n",
              "       [10, 11, 12, 13, 14],\n",
              "       [15, 16, 17, 18, 19],\n",
              "       [20, 21, 22, 23, 24],\n",
              "       [25, 26, 27, 28, 29],\n",
              "       [30, 31, 32, 33, 34],\n",
              "       [35, 36, 37, 38, 39],\n",
              "       [40, 41, 42, 43, 44]])"
            ]
          },
          "metadata": {
            "tags": []
          },
          "execution_count": 35
        }
      ]
    },
    {
      "cell_type": "code",
      "metadata": {
        "colab_type": "code",
        "id": "iL6bv23xz3ig",
        "colab": {
          "base_uri": "https://localhost:8080/",
          "height": 34
        },
        "outputId": "2349f118-5c90-4c9d-afb8-14088ac3ce9f"
      },
      "source": [
        "dato.mean()"
      ],
      "execution_count": 36,
      "outputs": [
        {
          "output_type": "execute_result",
          "data": {
            "text/plain": [
              "22.0"
            ]
          },
          "metadata": {
            "tags": []
          },
          "execution_count": 36
        }
      ]
    },
    {
      "cell_type": "code",
      "metadata": {
        "colab_type": "code",
        "id": "GTahhxR2z3ii",
        "colab": {
          "base_uri": "https://localhost:8080/",
          "height": 34
        },
        "outputId": "c2f0e0e8-7c6a-4970-9873-0f1d42c15c95"
      },
      "source": [
        "dato.mean(axis=0)"
      ],
      "execution_count": 42,
      "outputs": [
        {
          "output_type": "execute_result",
          "data": {
            "text/plain": [
              "array([20., 21., 22., 23., 24.])"
            ]
          },
          "metadata": {
            "tags": []
          },
          "execution_count": 42
        }
      ]
    },
    {
      "cell_type": "code",
      "metadata": {
        "colab_type": "code",
        "id": "YIGQwwIYz3ik",
        "colab": {
          "base_uri": "https://localhost:8080/",
          "height": 34
        },
        "outputId": "d890b20e-47aa-4473-c657-e3d2c1a88b72"
      },
      "source": [
        "dato.mean(axis=1)"
      ],
      "execution_count": 43,
      "outputs": [
        {
          "output_type": "execute_result",
          "data": {
            "text/plain": [
              "array([ 2.,  7., 12., 17., 22., 27., 32., 37., 42.])"
            ]
          },
          "metadata": {
            "tags": []
          },
          "execution_count": 43
        }
      ]
    },
    {
      "cell_type": "markdown",
      "metadata": {
        "id": "VEu8jghb-DeG",
        "colab_type": "text"
      },
      "source": [
        "# Broadcasting"
      ]
    },
    {
      "cell_type": "code",
      "metadata": {
        "id": "RPO5aG8T-DeG",
        "colab_type": "code",
        "colab": {}
      },
      "source": [
        "row = np.array([1, 2, 3, 4])\n",
        "column = np.array([[1], [2], [3]])\n",
        "print(\"Row:\\n\", row, sep='')\n",
        "print(\"Column:\\n\", column, sep='')"
      ],
      "execution_count": null,
      "outputs": []
    },
    {
      "cell_type": "code",
      "metadata": {
        "id": "D4AiLRFA-DeJ",
        "colab_type": "code",
        "colab": {}
      },
      "source": [
        "row + column"
      ],
      "execution_count": null,
      "outputs": []
    },
    {
      "cell_type": "markdown",
      "metadata": {
        "id": "nCHwTqL3-DeO",
        "colab_type": "text"
      },
      "source": [
        "<center><img src=\"https://github.com/ssanderson/pydata-toolbox/blob/master/notebooks/images/broadcasting.png?raw=1\" alt=\"Drawing\" style=\"width: 60%;\"/></center>\n",
        "\n",
        "<h5>Source: http://www.scipy-lectures.org/_images/numpy_broadcasting.png</h5>"
      ]
    },
    {
      "cell_type": "code",
      "metadata": {
        "id": "6rrS4GW8-DeP",
        "colab_type": "code",
        "colab": {}
      },
      "source": [
        "# Broadcasting is particularly useful in conjunction with reductions.\n",
        "print(\"Data:\\n\", data, sep='')\n",
        "print(\"Mean:\\n\", data.mean(axis=0), sep='')\n",
        "print(\"Data - Mean:\\n\", data - data.mean(axis=0), sep='')"
      ],
      "execution_count": null,
      "outputs": []
    },
    {
      "cell_type": "markdown",
      "metadata": {
        "colab_type": "text",
        "id": "rxvwnTkW3AfP"
      },
      "source": [
        "# MyBroadcasting"
      ]
    },
    {
      "cell_type": "code",
      "metadata": {
        "colab_type": "code",
        "id": "R7aFqtzU3AfQ",
        "colab": {
          "base_uri": "https://localhost:8080/",
          "height": 119
        },
        "outputId": "343eb240-ce52-4d2d-d362-d4df6efb975e"
      },
      "source": [
        "r = np.array([5,6,7,8])\n",
        "c = np.array([[3], [4], [5]])\n",
        "print(\"Fila:\\n\", r, sep='')\n",
        "print(\"Columna:\\n\", c, sep='')"
      ],
      "execution_count": 48,
      "outputs": [
        {
          "output_type": "stream",
          "text": [
            "Fila:\n",
            "[5 6 7 8]\n",
            "Columna:\n",
            "[[3]\n",
            " [4]\n",
            " [5]]\n"
          ],
          "name": "stdout"
        }
      ]
    },
    {
      "cell_type": "code",
      "metadata": {
        "colab_type": "code",
        "id": "y9Fyan1w3AfT",
        "colab": {
          "base_uri": "https://localhost:8080/",
          "height": 68
        },
        "outputId": "c295154c-aad4-4b6a-c231-0da324a22a77"
      },
      "source": [
        "r + c"
      ],
      "execution_count": 49,
      "outputs": [
        {
          "output_type": "execute_result",
          "data": {
            "text/plain": [
              "array([[ 8,  9, 10, 11],\n",
              "       [ 9, 10, 11, 12],\n",
              "       [10, 11, 12, 13]])"
            ]
          },
          "metadata": {
            "tags": []
          },
          "execution_count": 49
        }
      ]
    },
    {
      "cell_type": "code",
      "metadata": {
        "colab_type": "code",
        "id": "XepP_nvE3AfW",
        "colab": {
          "base_uri": "https://localhost:8080/",
          "height": 391
        },
        "outputId": "01505b96-87b9-415d-a1f3-0e94a6ace57b"
      },
      "source": [
        "# Broadcasting is particularly useful in conjunction with reductions.\n",
        "print(\"Datos:\\n\", dato, sep='')\n",
        "print(\"Media:\\n\", dato.mean(axis=0), sep='')\n",
        "print(\"Datos - Media:\\n\", dato - dato.mean(axis=0), sep='')"
      ],
      "execution_count": 50,
      "outputs": [
        {
          "output_type": "stream",
          "text": [
            "Datos:\n",
            "[[ 0  1  2  3  4]\n",
            " [ 5  6  7  8  9]\n",
            " [10 11 12 13 14]\n",
            " [15 16 17 18 19]\n",
            " [20 21 22 23 24]\n",
            " [25 26 27 28 29]\n",
            " [30 31 32 33 34]\n",
            " [35 36 37 38 39]\n",
            " [40 41 42 43 44]]\n",
            "Media:\n",
            "[20. 21. 22. 23. 24.]\n",
            "Datos - Media:\n",
            "[[-20. -20. -20. -20. -20.]\n",
            " [-15. -15. -15. -15. -15.]\n",
            " [-10. -10. -10. -10. -10.]\n",
            " [ -5.  -5.  -5.  -5.  -5.]\n",
            " [  0.   0.   0.   0.   0.]\n",
            " [  5.   5.   5.   5.   5.]\n",
            " [ 10.  10.  10.  10.  10.]\n",
            " [ 15.  15.  15.  15.  15.]\n",
            " [ 20.  20.  20.  20.  20.]]\n"
          ],
          "name": "stdout"
        }
      ]
    },
    {
      "cell_type": "markdown",
      "metadata": {
        "id": "TW9eGKxM-DeR",
        "colab_type": "text"
      },
      "source": [
        "# Broadcasting Review\n",
        "\n",
        "- Numpy operations can work on arrays of different dimensions as long as the arrays' shapes are still \"compatible\".\n",
        "- Broadcasting works by \"tiling\" the smaller array along the missing dimension.\n",
        "- The result of a broadcasted operation is always at least as large in each dimension as the largest array in that dimension."
      ]
    },
    {
      "cell_type": "markdown",
      "metadata": {
        "id": "NqCuX3wN-DeR",
        "colab_type": "text"
      },
      "source": [
        "# Numpy Review"
      ]
    },
    {
      "cell_type": "markdown",
      "metadata": {
        "id": "lcyepI-5-DeR",
        "colab_type": "text"
      },
      "source": [
        "- Numerical algorithms are slow in pure Python because the overhead dynamic dispatch dominates our runtime."
      ]
    },
    {
      "cell_type": "markdown",
      "metadata": {
        "id": "s11EQhW1-DeS",
        "colab_type": "text"
      },
      "source": [
        "- Numpy solves this problem by:\n",
        "  1. Imposing additional restrictions on the contents of arrays.\n",
        "  2. Moving the inner loops of our algorithms into compiled C code."
      ]
    },
    {
      "cell_type": "markdown",
      "metadata": {
        "id": "GMrhoivN-DeT",
        "colab_type": "text"
      },
      "source": [
        "- Using Numpy effectively often requires reworking an algorithms to use vectorized operations instead of for-loops, but the resulting operations are usually simpler, clearer, and faster than the pure Python equivalent."
      ]
    },
    {
      "cell_type": "markdown",
      "metadata": {
        "id": "YLx4o17y-DeT",
        "colab_type": "text"
      },
      "source": [
        "<center><img src=\"https://github.com/ssanderson/pydata-toolbox/blob/master/notebooks/images/unicorn.jpg?raw=1\" alt=\"Drawing\" style=\"width: 75%;\"/></center>"
      ]
    },
    {
      "cell_type": "markdown",
      "metadata": {
        "id": "4sR08F7e-DeU",
        "colab_type": "text"
      },
      "source": [
        "Numpy is great for many things, but..."
      ]
    },
    {
      "cell_type": "markdown",
      "metadata": {
        "id": "dMe4XldY-DeU",
        "colab_type": "text"
      },
      "source": [
        "- Sometimes our data is equipped with a natural set of **labels**:\n",
        "  - Dates/Times\n",
        "  - Stock Tickers\n",
        "  - Field Names (e.g. Open/High/Low/Close)"
      ]
    },
    {
      "cell_type": "markdown",
      "metadata": {
        "id": "dapqyVdq-DeU",
        "colab_type": "text"
      },
      "source": [
        "- Sometimes we have **more than one type of data** that we want to keep grouped together.\n",
        "  - Tables with a mix of real-valued and categorical data."
      ]
    },
    {
      "cell_type": "markdown",
      "metadata": {
        "id": "VVvxDgSg-DeV",
        "colab_type": "text"
      },
      "source": [
        "- Sometimes we have **missing** data, which we need to ignore, fill, or otherwise work around."
      ]
    },
    {
      "cell_type": "markdown",
      "metadata": {
        "id": "hVPBJbxc-DeX",
        "colab_type": "text"
      },
      "source": [
        "<center><img src=\"https://github.com/ssanderson/pydata-toolbox/blob/master/notebooks/images/panda-wrangling.gif?raw=1\" alt=\"Drawing\" style=\"width: 75%;\"/></center>"
      ]
    },
    {
      "cell_type": "markdown",
      "metadata": {
        "id": "iXsvBIDN-DeY",
        "colab_type": "text"
      },
      "source": [
        "<center><img src=\"https://github.com/ssanderson/pydata-toolbox/blob/master/notebooks/images/pandas_logo.png?raw=1\" alt=\"Drawing\" style=\"width: 75%;\"/></center>\n"
      ]
    },
    {
      "cell_type": "markdown",
      "metadata": {
        "id": "V6EwyImu-DeZ",
        "colab_type": "text"
      },
      "source": [
        "Pandas extends Numpy with more complex data structures:\n",
        "\n",
        "- `Series`: 1-dimensional, homogenously-typed, labelled array.\n",
        "- `DataFrame`: 2-dimensional, semi-homogenous, labelled table."
      ]
    },
    {
      "cell_type": "markdown",
      "metadata": {
        "id": "js79h_nu-Dea",
        "colab_type": "text"
      },
      "source": [
        "Pandas also provides many utilities for: \n",
        "- Input/Output\n",
        "- Data Cleaning\n",
        "- Rolling Algorithms\n",
        "- Plotting"
      ]
    },
    {
      "cell_type": "markdown",
      "metadata": {
        "id": "7b68i4b_-Dea",
        "colab_type": "text"
      },
      "source": [
        "# Selection in Pandas"
      ]
    },
    {
      "cell_type": "code",
      "metadata": {
        "id": "nvoOHLN_-Dea",
        "colab_type": "code",
        "colab": {}
      },
      "source": [
        "s = pd.Series(index=['a', 'b', 'c', 'd', 'e'], data=[1, 2, 3, 4, 5])\n",
        "s"
      ],
      "execution_count": null,
      "outputs": []
    },
    {
      "cell_type": "code",
      "metadata": {
        "id": "k6P_KknT-Dec",
        "colab_type": "code",
        "colab": {}
      },
      "source": [
        "# There are two pieces to a Series: the index and the values.\n",
        "print(\"The index is:\", s.index)\n",
        "print(\"The values are:\", s.values)"
      ],
      "execution_count": null,
      "outputs": []
    },
    {
      "cell_type": "code",
      "metadata": {
        "id": "grvwLM_C-Def",
        "colab_type": "code",
        "colab": {}
      },
      "source": [
        "# We can look up values out of a Series by position...\n",
        "s.iloc[0]"
      ],
      "execution_count": null,
      "outputs": []
    },
    {
      "cell_type": "code",
      "metadata": {
        "id": "8Y4Y_399-Deh",
        "colab_type": "code",
        "colab": {}
      },
      "source": [
        "# ... or by label.\n",
        "s.loc['a']"
      ],
      "execution_count": null,
      "outputs": []
    },
    {
      "cell_type": "code",
      "metadata": {
        "id": "qfQkVvGS-Dej",
        "colab_type": "code",
        "colab": {}
      },
      "source": [
        "# Slicing works as expected...\n",
        "s.iloc[:2]"
      ],
      "execution_count": null,
      "outputs": []
    },
    {
      "cell_type": "code",
      "metadata": {
        "id": "Iwm3NlOI-Dem",
        "colab_type": "code",
        "colab": {}
      },
      "source": [
        "# ...but it works with labels too!\n",
        "s.loc[:'c']"
      ],
      "execution_count": null,
      "outputs": []
    },
    {
      "cell_type": "code",
      "metadata": {
        "id": "IFkFY3uB-Deo",
        "colab_type": "code",
        "colab": {}
      },
      "source": [
        "# Fancy indexing works the same as in numpy.\n",
        "s.iloc[[0, -1]]"
      ],
      "execution_count": null,
      "outputs": []
    },
    {
      "cell_type": "code",
      "metadata": {
        "id": "G2bVDySs-Deq",
        "colab_type": "code",
        "colab": {}
      },
      "source": [
        "# As does boolean masking.\n",
        "s.loc[s > 2]"
      ],
      "execution_count": null,
      "outputs": []
    },
    {
      "cell_type": "code",
      "metadata": {
        "id": "s0huaE9e-Der",
        "colab_type": "code",
        "colab": {}
      },
      "source": [
        "# Element-wise operations are aligned by index.\n",
        "other_s = pd.Series({'a': 10.0, 'c': 20.0, 'd': 30.0, 'z': 40.0})\n",
        "other_s"
      ],
      "execution_count": null,
      "outputs": []
    },
    {
      "cell_type": "code",
      "metadata": {
        "id": "Q5zhvrqZ-Deu",
        "colab_type": "code",
        "colab": {}
      },
      "source": [
        "s + other_s"
      ],
      "execution_count": null,
      "outputs": []
    },
    {
      "cell_type": "code",
      "metadata": {
        "id": "Vt1CmWvk-Dew",
        "colab_type": "code",
        "colab": {}
      },
      "source": [
        "# We can fill in missing values with fillna().\n",
        "(s + other_s).fillna(0.0)"
      ],
      "execution_count": null,
      "outputs": []
    },
    {
      "cell_type": "code",
      "metadata": {
        "id": "q99s-kRi-Dey",
        "colab_type": "code",
        "colab": {}
      },
      "source": [
        "# Most real datasets are read in from an external file format.\n",
        "aapl = pd.read_csv('sample_data/AAPL.csv', parse_dates=['Date'], index_col='Date')\n",
        "aapl.head()"
      ],
      "execution_count": null,
      "outputs": []
    },
    {
      "cell_type": "code",
      "metadata": {
        "id": "N2bZHgpy-Dez",
        "colab_type": "code",
        "colab": {}
      },
      "source": [
        "# Slicing generalizes to two dimensions as you'd expect:\n",
        "aapl.iloc[:2, :2]"
      ],
      "execution_count": null,
      "outputs": []
    },
    {
      "cell_type": "code",
      "metadata": {
        "id": "STUcC7bI-De1",
        "colab_type": "code",
        "colab": {}
      },
      "source": [
        "aapl.loc[pd.Timestamp('2010-02-01'):pd.Timestamp('2010-02-04'), ['Close', 'Volume']]"
      ],
      "execution_count": null,
      "outputs": []
    },
    {
      "cell_type": "markdown",
      "metadata": {
        "colab_type": "text",
        "id": "iY__QDD74uKt"
      },
      "source": [
        "# MySelection in Pandas"
      ]
    },
    {
      "cell_type": "code",
      "metadata": {
        "colab_type": "code",
        "id": "8ySM_2bV4uKv",
        "colab": {
          "base_uri": "https://localhost:8080/",
          "height": 153
        },
        "outputId": "138d904b-204e-44f2-f2f7-396f79bb0872"
      },
      "source": [
        "m = pd.Series(index=['M', 'N', 'O', 'P', 'Q','R','S'], data=[32,54,23,123,12,12,54])\n",
        "m"
      ],
      "execution_count": 52,
      "outputs": [
        {
          "output_type": "execute_result",
          "data": {
            "text/plain": [
              "M     32\n",
              "N     54\n",
              "O     23\n",
              "P    123\n",
              "Q     12\n",
              "R     12\n",
              "S     54\n",
              "dtype: int64"
            ]
          },
          "metadata": {
            "tags": []
          },
          "execution_count": 52
        }
      ]
    },
    {
      "cell_type": "code",
      "metadata": {
        "colab_type": "code",
        "id": "UqppKfot4uKy",
        "colab": {
          "base_uri": "https://localhost:8080/",
          "height": 51
        },
        "outputId": "eec84e24-b048-4d1b-f0cc-3e72ed0ced59"
      },
      "source": [
        "# There are two pieces to a Series: the index and the values.\n",
        "print(\"Indices:\", m.index)\n",
        "print(\"Valores:\", m.values)"
      ],
      "execution_count": 53,
      "outputs": [
        {
          "output_type": "stream",
          "text": [
            "Indices: Index(['M', 'N', 'O', 'P', 'Q', 'R', 'S'], dtype='object')\n",
            "Valores: [ 32  54  23 123  12  12  54]\n"
          ],
          "name": "stdout"
        }
      ]
    },
    {
      "cell_type": "code",
      "metadata": {
        "colab_type": "code",
        "id": "XDVUwmcm4uK1",
        "colab": {
          "base_uri": "https://localhost:8080/",
          "height": 34
        },
        "outputId": "f88c6748-ac34-4a9e-9c88-c567c0529b80"
      },
      "source": [
        "# Valor de la cuarta casilla\n",
        "m.iloc[3]"
      ],
      "execution_count": 58,
      "outputs": [
        {
          "output_type": "execute_result",
          "data": {
            "text/plain": [
              "123"
            ]
          },
          "metadata": {
            "tags": []
          },
          "execution_count": 58
        }
      ]
    },
    {
      "cell_type": "code",
      "metadata": {
        "colab_type": "code",
        "id": "m38CX30S4uK3",
        "colab": {
          "base_uri": "https://localhost:8080/",
          "height": 34
        },
        "outputId": "92995f0f-019b-46f6-b7fd-5c5034a5e502"
      },
      "source": [
        "# o por el indice\n",
        "m.loc['S']"
      ],
      "execution_count": 61,
      "outputs": [
        {
          "output_type": "execute_result",
          "data": {
            "text/plain": [
              "54"
            ]
          },
          "metadata": {
            "tags": []
          },
          "execution_count": 61
        }
      ]
    },
    {
      "cell_type": "code",
      "metadata": {
        "colab_type": "code",
        "id": "js3TtfK-4uK5",
        "colab": {
          "base_uri": "https://localhost:8080/",
          "height": 119
        },
        "outputId": "31ca5e0b-17d2-435e-a250-fe45fd5b69e5"
      },
      "source": [
        "# Slicing works as expected...\n",
        "m.iloc[:5]"
      ],
      "execution_count": 62,
      "outputs": [
        {
          "output_type": "execute_result",
          "data": {
            "text/plain": [
              "M     32\n",
              "N     54\n",
              "O     23\n",
              "P    123\n",
              "Q     12\n",
              "dtype: int64"
            ]
          },
          "metadata": {
            "tags": []
          },
          "execution_count": 62
        }
      ]
    },
    {
      "cell_type": "code",
      "metadata": {
        "colab_type": "code",
        "id": "iC60dvjq4uK-",
        "colab": {
          "base_uri": "https://localhost:8080/",
          "height": 68
        },
        "outputId": "40493974-6774-4512-dada-0d422e834e72"
      },
      "source": [
        "# ...but it works with labels too!\n",
        "m.loc[:'N']"
      ],
      "execution_count": 64,
      "outputs": [
        {
          "output_type": "execute_result",
          "data": {
            "text/plain": [
              "M    32\n",
              "N    54\n",
              "dtype: int64"
            ]
          },
          "metadata": {
            "tags": []
          },
          "execution_count": 64
        }
      ]
    },
    {
      "cell_type": "code",
      "metadata": {
        "colab_type": "code",
        "id": "MMZCFhHz4uLA",
        "colab": {
          "base_uri": "https://localhost:8080/",
          "height": 68
        },
        "outputId": "894c10ee-9130-4876-f753-9d417f1f30d9"
      },
      "source": [
        "# Fancy indexing works the same as in numpy.\n",
        "m.iloc[[2, -3]]"
      ],
      "execution_count": 66,
      "outputs": [
        {
          "output_type": "execute_result",
          "data": {
            "text/plain": [
              "O    23\n",
              "Q    12\n",
              "dtype: int64"
            ]
          },
          "metadata": {
            "tags": []
          },
          "execution_count": 66
        }
      ]
    },
    {
      "cell_type": "code",
      "metadata": {
        "colab_type": "code",
        "id": "DJ95G_vJ4uLC",
        "colab": {
          "base_uri": "https://localhost:8080/",
          "height": 85
        },
        "outputId": "7cb06890-e76d-45a8-9fd1-475ec4b37c56"
      },
      "source": [
        "# As does boolean masking.\n",
        "m.loc[m < 28]"
      ],
      "execution_count": 68,
      "outputs": [
        {
          "output_type": "execute_result",
          "data": {
            "text/plain": [
              "O    23\n",
              "Q    12\n",
              "R    12\n",
              "dtype: int64"
            ]
          },
          "metadata": {
            "tags": []
          },
          "execution_count": 68
        }
      ]
    },
    {
      "cell_type": "code",
      "metadata": {
        "colab_type": "code",
        "id": "Hw7zcMm14uLE",
        "colab": {
          "base_uri": "https://localhost:8080/",
          "height": 119
        },
        "outputId": "99fbbbed-047a-4ce8-bc44-39bd892abce1"
      },
      "source": [
        "om = pd.Series({'G': 23.0, 'A': 42.0, 'M': 3.0, 'P': 140.0, 'V': 76.0})\n",
        "om"
      ],
      "execution_count": 69,
      "outputs": [
        {
          "output_type": "execute_result",
          "data": {
            "text/plain": [
              "G     23.0\n",
              "A     42.0\n",
              "M      3.0\n",
              "P    140.0\n",
              "V     76.0\n",
              "dtype: float64"
            ]
          },
          "metadata": {
            "tags": []
          },
          "execution_count": 69
        }
      ]
    },
    {
      "cell_type": "code",
      "metadata": {
        "colab_type": "code",
        "id": "C3MpboNt4uLH",
        "colab": {
          "base_uri": "https://localhost:8080/",
          "height": 204
        },
        "outputId": "597094aa-314a-4ae3-c5c3-06f43c532516"
      },
      "source": [
        "m + om"
      ],
      "execution_count": 70,
      "outputs": [
        {
          "output_type": "execute_result",
          "data": {
            "text/plain": [
              "A      NaN\n",
              "G      NaN\n",
              "M     35.0\n",
              "N      NaN\n",
              "O      NaN\n",
              "P    263.0\n",
              "Q      NaN\n",
              "R      NaN\n",
              "S      NaN\n",
              "V      NaN\n",
              "dtype: float64"
            ]
          },
          "metadata": {
            "tags": []
          },
          "execution_count": 70
        }
      ]
    },
    {
      "cell_type": "code",
      "metadata": {
        "colab_type": "code",
        "id": "IGGhEuq-4uLL",
        "colab": {
          "base_uri": "https://localhost:8080/",
          "height": 204
        },
        "outputId": "247cb4b8-270d-4647-f5a9-100f603afcec"
      },
      "source": [
        "# We can fill in missing values with fillna().\n",
        "(m + om).fillna(0.0)"
      ],
      "execution_count": 71,
      "outputs": [
        {
          "output_type": "execute_result",
          "data": {
            "text/plain": [
              "A      0.0\n",
              "G      0.0\n",
              "M     35.0\n",
              "N      0.0\n",
              "O      0.0\n",
              "P    263.0\n",
              "Q      0.0\n",
              "R      0.0\n",
              "S      0.0\n",
              "V      0.0\n",
              "dtype: float64"
            ]
          },
          "metadata": {
            "tags": []
          },
          "execution_count": 71
        }
      ]
    },
    {
      "cell_type": "code",
      "metadata": {
        "colab_type": "code",
        "id": "Dn6yK2KQ4uLN",
        "colab": {
          "base_uri": "https://localhost:8080/",
          "height": 235
        },
        "outputId": "23b539e1-3218-4cad-c288-105279d23121"
      },
      "source": [
        "\n",
        "app = pd.read_csv('sample_data/AAPL.csv', parse_dates=['Date'], index_col='Date')\n",
        "app.head()"
      ],
      "execution_count": 79,
      "outputs": [
        {
          "output_type": "execute_result",
          "data": {
            "text/html": [
              "<div>\n",
              "<style scoped>\n",
              "    .dataframe tbody tr th:only-of-type {\n",
              "        vertical-align: middle;\n",
              "    }\n",
              "\n",
              "    .dataframe tbody tr th {\n",
              "        vertical-align: top;\n",
              "    }\n",
              "\n",
              "    .dataframe thead th {\n",
              "        text-align: right;\n",
              "    }\n",
              "</style>\n",
              "<table border=\"1\" class=\"dataframe\">\n",
              "  <thead>\n",
              "    <tr style=\"text-align: right;\">\n",
              "      <th></th>\n",
              "      <th>Adj Close</th>\n",
              "      <th>Close</th>\n",
              "      <th>High</th>\n",
              "      <th>Low</th>\n",
              "      <th>Open</th>\n",
              "      <th>Volume</th>\n",
              "    </tr>\n",
              "    <tr>\n",
              "      <th>Date</th>\n",
              "      <th></th>\n",
              "      <th></th>\n",
              "      <th></th>\n",
              "      <th></th>\n",
              "      <th></th>\n",
              "      <th></th>\n",
              "    </tr>\n",
              "  </thead>\n",
              "  <tbody>\n",
              "    <tr>\n",
              "      <th>2010-01-04</th>\n",
              "      <td>27.613066</td>\n",
              "      <td>30.572857</td>\n",
              "      <td>30.642857</td>\n",
              "      <td>30.340000</td>\n",
              "      <td>30.490000</td>\n",
              "      <td>123432400.0</td>\n",
              "    </tr>\n",
              "    <tr>\n",
              "      <th>2010-01-05</th>\n",
              "      <td>27.660807</td>\n",
              "      <td>30.625713</td>\n",
              "      <td>30.798571</td>\n",
              "      <td>30.464285</td>\n",
              "      <td>30.657143</td>\n",
              "      <td>150476200.0</td>\n",
              "    </tr>\n",
              "    <tr>\n",
              "      <th>2010-01-06</th>\n",
              "      <td>27.220825</td>\n",
              "      <td>30.138571</td>\n",
              "      <td>30.747143</td>\n",
              "      <td>30.107143</td>\n",
              "      <td>30.625713</td>\n",
              "      <td>138040000.0</td>\n",
              "    </tr>\n",
              "    <tr>\n",
              "      <th>2010-01-07</th>\n",
              "      <td>27.170504</td>\n",
              "      <td>30.082857</td>\n",
              "      <td>30.285715</td>\n",
              "      <td>29.864286</td>\n",
              "      <td>30.250000</td>\n",
              "      <td>119282800.0</td>\n",
              "    </tr>\n",
              "    <tr>\n",
              "      <th>2010-01-08</th>\n",
              "      <td>27.351143</td>\n",
              "      <td>30.282858</td>\n",
              "      <td>30.285715</td>\n",
              "      <td>29.865715</td>\n",
              "      <td>30.042856</td>\n",
              "      <td>111902700.0</td>\n",
              "    </tr>\n",
              "  </tbody>\n",
              "</table>\n",
              "</div>"
            ],
            "text/plain": [
              "            Adj Close      Close       High        Low       Open       Volume\n",
              "Date                                                                          \n",
              "2010-01-04  27.613066  30.572857  30.642857  30.340000  30.490000  123432400.0\n",
              "2010-01-05  27.660807  30.625713  30.798571  30.464285  30.657143  150476200.0\n",
              "2010-01-06  27.220825  30.138571  30.747143  30.107143  30.625713  138040000.0\n",
              "2010-01-07  27.170504  30.082857  30.285715  29.864286  30.250000  119282800.0\n",
              "2010-01-08  27.351143  30.282858  30.285715  29.865715  30.042856  111902700.0"
            ]
          },
          "metadata": {
            "tags": []
          },
          "execution_count": 79
        }
      ]
    },
    {
      "cell_type": "code",
      "metadata": {
        "colab_type": "code",
        "id": "cTQeP6xl4uLR",
        "colab": {
          "base_uri": "https://localhost:8080/",
          "height": 173
        },
        "outputId": "35b98cae-d77b-4da0-f2ea-0f13a1c7aef4"
      },
      "source": [
        "# 1er # filas 2do # columnas\n",
        "app.iloc[:3, :4]"
      ],
      "execution_count": 84,
      "outputs": [
        {
          "output_type": "execute_result",
          "data": {
            "text/html": [
              "<div>\n",
              "<style scoped>\n",
              "    .dataframe tbody tr th:only-of-type {\n",
              "        vertical-align: middle;\n",
              "    }\n",
              "\n",
              "    .dataframe tbody tr th {\n",
              "        vertical-align: top;\n",
              "    }\n",
              "\n",
              "    .dataframe thead th {\n",
              "        text-align: right;\n",
              "    }\n",
              "</style>\n",
              "<table border=\"1\" class=\"dataframe\">\n",
              "  <thead>\n",
              "    <tr style=\"text-align: right;\">\n",
              "      <th></th>\n",
              "      <th>Adj Close</th>\n",
              "      <th>Close</th>\n",
              "      <th>High</th>\n",
              "      <th>Low</th>\n",
              "    </tr>\n",
              "    <tr>\n",
              "      <th>Date</th>\n",
              "      <th></th>\n",
              "      <th></th>\n",
              "      <th></th>\n",
              "      <th></th>\n",
              "    </tr>\n",
              "  </thead>\n",
              "  <tbody>\n",
              "    <tr>\n",
              "      <th>2010-01-04</th>\n",
              "      <td>27.613066</td>\n",
              "      <td>30.572857</td>\n",
              "      <td>30.642857</td>\n",
              "      <td>30.340000</td>\n",
              "    </tr>\n",
              "    <tr>\n",
              "      <th>2010-01-05</th>\n",
              "      <td>27.660807</td>\n",
              "      <td>30.625713</td>\n",
              "      <td>30.798571</td>\n",
              "      <td>30.464285</td>\n",
              "    </tr>\n",
              "    <tr>\n",
              "      <th>2010-01-06</th>\n",
              "      <td>27.220825</td>\n",
              "      <td>30.138571</td>\n",
              "      <td>30.747143</td>\n",
              "      <td>30.107143</td>\n",
              "    </tr>\n",
              "  </tbody>\n",
              "</table>\n",
              "</div>"
            ],
            "text/plain": [
              "            Adj Close      Close       High        Low\n",
              "Date                                                  \n",
              "2010-01-04  27.613066  30.572857  30.642857  30.340000\n",
              "2010-01-05  27.660807  30.625713  30.798571  30.464285\n",
              "2010-01-06  27.220825  30.138571  30.747143  30.107143"
            ]
          },
          "metadata": {
            "tags": []
          },
          "execution_count": 84
        }
      ]
    },
    {
      "cell_type": "code",
      "metadata": {
        "colab_type": "code",
        "id": "RsYEMPkj4uLU",
        "colab": {
          "base_uri": "https://localhost:8080/",
          "height": 235
        },
        "outputId": "83a61f2f-2b5e-4a06-b2b0-1a4c8bfe63fd"
      },
      "source": [
        "app.loc[pd.Timestamp('2010-02-01'):pd.Timestamp('2010-02-05'), ['Close', 'Volume','Open']]"
      ],
      "execution_count": 86,
      "outputs": [
        {
          "output_type": "execute_result",
          "data": {
            "text/html": [
              "<div>\n",
              "<style scoped>\n",
              "    .dataframe tbody tr th:only-of-type {\n",
              "        vertical-align: middle;\n",
              "    }\n",
              "\n",
              "    .dataframe tbody tr th {\n",
              "        vertical-align: top;\n",
              "    }\n",
              "\n",
              "    .dataframe thead th {\n",
              "        text-align: right;\n",
              "    }\n",
              "</style>\n",
              "<table border=\"1\" class=\"dataframe\">\n",
              "  <thead>\n",
              "    <tr style=\"text-align: right;\">\n",
              "      <th></th>\n",
              "      <th>Close</th>\n",
              "      <th>Volume</th>\n",
              "      <th>Open</th>\n",
              "    </tr>\n",
              "    <tr>\n",
              "      <th>Date</th>\n",
              "      <th></th>\n",
              "      <th></th>\n",
              "      <th></th>\n",
              "    </tr>\n",
              "  </thead>\n",
              "  <tbody>\n",
              "    <tr>\n",
              "      <th>2010-02-01</th>\n",
              "      <td>27.818571</td>\n",
              "      <td>187469100.0</td>\n",
              "      <td>27.481428</td>\n",
              "    </tr>\n",
              "    <tr>\n",
              "      <th>2010-02-02</th>\n",
              "      <td>27.980000</td>\n",
              "      <td>174585600.0</td>\n",
              "      <td>27.987143</td>\n",
              "    </tr>\n",
              "    <tr>\n",
              "      <th>2010-02-03</th>\n",
              "      <td>28.461428</td>\n",
              "      <td>153832000.0</td>\n",
              "      <td>27.881428</td>\n",
              "    </tr>\n",
              "    <tr>\n",
              "      <th>2010-02-04</th>\n",
              "      <td>27.435715</td>\n",
              "      <td>189413000.0</td>\n",
              "      <td>28.104286</td>\n",
              "    </tr>\n",
              "    <tr>\n",
              "      <th>2010-02-05</th>\n",
              "      <td>27.922857</td>\n",
              "      <td>212576700.0</td>\n",
              "      <td>27.518572</td>\n",
              "    </tr>\n",
              "  </tbody>\n",
              "</table>\n",
              "</div>"
            ],
            "text/plain": [
              "                Close       Volume       Open\n",
              "Date                                         \n",
              "2010-02-01  27.818571  187469100.0  27.481428\n",
              "2010-02-02  27.980000  174585600.0  27.987143\n",
              "2010-02-03  28.461428  153832000.0  27.881428\n",
              "2010-02-04  27.435715  189413000.0  28.104286\n",
              "2010-02-05  27.922857  212576700.0  27.518572"
            ]
          },
          "metadata": {
            "tags": []
          },
          "execution_count": 86
        }
      ]
    },
    {
      "cell_type": "markdown",
      "metadata": {
        "id": "59KN1plb-De5",
        "colab_type": "text"
      },
      "source": [
        "# Rolling Operations"
      ]
    },
    {
      "cell_type": "markdown",
      "metadata": {
        "id": "JIh6Bd5c-De5",
        "colab_type": "text"
      },
      "source": [
        "<center><img src=\"https://github.com/ssanderson/pydata-toolbox/blob/master/notebooks/images/rolling.gif?raw=1\" alt=\"Drawing\" style=\"width: 75%;\"/></center>"
      ]
    },
    {
      "cell_type": "code",
      "metadata": {
        "id": "kDu56Sup-De5",
        "colab_type": "code",
        "colab": {}
      },
      "source": [
        "aapl.rolling(5)[['Close', 'Adj Close']].mean().plot();"
      ],
      "execution_count": null,
      "outputs": []
    },
    {
      "cell_type": "code",
      "metadata": {
        "id": "4gv_hSZR-De8",
        "colab_type": "code",
        "colab": {}
      },
      "source": [
        "# Drop `Volume`, since it's way bigger than everything else.\n",
        "aapl.drop('Volume', axis=1).resample('2W').max().plot();"
      ],
      "execution_count": null,
      "outputs": []
    },
    {
      "cell_type": "code",
      "metadata": {
        "id": "oRORhut3-De-",
        "colab_type": "code",
        "colab": {}
      },
      "source": [
        "# 30-day rolling exponentially-weighted stddev of returns.\n",
        "aapl['Close'].pct_change().ewm(span=30).std().plot();"
      ],
      "execution_count": null,
      "outputs": []
    },
    {
      "cell_type": "markdown",
      "metadata": {
        "colab_type": "text",
        "id": "wqSjg0il81OS"
      },
      "source": [
        "# MyRolling Operations"
      ]
    },
    {
      "cell_type": "code",
      "metadata": {
        "colab_type": "code",
        "id": "ty8wLmqG81OW",
        "colab": {
          "base_uri": "https://localhost:8080/",
          "height": 416
        },
        "outputId": "25eec886-1c64-40c5-fd1d-ed3dd9099b80"
      },
      "source": [
        "app.rolling(3)[['Open', 'High']].mean().plot();"
      ],
      "execution_count": 87,
      "outputs": [
        {
          "output_type": "display_data",
          "data": {
            "image/png": "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\n",
            "text/plain": [
              "<Figure size 864x504 with 1 Axes>"
            ]
          },
          "metadata": {
            "tags": [],
            "needs_background": "light"
          }
        }
      ]
    },
    {
      "cell_type": "code",
      "metadata": {
        "colab_type": "code",
        "id": "3TSkTP-D81Od",
        "colab": {
          "base_uri": "https://localhost:8080/",
          "height": 453
        },
        "outputId": "5af81546-587a-4fa5-c491-df985f15a572"
      },
      "source": [
        "# Drop `Adj Close`, since it's way bigger than everything else.\n",
        "app.drop('Adj Close', axis=1).resample('2W').max().plot();"
      ],
      "execution_count": 90,
      "outputs": [
        {
          "output_type": "display_data",
          "data": {
            "image/png": "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\n",
            "text/plain": [
              "<Figure size 864x504 with 1 Axes>"
            ]
          },
          "metadata": {
            "tags": [],
            "needs_background": "light"
          }
        }
      ]
    },
    {
      "cell_type": "code",
      "metadata": {
        "colab_type": "code",
        "id": "8o1rAKP881Oj",
        "colab": {
          "base_uri": "https://localhost:8080/",
          "height": 416
        },
        "outputId": "b7773413-77b9-485d-b14e-c201449bfb46"
      },
      "source": [
        "# 28-day rolling exponentially-weighted stddev of returns.\n",
        "aapl['Open'].pct_change().ewm(span=28).std().plot();"
      ],
      "execution_count": 91,
      "outputs": [
        {
          "output_type": "display_data",
          "data": {
            "image/png": "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\n",
            "text/plain": [
              "<Figure size 864x504 with 1 Axes>"
            ]
          },
          "metadata": {
            "tags": [],
            "needs_background": "light"
          }
        }
      ]
    },
    {
      "cell_type": "markdown",
      "metadata": {
        "id": "rf1dUM0x-DfB",
        "colab_type": "text"
      },
      "source": [
        "# \"Real World\" Data"
      ]
    },
    {
      "cell_type": "code",
      "metadata": {
        "id": "80SRFfgy-DfC",
        "colab_type": "code",
        "colab": {
          "base_uri": "https://localhost:8080/",
          "height": 306
        },
        "outputId": "308c8a9c-0447-474e-d27d-af7d7039ef3a"
      },
      "source": [
        "# Modificacion @gmojica\n",
        "\n",
        "#Aparece un error 505, por lo que se neceita importar de forma manual avocadata.html de los respectivos datos\n",
        "\n",
        "\n",
        "#Funcion lectura\n",
        "def read():\n",
        "  cache_loc='avocadata.html'\n",
        "  with open(cache_loc, 'rb') as f:\n",
        "    frame = pd.read_html(f, header=0)[0]\n",
        "\n",
        "  # Limpieza\n",
        "  frame = frame[frame['Unit'] == 'each']\n",
        "  frame['Organic'] = (frame['Organic'] == 'Y')\n",
        "  frame['Variety'].replace(\n",
        "      {'VARIOUS GREENSKIN VARIETIES': 'GREENSKIN'},\n",
        "      inplace=True,\n",
        "  )\n",
        "  frame['Date'] = pd.to_datetime(frame['Date'].values, utc=True)\n",
        "  frame['Region'] = frame['Region'].str.replace(' U.S.', '')\n",
        "  frame['Region'] = frame['Region'].str.replace(' ', '_')\n",
        "\n",
        "  # Borrar columnas innecesarias.\n",
        "  return frame.drop(\n",
        "    ['Class', 'Commodity', 'Environment', 'Unit', '% Marked Local'],\n",
        "    axis=1,\n",
        "  )\n",
        "avocados = read()\n",
        "avocados.head()"
      ],
      "execution_count": 92,
      "outputs": [
        {
          "output_type": "execute_result",
          "data": {
            "text/html": [
              "<div>\n",
              "<style scoped>\n",
              "    .dataframe tbody tr th:only-of-type {\n",
              "        vertical-align: middle;\n",
              "    }\n",
              "\n",
              "    .dataframe tbody tr th {\n",
              "        vertical-align: top;\n",
              "    }\n",
              "\n",
              "    .dataframe thead th {\n",
              "        text-align: right;\n",
              "    }\n",
              "</style>\n",
              "<table border=\"1\" class=\"dataframe\">\n",
              "  <thead>\n",
              "    <tr style=\"text-align: right;\">\n",
              "      <th></th>\n",
              "      <th>Date</th>\n",
              "      <th>Region</th>\n",
              "      <th>Variety</th>\n",
              "      <th>Organic</th>\n",
              "      <th>Number of Stores</th>\n",
              "      <th>Weighted Avg Price</th>\n",
              "      <th>Low Price</th>\n",
              "      <th>High Price</th>\n",
              "    </tr>\n",
              "  </thead>\n",
              "  <tbody>\n",
              "    <tr>\n",
              "      <th>0</th>\n",
              "      <td>2014-01-03 00:00:00+00:00</td>\n",
              "      <td>NATIONAL</td>\n",
              "      <td>HASS</td>\n",
              "      <td>False</td>\n",
              "      <td>9184</td>\n",
              "      <td>0.93</td>\n",
              "      <td>NaN</td>\n",
              "      <td>NaN</td>\n",
              "    </tr>\n",
              "    <tr>\n",
              "      <th>1</th>\n",
              "      <td>2014-01-03 00:00:00+00:00</td>\n",
              "      <td>NATIONAL</td>\n",
              "      <td>HASS</td>\n",
              "      <td>True</td>\n",
              "      <td>872</td>\n",
              "      <td>1.44</td>\n",
              "      <td>NaN</td>\n",
              "      <td>NaN</td>\n",
              "    </tr>\n",
              "    <tr>\n",
              "      <th>2</th>\n",
              "      <td>2014-01-03 00:00:00+00:00</td>\n",
              "      <td>NORTHEAST</td>\n",
              "      <td>HASS</td>\n",
              "      <td>False</td>\n",
              "      <td>1449</td>\n",
              "      <td>1.08</td>\n",
              "      <td>0.5</td>\n",
              "      <td>1.67</td>\n",
              "    </tr>\n",
              "    <tr>\n",
              "      <th>3</th>\n",
              "      <td>2014-01-03 00:00:00+00:00</td>\n",
              "      <td>NORTHEAST</td>\n",
              "      <td>HASS</td>\n",
              "      <td>True</td>\n",
              "      <td>66</td>\n",
              "      <td>1.54</td>\n",
              "      <td>1.5</td>\n",
              "      <td>2.00</td>\n",
              "    </tr>\n",
              "    <tr>\n",
              "      <th>4</th>\n",
              "      <td>2014-01-03 00:00:00+00:00</td>\n",
              "      <td>SOUTHEAST</td>\n",
              "      <td>HASS</td>\n",
              "      <td>False</td>\n",
              "      <td>2286</td>\n",
              "      <td>0.98</td>\n",
              "      <td>0.5</td>\n",
              "      <td>1.99</td>\n",
              "    </tr>\n",
              "  </tbody>\n",
              "</table>\n",
              "</div>"
            ],
            "text/plain": [
              "                       Date     Region  ... Low Price  High Price\n",
              "0 2014-01-03 00:00:00+00:00   NATIONAL  ...       NaN         NaN\n",
              "1 2014-01-03 00:00:00+00:00   NATIONAL  ...       NaN         NaN\n",
              "2 2014-01-03 00:00:00+00:00  NORTHEAST  ...       0.5        1.67\n",
              "3 2014-01-03 00:00:00+00:00  NORTHEAST  ...       1.5        2.00\n",
              "4 2014-01-03 00:00:00+00:00  SOUTHEAST  ...       0.5        1.99\n",
              "\n",
              "[5 rows x 8 columns]"
            ]
          },
          "metadata": {
            "tags": []
          },
          "execution_count": 92
        }
      ]
    },
    {
      "cell_type": "code",
      "metadata": {
        "id": "7Ia5BGSRDThb",
        "colab_type": "code",
        "colab": {}
      },
      "source": [
        "function = read()"
      ],
      "execution_count": 93,
      "outputs": []
    },
    {
      "cell_type": "code",
      "metadata": {
        "id": "GsgXOoIyDajG",
        "colab_type": "code",
        "colab": {
          "base_uri": "https://localhost:8080/",
          "height": 170
        },
        "outputId": "ca59ab49-9313-431a-e9ab-7872c7247d19"
      },
      "source": [
        "function.dtypes"
      ],
      "execution_count": 94,
      "outputs": [
        {
          "output_type": "execute_result",
          "data": {
            "text/plain": [
              "Date                  datetime64[ns, UTC]\n",
              "Region                             object\n",
              "Variety                            object\n",
              "Organic                              bool\n",
              "Number of Stores                    int64\n",
              "Weighted Avg Price                float64\n",
              "Low Price                         float64\n",
              "High Price                        float64\n",
              "dtype: object"
            ]
          },
          "metadata": {
            "tags": []
          },
          "execution_count": 94
        }
      ]
    },
    {
      "cell_type": "code",
      "metadata": {
        "id": "PmG3FWC1-DfH",
        "colab_type": "code",
        "colab": {}
      },
      "source": [
        "# What's the regional average price of a HASS avocado every day?\n",
        "hass = avocados[avocados.Variety == 'HASS']\n",
        "hass.groupby(['Date', 'Region'])['Weighted Avg Price'].mean().unstack().ffill().plot();"
      ],
      "execution_count": null,
      "outputs": []
    },
    {
      "cell_type": "code",
      "metadata": {
        "id": "aL0yhCYLD9vI",
        "colab_type": "code",
        "colab": {
          "base_uri": "https://localhost:8080/",
          "height": 424
        },
        "outputId": "2fb8b457-bc66-48b6-a03a-60c080a4d342"
      },
      "source": [
        "# @gmojica\n",
        "nattional = function[avocados.Region == 'NATIONAL']\n",
        "nattional.groupby(['Date', 'Variety'])['Weighted Avg Price'].mean().unstack().ffill().plot();"
      ],
      "execution_count": 96,
      "outputs": [
        {
          "output_type": "display_data",
          "data": {
            "image/png": "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\n",
            "text/plain": [
              "<Figure size 864x504 with 1 Axes>"
            ]
          },
          "metadata": {
            "tags": [],
            "needs_background": "light"
          }
        }
      ]
    },
    {
      "cell_type": "code",
      "metadata": {
        "id": "_aJAFZLK-DfI",
        "colab_type": "code",
        "colab": {}
      },
      "source": [
        "def _organic_spread(group):\n",
        "\n",
        "    if len(group.columns) != 2:\n",
        "        return pd.Series(index=group.index, data=0.0)\n",
        "    \n",
        "    is_organic = group.columns.get_level_values('Organic').values.astype(bool)\n",
        "    organics = group.loc[:, is_organic].squeeze()\n",
        "    non_organics = group.loc[:, ~is_organic].squeeze()\n",
        "    diff = organics - non_organics\n",
        "    return diff\n",
        "\n",
        "def organic_spread_by_region(df):\n",
        "    \"\"\"What's the difference between the price of an organic \n",
        "    and non-organic avocado within each region?\n",
        "    \"\"\"\n",
        "    return (\n",
        "        df\n",
        "        .set_index(['Date', 'Region', 'Organic'])\n",
        "         ['Weighted Avg Price']\n",
        "        .unstack(level=['Region', 'Organic'])\n",
        "        .ffill()\n",
        "        .groupby(level='Region', axis=1)\n",
        "        .apply(_organic_spread)\n",
        "    )"
      ],
      "execution_count": 97,
      "outputs": []
    },
    {
      "cell_type": "code",
      "metadata": {
        "id": "eb3BAhs9Bm05",
        "colab_type": "code",
        "colab": {}
      },
      "source": [
        "# @gmojica\n",
        "def _organic_spread(group):\n",
        "\n",
        "    if len(group.columns) != 2:\n",
        "        return pd.Series(index=group.index, data=0.0)\n",
        "    \n",
        "    is_organic = group.columns.get_level_values('Organic').values.astype(bool)\n",
        "    organics = group.loc[:, is_organic].squeeze()\n",
        "    non_organics = group.loc[:, ~is_organic].squeeze()\n",
        "    diff = organics - non_organics\n",
        "    return diff\n",
        "\n",
        "def organic_spread_by_variety(df):\n",
        "    \"\"\"What's the difference between the price of an organic \n",
        "    and non-organic avocado within each region?\n",
        "    \"\"\"\n",
        "    return (\n",
        "        df\n",
        "        .set_index(['Date', 'Variety', 'Organic'])\n",
        "         ['Weighted Avg Price']\n",
        "        .unstack(level=['Variety', 'Organic'])\n",
        "        .ffill()\n",
        "        .groupby(level='Variety', axis=1)\n",
        "        .apply(_organic_spread)\n",
        "    )"
      ],
      "execution_count": 100,
      "outputs": []
    },
    {
      "cell_type": "code",
      "metadata": {
        "id": "mIrvmyk1-DfL",
        "colab_type": "code",
        "colab": {
          "base_uri": "https://localhost:8080/",
          "height": 340
        },
        "outputId": "326408e4-81a4-49e5-fab7-add8c9ccfdf4"
      },
      "source": [
        "organic_spread_by_region(hass).plot();\n",
        "plt.gca().set_title(\"Daily Regional Organic Spread\");\n",
        "plt.legend(bbox_to_anchor=(1, 1));"
      ],
      "execution_count": 99,
      "outputs": [
        {
          "output_type": "error",
          "ename": "ValueError",
          "evalue": "ignored",
          "traceback": [
            "\u001b[0;31m---------------------------------------------------------------------------\u001b[0m",
            "\u001b[0;31mValueError\u001b[0m                                Traceback (most recent call last)",
            "\u001b[0;32m<ipython-input-99-4e6513c49a83>\u001b[0m in \u001b[0;36m<module>\u001b[0;34m()\u001b[0m\n\u001b[0;32m----> 1\u001b[0;31m \u001b[0morganic_spread_by_region\u001b[0m\u001b[0;34m(\u001b[0m\u001b[0mnattional\u001b[0m\u001b[0;34m)\u001b[0m\u001b[0;34m.\u001b[0m\u001b[0mplot\u001b[0m\u001b[0;34m(\u001b[0m\u001b[0;34m)\u001b[0m\u001b[0;34m;\u001b[0m\u001b[0;34m\u001b[0m\u001b[0;34m\u001b[0m\u001b[0m\n\u001b[0m\u001b[1;32m      2\u001b[0m \u001b[0mplt\u001b[0m\u001b[0;34m.\u001b[0m\u001b[0mgca\u001b[0m\u001b[0;34m(\u001b[0m\u001b[0;34m)\u001b[0m\u001b[0;34m.\u001b[0m\u001b[0mset_title\u001b[0m\u001b[0;34m(\u001b[0m\u001b[0;34m\"Daily Regional Organic Spread\"\u001b[0m\u001b[0;34m)\u001b[0m\u001b[0;34m;\u001b[0m\u001b[0;34m\u001b[0m\u001b[0;34m\u001b[0m\u001b[0m\n\u001b[1;32m      3\u001b[0m \u001b[0mplt\u001b[0m\u001b[0;34m.\u001b[0m\u001b[0mlegend\u001b[0m\u001b[0;34m(\u001b[0m\u001b[0mbbox_to_anchor\u001b[0m\u001b[0;34m=\u001b[0m\u001b[0;34m(\u001b[0m\u001b[0;36m1\u001b[0m\u001b[0;34m,\u001b[0m \u001b[0;36m1\u001b[0m\u001b[0;34m)\u001b[0m\u001b[0;34m)\u001b[0m\u001b[0;34m;\u001b[0m\u001b[0;34m\u001b[0m\u001b[0;34m\u001b[0m\u001b[0m\n",
            "\u001b[0;32m<ipython-input-97-e4012cf2152d>\u001b[0m in \u001b[0;36morganic_spread_by_region\u001b[0;34m(df)\u001b[0m\n\u001b[1;32m     18\u001b[0m         \u001b[0;34m.\u001b[0m\u001b[0mset_index\u001b[0m\u001b[0;34m(\u001b[0m\u001b[0;34m[\u001b[0m\u001b[0;34m'Date'\u001b[0m\u001b[0;34m,\u001b[0m \u001b[0;34m'Region'\u001b[0m\u001b[0;34m,\u001b[0m \u001b[0;34m'Organic'\u001b[0m\u001b[0;34m]\u001b[0m\u001b[0;34m)\u001b[0m\u001b[0;34m\u001b[0m\u001b[0;34m\u001b[0m\u001b[0m\n\u001b[1;32m     19\u001b[0m          \u001b[0;34m[\u001b[0m\u001b[0;34m'Weighted Avg Price'\u001b[0m\u001b[0;34m]\u001b[0m\u001b[0;34m\u001b[0m\u001b[0;34m\u001b[0m\u001b[0m\n\u001b[0;32m---> 20\u001b[0;31m         \u001b[0;34m.\u001b[0m\u001b[0munstack\u001b[0m\u001b[0;34m(\u001b[0m\u001b[0mlevel\u001b[0m\u001b[0;34m=\u001b[0m\u001b[0;34m[\u001b[0m\u001b[0;34m'Region'\u001b[0m\u001b[0;34m,\u001b[0m \u001b[0;34m'Organic'\u001b[0m\u001b[0;34m]\u001b[0m\u001b[0;34m)\u001b[0m\u001b[0;34m\u001b[0m\u001b[0;34m\u001b[0m\u001b[0m\n\u001b[0m\u001b[1;32m     21\u001b[0m         \u001b[0;34m.\u001b[0m\u001b[0mffill\u001b[0m\u001b[0;34m(\u001b[0m\u001b[0;34m)\u001b[0m\u001b[0;34m\u001b[0m\u001b[0;34m\u001b[0m\u001b[0m\n\u001b[1;32m     22\u001b[0m         \u001b[0;34m.\u001b[0m\u001b[0mgroupby\u001b[0m\u001b[0;34m(\u001b[0m\u001b[0mlevel\u001b[0m\u001b[0;34m=\u001b[0m\u001b[0;34m'Region'\u001b[0m\u001b[0;34m,\u001b[0m \u001b[0maxis\u001b[0m\u001b[0;34m=\u001b[0m\u001b[0;36m1\u001b[0m\u001b[0;34m)\u001b[0m\u001b[0;34m\u001b[0m\u001b[0;34m\u001b[0m\u001b[0m\n",
            "\u001b[0;32m/usr/local/lib/python3.6/dist-packages/pandas/core/series.py\u001b[0m in \u001b[0;36munstack\u001b[0;34m(self, level, fill_value)\u001b[0m\n\u001b[1;32m   3548\u001b[0m         \u001b[0;32mfrom\u001b[0m \u001b[0mpandas\u001b[0m\u001b[0;34m.\u001b[0m\u001b[0mcore\u001b[0m\u001b[0;34m.\u001b[0m\u001b[0mreshape\u001b[0m\u001b[0;34m.\u001b[0m\u001b[0mreshape\u001b[0m \u001b[0;32mimport\u001b[0m \u001b[0munstack\u001b[0m\u001b[0;34m\u001b[0m\u001b[0;34m\u001b[0m\u001b[0m\n\u001b[1;32m   3549\u001b[0m \u001b[0;34m\u001b[0m\u001b[0m\n\u001b[0;32m-> 3550\u001b[0;31m         \u001b[0;32mreturn\u001b[0m \u001b[0munstack\u001b[0m\u001b[0;34m(\u001b[0m\u001b[0mself\u001b[0m\u001b[0;34m,\u001b[0m \u001b[0mlevel\u001b[0m\u001b[0;34m,\u001b[0m \u001b[0mfill_value\u001b[0m\u001b[0;34m)\u001b[0m\u001b[0;34m\u001b[0m\u001b[0;34m\u001b[0m\u001b[0m\n\u001b[0m\u001b[1;32m   3551\u001b[0m \u001b[0;34m\u001b[0m\u001b[0m\n\u001b[1;32m   3552\u001b[0m     \u001b[0;31m# ----------------------------------------------------------------------\u001b[0m\u001b[0;34m\u001b[0m\u001b[0;34m\u001b[0m\u001b[0;34m\u001b[0m\u001b[0m\n",
            "\u001b[0;32m/usr/local/lib/python3.6/dist-packages/pandas/core/reshape/reshape.py\u001b[0m in \u001b[0;36munstack\u001b[0;34m(obj, level, fill_value)\u001b[0m\n\u001b[1;32m    396\u001b[0m             \u001b[0;31m# _unstack_multiple only handles MultiIndexes,\u001b[0m\u001b[0;34m\u001b[0m\u001b[0;34m\u001b[0m\u001b[0;34m\u001b[0m\u001b[0m\n\u001b[1;32m    397\u001b[0m             \u001b[0;31m# and isn't needed for a single level\u001b[0m\u001b[0;34m\u001b[0m\u001b[0;34m\u001b[0m\u001b[0;34m\u001b[0m\u001b[0m\n\u001b[0;32m--> 398\u001b[0;31m             \u001b[0;32mreturn\u001b[0m \u001b[0m_unstack_multiple\u001b[0m\u001b[0;34m(\u001b[0m\u001b[0mobj\u001b[0m\u001b[0;34m,\u001b[0m \u001b[0mlevel\u001b[0m\u001b[0;34m,\u001b[0m \u001b[0mfill_value\u001b[0m\u001b[0;34m=\u001b[0m\u001b[0mfill_value\u001b[0m\u001b[0;34m)\u001b[0m\u001b[0;34m\u001b[0m\u001b[0;34m\u001b[0m\u001b[0m\n\u001b[0m\u001b[1;32m    399\u001b[0m         \u001b[0;32melse\u001b[0m\u001b[0;34m:\u001b[0m\u001b[0;34m\u001b[0m\u001b[0;34m\u001b[0m\u001b[0m\n\u001b[1;32m    400\u001b[0m             \u001b[0mlevel\u001b[0m \u001b[0;34m=\u001b[0m \u001b[0mlevel\u001b[0m\u001b[0;34m[\u001b[0m\u001b[0;36m0\u001b[0m\u001b[0;34m]\u001b[0m\u001b[0;34m\u001b[0m\u001b[0;34m\u001b[0m\u001b[0m\n",
            "\u001b[0;32m/usr/local/lib/python3.6/dist-packages/pandas/core/reshape/reshape.py\u001b[0m in \u001b[0;36m_unstack_multiple\u001b[0;34m(data, clocs, fill_value)\u001b[0m\n\u001b[1;32m    350\u001b[0m         \u001b[0mdummy\u001b[0m\u001b[0;34m.\u001b[0m\u001b[0mindex\u001b[0m \u001b[0;34m=\u001b[0m \u001b[0mdummy_index\u001b[0m\u001b[0;34m\u001b[0m\u001b[0;34m\u001b[0m\u001b[0m\n\u001b[1;32m    351\u001b[0m \u001b[0;34m\u001b[0m\u001b[0m\n\u001b[0;32m--> 352\u001b[0;31m         \u001b[0munstacked\u001b[0m \u001b[0;34m=\u001b[0m \u001b[0mdummy\u001b[0m\u001b[0;34m.\u001b[0m\u001b[0munstack\u001b[0m\u001b[0;34m(\u001b[0m\u001b[0;34m\"__placeholder__\"\u001b[0m\u001b[0;34m,\u001b[0m \u001b[0mfill_value\u001b[0m\u001b[0;34m=\u001b[0m\u001b[0mfill_value\u001b[0m\u001b[0;34m)\u001b[0m\u001b[0;34m\u001b[0m\u001b[0;34m\u001b[0m\u001b[0m\n\u001b[0m\u001b[1;32m    353\u001b[0m         \u001b[0mnew_levels\u001b[0m \u001b[0;34m=\u001b[0m \u001b[0mclevels\u001b[0m\u001b[0;34m\u001b[0m\u001b[0;34m\u001b[0m\u001b[0m\n\u001b[1;32m    354\u001b[0m         \u001b[0mnew_names\u001b[0m \u001b[0;34m=\u001b[0m \u001b[0mcnames\u001b[0m\u001b[0;34m\u001b[0m\u001b[0;34m\u001b[0m\u001b[0m\n",
            "\u001b[0;32m/usr/local/lib/python3.6/dist-packages/pandas/core/series.py\u001b[0m in \u001b[0;36munstack\u001b[0;34m(self, level, fill_value)\u001b[0m\n\u001b[1;32m   3548\u001b[0m         \u001b[0;32mfrom\u001b[0m \u001b[0mpandas\u001b[0m\u001b[0;34m.\u001b[0m\u001b[0mcore\u001b[0m\u001b[0;34m.\u001b[0m\u001b[0mreshape\u001b[0m\u001b[0;34m.\u001b[0m\u001b[0mreshape\u001b[0m \u001b[0;32mimport\u001b[0m \u001b[0munstack\u001b[0m\u001b[0;34m\u001b[0m\u001b[0;34m\u001b[0m\u001b[0m\n\u001b[1;32m   3549\u001b[0m \u001b[0;34m\u001b[0m\u001b[0m\n\u001b[0;32m-> 3550\u001b[0;31m         \u001b[0;32mreturn\u001b[0m \u001b[0munstack\u001b[0m\u001b[0;34m(\u001b[0m\u001b[0mself\u001b[0m\u001b[0;34m,\u001b[0m \u001b[0mlevel\u001b[0m\u001b[0;34m,\u001b[0m \u001b[0mfill_value\u001b[0m\u001b[0;34m)\u001b[0m\u001b[0;34m\u001b[0m\u001b[0;34m\u001b[0m\u001b[0m\n\u001b[0m\u001b[1;32m   3551\u001b[0m \u001b[0;34m\u001b[0m\u001b[0m\n\u001b[1;32m   3552\u001b[0m     \u001b[0;31m# ----------------------------------------------------------------------\u001b[0m\u001b[0;34m\u001b[0m\u001b[0;34m\u001b[0m\u001b[0;34m\u001b[0m\u001b[0m\n",
            "\u001b[0;32m/usr/local/lib/python3.6/dist-packages/pandas/core/reshape/reshape.py\u001b[0m in \u001b[0;36munstack\u001b[0;34m(obj, level, fill_value)\u001b[0m\n\u001b[1;32m    417\u001b[0m             \u001b[0mlevel\u001b[0m\u001b[0;34m=\u001b[0m\u001b[0mlevel\u001b[0m\u001b[0;34m,\u001b[0m\u001b[0;34m\u001b[0m\u001b[0;34m\u001b[0m\u001b[0m\n\u001b[1;32m    418\u001b[0m             \u001b[0mfill_value\u001b[0m\u001b[0;34m=\u001b[0m\u001b[0mfill_value\u001b[0m\u001b[0;34m,\u001b[0m\u001b[0;34m\u001b[0m\u001b[0;34m\u001b[0m\u001b[0m\n\u001b[0;32m--> 419\u001b[0;31m             \u001b[0mconstructor\u001b[0m\u001b[0;34m=\u001b[0m\u001b[0mobj\u001b[0m\u001b[0;34m.\u001b[0m\u001b[0m_constructor_expanddim\u001b[0m\u001b[0;34m,\u001b[0m\u001b[0;34m\u001b[0m\u001b[0;34m\u001b[0m\u001b[0m\n\u001b[0m\u001b[1;32m    420\u001b[0m         )\n\u001b[1;32m    421\u001b[0m         \u001b[0;32mreturn\u001b[0m \u001b[0munstacker\u001b[0m\u001b[0;34m.\u001b[0m\u001b[0mget_result\u001b[0m\u001b[0;34m(\u001b[0m\u001b[0;34m)\u001b[0m\u001b[0;34m\u001b[0m\u001b[0;34m\u001b[0m\u001b[0m\n",
            "\u001b[0;32m/usr/local/lib/python3.6/dist-packages/pandas/core/reshape/reshape.py\u001b[0m in \u001b[0;36m__init__\u001b[0;34m(self, values, index, level, value_columns, fill_value, constructor)\u001b[0m\n\u001b[1;32m    139\u001b[0m \u001b[0;34m\u001b[0m\u001b[0m\n\u001b[1;32m    140\u001b[0m         \u001b[0mself\u001b[0m\u001b[0;34m.\u001b[0m\u001b[0m_make_sorted_values_labels\u001b[0m\u001b[0;34m(\u001b[0m\u001b[0;34m)\u001b[0m\u001b[0;34m\u001b[0m\u001b[0;34m\u001b[0m\u001b[0m\n\u001b[0;32m--> 141\u001b[0;31m         \u001b[0mself\u001b[0m\u001b[0;34m.\u001b[0m\u001b[0m_make_selectors\u001b[0m\u001b[0;34m(\u001b[0m\u001b[0;34m)\u001b[0m\u001b[0;34m\u001b[0m\u001b[0;34m\u001b[0m\u001b[0m\n\u001b[0m\u001b[1;32m    142\u001b[0m \u001b[0;34m\u001b[0m\u001b[0m\n\u001b[1;32m    143\u001b[0m     \u001b[0;32mdef\u001b[0m \u001b[0m_make_sorted_values_labels\u001b[0m\u001b[0;34m(\u001b[0m\u001b[0mself\u001b[0m\u001b[0;34m)\u001b[0m\u001b[0;34m:\u001b[0m\u001b[0;34m\u001b[0m\u001b[0;34m\u001b[0m\u001b[0m\n",
            "\u001b[0;32m/usr/local/lib/python3.6/dist-packages/pandas/core/reshape/reshape.py\u001b[0m in \u001b[0;36m_make_selectors\u001b[0;34m(self)\u001b[0m\n\u001b[1;32m    177\u001b[0m \u001b[0;34m\u001b[0m\u001b[0m\n\u001b[1;32m    178\u001b[0m         \u001b[0;32mif\u001b[0m \u001b[0mmask\u001b[0m\u001b[0;34m.\u001b[0m\u001b[0msum\u001b[0m\u001b[0;34m(\u001b[0m\u001b[0;34m)\u001b[0m \u001b[0;34m<\u001b[0m \u001b[0mlen\u001b[0m\u001b[0;34m(\u001b[0m\u001b[0mself\u001b[0m\u001b[0;34m.\u001b[0m\u001b[0mindex\u001b[0m\u001b[0;34m)\u001b[0m\u001b[0;34m:\u001b[0m\u001b[0;34m\u001b[0m\u001b[0;34m\u001b[0m\u001b[0m\n\u001b[0;32m--> 179\u001b[0;31m             \u001b[0;32mraise\u001b[0m \u001b[0mValueError\u001b[0m\u001b[0;34m(\u001b[0m\u001b[0;34m\"Index contains duplicate entries, cannot reshape\"\u001b[0m\u001b[0;34m)\u001b[0m\u001b[0;34m\u001b[0m\u001b[0;34m\u001b[0m\u001b[0m\n\u001b[0m\u001b[1;32m    180\u001b[0m \u001b[0;34m\u001b[0m\u001b[0m\n\u001b[1;32m    181\u001b[0m         \u001b[0mself\u001b[0m\u001b[0;34m.\u001b[0m\u001b[0mgroup_index\u001b[0m \u001b[0;34m=\u001b[0m \u001b[0mcomp_index\u001b[0m\u001b[0;34m\u001b[0m\u001b[0;34m\u001b[0m\u001b[0m\n",
            "\u001b[0;31mValueError\u001b[0m: Index contains duplicate entries, cannot reshape"
          ]
        }
      ]
    },
    {
      "cell_type": "code",
      "metadata": {
        "colab_type": "code",
        "id": "n1rS5zyYB6Ii",
        "colab": {
          "base_uri": "https://localhost:8080/",
          "height": 440
        },
        "outputId": "1a8378e1-55e7-4c03-ceba-710b7f99486a"
      },
      "source": [
        "#@gmojica\n",
        "organic_spread_by_variety(nattional).plot();\n",
        "plt.gca().set_title(\"Daily Variety Organic Spread\");\n",
        "plt.legend(bbox_to_anchor=(1, 1));"
      ],
      "execution_count": 102,
      "outputs": [
        {
          "output_type": "display_data",
          "data": {
            "image/png": "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\n",
            "text/plain": [
              "<Figure size 864x504 with 1 Axes>"
            ]
          },
          "metadata": {
            "tags": [],
            "needs_background": "light"
          }
        }
      ]
    },
    {
      "cell_type": "code",
      "metadata": {
        "id": "Ol55Thfc-DfN",
        "colab_type": "code",
        "colab": {}
      },
      "source": [
        "spread_correlation = organic_spread_by_region(hass).corr()\n",
        "spread_correlation"
      ],
      "execution_count": null,
      "outputs": []
    },
    {
      "cell_type": "code",
      "metadata": {
        "id": "qK08VpvHE3Yt",
        "colab_type": "code",
        "colab": {
          "base_uri": "https://localhost:8080/",
          "height": 142
        },
        "outputId": "947425ff-731e-43ad-b89e-f8a6fb4c280b"
      },
      "source": [
        "#@gmojica\n",
        "scorrelation = organic_spread_by_variety(nattional).corr()\n",
        "scorrelation"
      ],
      "execution_count": 103,
      "outputs": [
        {
          "output_type": "execute_result",
          "data": {
            "text/html": [
              "<div>\n",
              "<style scoped>\n",
              "    .dataframe tbody tr th:only-of-type {\n",
              "        vertical-align: middle;\n",
              "    }\n",
              "\n",
              "    .dataframe tbody tr th {\n",
              "        vertical-align: top;\n",
              "    }\n",
              "\n",
              "    .dataframe thead th {\n",
              "        text-align: right;\n",
              "    }\n",
              "</style>\n",
              "<table border=\"1\" class=\"dataframe\">\n",
              "  <thead>\n",
              "    <tr style=\"text-align: right;\">\n",
              "      <th>Variety</th>\n",
              "      <th>GREENSKIN</th>\n",
              "      <th>HASS</th>\n",
              "    </tr>\n",
              "    <tr>\n",
              "      <th>Variety</th>\n",
              "      <th></th>\n",
              "      <th></th>\n",
              "    </tr>\n",
              "  </thead>\n",
              "  <tbody>\n",
              "    <tr>\n",
              "      <th>GREENSKIN</th>\n",
              "      <td>1.000000</td>\n",
              "      <td>-0.149559</td>\n",
              "    </tr>\n",
              "    <tr>\n",
              "      <th>HASS</th>\n",
              "      <td>-0.149559</td>\n",
              "      <td>1.000000</td>\n",
              "    </tr>\n",
              "  </tbody>\n",
              "</table>\n",
              "</div>"
            ],
            "text/plain": [
              "Variety    GREENSKIN      HASS\n",
              "Variety                       \n",
              "GREENSKIN   1.000000 -0.149559\n",
              "HASS       -0.149559  1.000000"
            ]
          },
          "metadata": {
            "tags": []
          },
          "execution_count": 103
        }
      ]
    },
    {
      "cell_type": "code",
      "metadata": {
        "id": "uUc0WRSJ-DfP",
        "colab_type": "code",
        "colab": {}
      },
      "source": [
        "import seaborn as sns\n",
        "grid = sns.clustermap(spread_correlation, annot=True)\n",
        "fig = grid.fig\n",
        "axes = fig.axes\n",
        "ax = axes[2]\n",
        "ax.set_xticklabels(ax.get_xticklabels(), rotation=45);"
      ],
      "execution_count": null,
      "outputs": []
    },
    {
      "cell_type": "code",
      "metadata": {
        "id": "hXjbHZxPFFUx",
        "colab_type": "code",
        "colab": {
          "base_uri": "https://localhost:8080/",
          "height": 730
        },
        "outputId": "42b99814-6220-4f45-eb84-10662f293ff9"
      },
      "source": [
        "# @gmojica\n",
        "import seaborn as sns\n",
        "grid = sns.clustermap(scorrelation, annot=True)\n",
        "fig = grid.fig\n",
        "axes = fig.axes\n",
        "ax = axes[3]\n",
        "ax.set_xticklabels(ax.get_xticklabels(), rotation=90);"
      ],
      "execution_count": 104,
      "outputs": [
        {
          "output_type": "display_data",
          "data": {
            "image/png": "iVBORw0KGgoAAAANSUhEUgAAAsgAAALJCAYAAACp99XTAAAABHNCSVQICAgIfAhkiAAAAAlwSFlzAAALEgAACxIB0t1+/AAAADh0RVh0U29mdHdhcmUAbWF0cGxvdGxpYiB2ZXJzaW9uMy4yLjIsIGh0dHA6Ly9tYXRwbG90bGliLm9yZy+WH4yJAAAgAElEQVR4nO3de9jt53zv+89X4pB0Oy2i5LAqNKsaqsR0qjoUiaARp0oELULKbuyFUlpdWKlV6bJLW7LY00rCykYcWvZsTCJO22FbMWdCbSLRCJWZsJUErYZI8t1/PGPG7TFPI5njecYz8npd17wyxv37/cbvfnLlerzd8x5jVHcHAABYcqPVngAAAMwTgQwAAAOBDAAAA4EMAAADgQwAAAOBDAAAg4UO5Ko6paq+XVVf3M7xqqq/qaoLq+oLVXXISs8RAID5stCBnOQtSQ7fwfFHJjlo8ue4JG9cgTkBADDHFjqQu/sTSS7bwSlHJvkfveR/JrlVVd1hZWYHAMA8WuhA3gX7Jbl4eL5lMgYAwA3UntOc/JPvXDRX30t9k33u/PtZ2hqx1fruXr9a8wEAYO2bKpBzzdUzmsZ1M4nh6xPElyQ5YHi+/2QMAIAbqOkC+eqrZjSNVbMhyfFVdXqS+yb5fnd/c5XnBADAKpoqkHuNBXJVvSPJQ5Lctqq2JHlFkhsnSXe/KcnGJI9KcmGSf0vyjNWZKaxt69ate2mSm632PIC596PNmzefuNqTgJ2ZcgX5JzOaxmx095N3cryT/MEKTQcW2c02b978ytWeBDDf1q1b98rVngPsihv6FgsAAPgZC73FAgAAprXQWywAAGBatlgAAMBAIAMAwGC6PcjX2GIBAMBis4IMAAADb9IDAICBFWQAABhMF8hXCWQAABbblF8UYosFAACLzRYLAAAYCGQAABgIZAAAGCx0IFfV4Un+OskeSf57d5+47Pi/T/LWJLeanPPS7t644hMFAGBuLGwgV9UeSU5KcmiSLUk2VdWG7j5vOO1Pk7yru99YVQcn2Zjkjis+WQAA5sbCBnKS+yS5sLsvSpKqOj3JkUnGQO4kt5g8vmWSS1d0hgAAzJ1F/hzk/ZJcPDzfkuS+y855ZZIPVdXzkvxCkoevzNQAAJhXU64gXz2jaVw3VXVckuOGofXdvX6Kl3hykrd0919W1f2TnFZVd+vua3brRAEAWDPW9BaLSQxvL4gvSXLA8Hz/ydjo2CSHT17rM1V1syS3TfLt3TxVAADWiDW9grwTm5IcVFUHZimMj05yzLJzvpHkYUneUlW/muRmSf55RWcJAMBcWdg9yN19VVUdn+TMLH2E2ynd/aWqOiHJ5u7ekOQPk7y5ql6QpTfsPb27e/VmDQDAapsqkHttrSBn8pnGG5eNvXx4fF6SB6z0vAAAmF9reg8yAADsblNusVhbK8gAADCtRX6THgAATM0KMgAADKwgAwDAYLpPsbCCDADAgrOCDAAAA3uQAQBgYAUZAAAG9iADAMDACjIAAAymXEG+ZlbzAACAueBNegAAMLjRVGdf0/P1Zyeq6vCquqCqLqyql27nnCdV1XlV9aWqevtU/z4AAFg4022xuHrtbLGoqj2SnJTk0CRbkmyqqg3dfd5wzkFJ/jjJA7r78qq63erMFgCAeTHlFou1E8hJ7pPkwu6+KEmq6vQkRyY5bzjn2UlO6u7Lk6S7v73iswQAYK4s8pv09kty8fB8S5L7LjvnPyRJVX06yR5JXtndH1yZ6QEAMI+mDOSd7/tdSVV1XJLjhqH13b1+ipfYM8lBSR6SZP8kn6iqX+vu7+2+WQIAsJZMucVivgJ5EsPbC+JLkhwwPN9/MjbakuTs7v5Jkq9V1VeyFMybdvdcAQBYG9b0CvJObEpyUFUdmKUwPjrJMcvOeV+SJyc5tapum6UtFxet6CwBAJgrCxvI3X1VVR2f5Mws7S8+pbu/VFUnJNnc3Rsmxw6rqvOSXJ3kxd393dWbNQAAq23KQJ7VNGajuzcm2bhs7OXD407ywskfAABY7EAGAIBpTRXI1whkAAAW3JTfpFezmgcAAMyFKVeQBTIAAIttukC2ggwAwIKzggwAAAMryAAAMBDIAAAwmDKQbzSreQAAwFyYKpCvtoIMAMCCs4IMAAADe5ABAGAw3RaLa6wgAwCw2KYMZCvIAAAstqmWhK+5pubqz85U1eFVdUFVXVhVL93BeU+oqq6qddP8+wAAYPEs7BaLqtojyUlJDk2yJcmmqtrQ3ectO+/mSf5jkrNXfpYAAMyb6QK519QWi/skubC7L0qSqjo9yZFJzlt23p8l+YskL17Z6QEAMI8WdgU5yX5JLh6eb0ly3/GEqjokyQHd/f6qEsgAAEwZyJmvFeSqOi7JccPQ+u5ev4vX3ijJa5M8fQZTAwBgjZoqkK+asy0WkxjeXhBfkuSA4fn+k7Gtbp7kbkk+XlVJcvskG6rqMd29eQbTBQBgDVjTK8g7sSnJQVV1YJbC+Ogkx2w92N3fT3Lbrc+r6uNJXiSOAQBu2BY2kLv7qqo6PsmZSfZIckp3f6mqTkiyubs3rO4MAQCYRwsbyEnS3RuTbFw29vLtnPuQlZgTAADzbbo9yLW2AhkAAKY15QoyAAAstukC2QoyAAALbsotFrOaBgAAzIeFfpMeAABMywoyAAAMptyDPKtpAADAfJhuBXlWswAAgDlhBRkAAAZTBfI1s5oFAADMCSvIAAAwsAcZAAAGVpABAGBwo2lOvnrO/uxMVR1eVRdU1YVV9dJtHH9hVZ1XVV+oqo9U1S9N8+8DAIDFM+UWi57VPHa7qtojyUlJDk2yJcmmqtrQ3ecNp30uybru/reqem6S/5rkqJWfLQAA82LKr5peU+6T5MLuvihJqur0JEcmuTaQu/tjw/n/M8lTV3SGAADMnSm/anrtrCAn2S/JxcPzLUnuu4Pzj03ygZnOCACAubemV5Cr6rgkxw1D67t7/XV4nacmWZfkwbtrbgAArE1TBvJ8rSBPYnh7QXxJkgOG5/tPxn5GVT08ycuSPLi7f7zbJwkAwJqysG/SS7IpyUFVdWCWwvjoJMeMJ1TVPZP8H0kO7+5vr/wUAQCYN2t6i8WOdPdVVXV8kjOT7JHklO7+UlWdkGRzd29I8pok/0uSd1dVknyjux+zapMGAGDVrektFjvT3RuTbFw29vLh8cNXfFIAAMy1hQ5kAACY1iLvQQYAgKlZQQYAgIFABgCAwXSB3AIZAIDFNuUK8jWzmgcAAMwFb9IDAICBPcgAADCYcg+yLRYAACw2K8gAADCwggwAAAMryAAAMLCCDAAAA5+DDAAAgxtNc/LV3XP1Z2eq6vCquqCqLqyql27j+E2r6p2T42dX1R2n+fcBAMDimfKLQtbOCnJV7ZHkpCSHJtmSZFNVbeju84bTjk1yeXf/clUdneQvkhy18rMFAGBeLPIe5PskubC7L0qSqjo9yZFJxkA+MskrJ4/fk+QNVVXdu7A8DQDAQpoqkK9ZW4G8X5KLh+dbktx3e+d091VV9f0kt0nynRWZIQAAc2dNryBX1XFJjhuG1nf3+tWaDwAAa9+a/hSLSQxvL4gvSXLA8Hz/ydi2ztlSVXsmuWWS7+7ueQIAsHas6RXkndiU5KCqOjBLIXx0kmOWnbMhye8l+UySJyb5qP3HAAA3bAsbyJM9xccnOTPJHklO6e4vVdUJSTZ394YkJyc5raouTHJZliIaAIAbsIUN5CTp7o1JNi4be/nw+EdJfmel5wUAwPxa6EAGAIBpTRnIV89qHgAAMBesIAMAwGC6QL5GIAMAsNimCuSOT0ADAGCx2WIBAAADWywAAGBgBRkAAAZWkAEAYGAFGQAABlMF8jUCGQCABTddINtiAQDAgqtun23MdH7ynYv8RwPs0F77PnC1pwCsEVddeUmt9hyWu9FqTwAAAOaJQAYAgIFABgCAgUAGAICBQAYAgIFABgCAgUAGAICBQAYAgIFABgCAgUAGAICBQAYAgIFABgCAgUAGAICBQAYAgIFABgCAgUAGAICBQAYAgIFABgCAgUAGAICBQAYAgIFABgCAgUAGAICBQAYAgIFABgCAgUAGAICBQAYAgIFABgCAgUAGAICBQAYAgIFABgCAgUAGAICBQAYAgIFABgCAgUAGAICBQAYAgIFABgCAgUAGAICBQAYAgIFABgCAgUAGAICBQAYAgIFABgCAgUAGAICBQAYAgIFABgCAgUAGAICBQAYAgIFABgCAgUAGAICBQAYAgIFABgCAgUAGAICBQAYAgIFABgCAgUAGAICBQAYAgIFABgCAgUAGAICBQAYAgIFABgCAgUAGAICBQAYAgIFABgCAgUAGAICBQAYAgIFABgCAgUAGAICBQAYAgIFABgCAgUAGAICBQAYAgIFABgCAgUAGAICBQAYAgIFABgCAgUAGAICBQAYAgIFABgCAgUAGAICBQAYAgIFABgCAgUAGAICBQAYAgIFABgCAgUAGAICBQAYAgIFABgCAgUAGAICBQAYAgIFABgCAgUAGAICBQAYAgIFABgCAgUAGAICBQAYAgIFABgCAgUAGAICBQAYAgIFABgCAgUAGAICBQAYAgIFABgCAgUAGAICBQAYAgIFABgCAgUAGAICBQAYAgIFABgCAgUAGAICBQAYAgIFABgCAgUAGAICBQAYAgIFABgCAgUAGAICBQAYAgIFABgCAgUAGAICBQAYAgIFABgCAgUAGAICBQAYAgIFABgCAgUAGAICBQAYAgIFABgCAgUAGAICBQAYAgIFABq6zP/3z1+ZBjz46j33qc1Z7KsAceN1rT8j5530q555zVu55j7tt85w/O+El+dpXN+V7l33lZ8Z/92lPyjcv+UI2b/pQNm/6UJ75jCevxJRhmwQycJ099lGH5k2vfdVqTwOYA488/KE56JcPzF0O/s0897kvyUlvePU2zzvjjLNy/wc8epvH3vXuDVl378Oy7t6H5ZRT3zHL6cIOCWTgOlt3j1/LLW9x89WeBjAHjjjiETntbe9Jkpz92XNzy1vdMre//e1+7ryzP3tuvvWtb6/09GAqe672BACAtW+/fW+fLRdfeu3zS7Z8M/vte/upYvjxj3tUHvjA++Yf//Fr+cMXvTJbtly684tYWFX1sSS9ncPd3Q+b1b2vcyCvW7fupUluthvnwhrxmQ++a7WnAMCCOeP9Z+X0d74vV155ZZ79rKfm1JP/Koc+4kmrPS1WQFUdl+S4YWh9d69P8qJtnH6/JH+UZKZ/DXF9VpBvtnnz5lfuromwdvzkOxe9YrXnAMDqe+5zfi/HHvuUJMnmzZ/P/gfse+2x/fa/Qy659Fu7/FqXXXb5tY9PPuXtOfHVL9t9E2WuTWJ4/TbGz9n6uKoenOQ/ZWlx9jnd/YFZzskeZADgOnnjm9567ZvqNmw4M097yhOTJPe9zyH5wfd/MNX2inG/8hFHHJbzz79wt8+XtaeqHlFVn8xSHP+X7v7NWcdxYg8ycD28+BUnZtPnvpDvfe8Hedhjn5r/9din5QlHPGK1pwWsgo0f+EgOP/yhueDLn86/XXFFnvWsF157bPOmD2XdvQ9Lkpz46pfl6KMel7333itfv2hzTjn17Tnhz16b5x3/zPz2bx+Wq666Opdf9r0881nPX60fhTlRVZuS7JPkNUk+Mxk7ZOvx7j53Zvfu3t7e5x1bt27dK22xuGH6yXcuum7/0QA3GHvt+8DVngKwRlx15SW1rfGq+nh2/Ca9h85qTlaQAQCYO939kNW6t0AGAGDuVNXjd3S8u/9uVvcWyAAAzKMjdnCskwhkAABuUJ7f3d/f1oGqWjfLG/uYNwAA5tGHq+rWywer6tAk753ljQUyAADzaH2Sj1XVPlsHquqYyfijZ3ljWywAAJg73f3mqvpRko9W1WFJjkrynCS/1d1fn+W9BTIAAHOpu0+bRPLnknwjyW9293dmfV+BDADA3Kmq/zdLn1ZRSfZOcpssrSZXlr4o5O6zurdABgBgHv32at1YIAMAMHe6+5/G51V1myQPSvKN7j5nlvf2KRYAAMydqjqjqu42eXyHJF9M8swkp1XV82d5b4EMAMA8OrC7vzh5/IwkZ3X3EUnum6VQnhmBDADAPPrJ8PhhSTYmSXf/S5JrZnlje5ABAJhHF1fV85JsSXJIkg8mSVXtleTGs7yxFWQAAObRsUnumuTpSY7q7u9Nxu+X5NRZ3tgKMgAAc6e7v52lb85bPv6xJB+b5b0FMgAAc6eqTs3SF4VsS3f3sbO6t0AGAGAenbGNsQOSvCDJHrO8sUAGAGDudPffbn1cVXdK8idZ+qKQE5OcPMt7e5MeAABzqaruUlX/Z5K/T/KpJAd39xu7+8pZ3tcKMgAAc6eq3p3kXkn+MkvbKq5OcouqSpJ092WzurdABgBgHt07S2/Se1GSP5yM1eSfneROs7qxQAYAYO509x1X6972IAMAMHeq6qnD4wcsO3b8LO8tkAEAmEcvHB6/ftmxZ87yxgIZAIB5VNt5vK3nu5VABgBgHvV2Hm/r+W7lTXoAAMyju1TVF7K0WnznyeNMns/sEywSgQwAwHz61dW6sUAGAGAe7dXd5ydJVd20u3+89UBV3S/JP83qxvYgAwAwj94+PP7MsmP/bZY3FsgAAMwjn2IBAAADn2IBAACD/avqb7K0Wrz1cSbP95vljQUyAADz6MXD483Lji1/vlsJZAAA5k53v3V7x6rq38/y3vYgAwAwl6rq/lX1xKq63eT53avq7Uk+Pcv7CmQAAOZOVb0mySlJnpDk/VX1qiQfSnJ2koNmeW9bLAAAmEePTnLP7v5RVd06ycVJ7tbdX5/1ja0gAwAwj37U3T9Kku6+PMk/rkQcJ1aQAQCYT3eqqg3D8wMnzytJd/djZnVjgQwAwDw6ctnzv8xPvyBkpt+kJ5ABAJhHt0qyf3eflCRV9dkk+2Qpkl8yyxvbgwwAwDz6oyTjFoubJFmX5CFJnjPLG1tBBgBgHt2kuy8enn+qu7+b5LtV9QuzvLEVZAAA5tGtxyfdffzwdJ9Z3lggAwAwj86uqmcvH6yq30/y2Vne2BYLAADm0QuSvK+qjkly7mTsXklumuSxs7yxQAYAYO5097eT/EZVPTTJXSfD7+/uj8763gIZAIC5NQnimUfxyB5kAAAYCGQAABgIZAAAGAhkAAAYCGQAABgIZAAAGAhkAAAYCGQAABgIZAAAGAhkAAAYCGQAABgIZAAAGAhkAAAYCGQAABgIZAAAGAhkAAAYCGQAABgIZAAAGAhkAAAYCGQAABgIZAAAGAhkAAAYCGQAABgIZAAAGAhkAAAYCGQAABgIZAAAGAhkAAAYCGQAABgIZAAAGAhkAAAYCGQAABgIZAAAGAhkAAAYCGQAABgIZAAAGAhkAAAYCGQAABgIZAAAGAhkAAAYCGQAABgIZAAAGAhkAAAYCGQAABgIZAAAGAhkAAAYCGQAABgIZAAAGAhkAAAYCGQAABgIZAAAGAhkAAAYCGQAABgIZAAAGAhkAAAYCGQAABgIZAAAGAhkAAAYCGQAABgIZAAAGAhkAAAYCGQAABgIZAAAGAhkAAAWTlX9XVU9uqqm7l2BDADAIvpvSY5J8o9VdWJV/cquXiiQAQBYON394e5+SpJDknw9yYer6v+pqmdU1Y13dK1ABgBgIVXVbZI8PcmzknwuyV9nKZjP2tF1e858ZgAAsMKq6r1JfiXJaUmO6O5vTg69s6o27+hagQwAwCJ6c3dvHAeq6qbd/ePuXrejC22xAABgEb1qG2Of2ZULrSADALAwqur2SfZLsldV3TNJTQ7dIsneu/IaAhkAgEXyiCy9MW//JK8dxn+Q5E925QUEMgAAC6O735rkrVX1hO7+2+vyGvYgAwCwiD5dVSdX1QeSpKoOrqpjd+VCgQwAwCI6NcmZSfadPP9KkufvyoUCGQCARXTb7n5XkmuSpLuvSnL1rlwokAEAWEQ/nHyTXidJVd0vyfd35UJv0mNqe+37wNWeAjDnrrj0k6s9BYAXJtmQ5M5V9ekk+yR54q5cKJABAFg43X1uVT04S183XUku6O6f7Mq1AhkAgIVRVQ/t7o9W1eOXHfoPVZXu/rudvYZABgBgkTw4yUeTHLGNY51EIAMAcMPR3a+oqhsl+cDkUyym5lMsAABYKN19TZI/uq7XC2QAABbRh6vqRVV1QFX9u61/duVCWywAAFhER03++QfDWCe5084uFMgAACyc7j7wul4rkAEAWEhVdbckBye52dax7v4fO7tOIAMAsHCq6hVJHpKlQN6Y5JFJPpVkp4HsTXoAACyiJyZ5WJJvdfczkvx6klvuyoUCGQCARfSjyce9XVVVt0jy7SQH7MqFtlgAALAwquqkJO9I8tmqulWSNyc5J8m/JvnMrryGQAYAYJF8Jclrkuyb5IdZiuVDk9yiu7+wKy9giwUAAAuju/+6u++f5EFJvpvklCQfTPK4qjpoV15DIAMAsHC6+5+6+y+6+55JnpzksUnO35VrBTIAAAunqvasqiOq6m1JPpDkgiSP35Vr7UEGAGBhVNWhWVoxflSSzyY5Pclx3f3DXX0NgQwAwCL54yRvT/KH3X35dXkBgQwAwMLo7ode39ewBxkAAAYCGQAABgIZAAAGAhkAAAYCGQAABgIZAAAGAhkAAAYCGQAABgIZAAAGAhkAAAYCGQAABgIZAAAGAhkAAAYCGQAABgIZAAAGAhkAAAYCGQAABgIZAAAGAhkAAAYCGQAABgIZAAAGAhkAAAYCGQAABgIZAAAGAhkAAAYCGQAABgIZAAAGAhkAAAYCGQAABgIZAAAGAhkAAAYCGQAABgIZAAAGAhkAAAYCGQAABgIZAAAGAhkAAAYCGQAABgIZAAAGAhkAAAYCGQAABgIZAAAGAhkAAAYCGQAABgIZAAAGAhkAAAYCGQAABgIZAAAGAhkAAAYCGQAABgIZAAAGAhkAAAYCGQAABgIZAAAGAhkAAAYCGQAABgIZAAAGAhkAAAYCGQAABgIZAAAGAhkAAAYCGQAABgIZAAAGAhkAAAYCGQAABgIZAAAGAhkAAAYCGQAABgIZAAAGAhkAAAYCGQAABgIZAAAGAhkAAAYCGQAABgIZAAAGAhkAAAYCGQAABgIZAAAGAhkAAAYCGQAABgIZAAAGAhkAAAYCGQAABgIZAAAGAhkAAAYCGQAABgIZAAAGAhkAAAYCGQAABgIZAAAGAhkAAAYCGQAABgIZAAAGAhkAAAYCGQAABgIZAAAGAhkAAAYCGQAABgIZAAAGAhkAAAYCGQAABgIZAAAGAhkAAAYCGQAABgIZAAAGAhkAAAYCGQAABgIZAAAGAhkAAAYCGdip1732hJx/3qdy7jln5Z73uNs2z/mzE16Sr311U7532Vd+Zvx3n/akfPOSL2Tzpg9l86YP5ZnPePJKTBmYI3/656/Ngx59dB771Oes9lRglwhkYIceefhDc9AvH5i7HPybee5zX5KT3vDqbZ53xhln5f4PePQ2j73r3Ruy7t6HZd29D8spp75jltMF5tBjH3Vo3vTaV632NGCXCWRgh4444hE57W3vSZKc/dlzc8tb3TK3v/3tfu68sz97br71rW+v9PSANWDdPX4tt7zFzVd7GiyAqrpNVT2uqu41y/sIZGCH9tv39tly8aXXPr9kyzez3763n+o1Hv+4R+Xcc87KO09fn/3333d3TxGABVVVZ1TV3SaP75Dki0memeS0qnr+rO675/W49kfr1q175e6aCLCYznj/WTn9ne/LlVdemWc/66k59eS/yqGPeNJqTwuAOVFVxyU5bhha393rJ48P7O4vTh4/I8lZ3f27VXXzJJ9O8lezmNN1DuTNmzefuDsnwtqx5032e8Vqz4HZeu5zfi/HHvuUJMnmzZ/P/gf8dNV3v/3vkEsu/dYuv9Zll11+7eOTT3l7Tnz1y3bfRAFY8yYxvH47h38yPH5YkjdPrvmXqrpmVnOyxQL4OW9801uvfVPdhg1n5mlPeWKS5L73OSQ/+P4PptprPO5XPuKIw3L++Rfu9vkCsLAurqrnVdXjkhyS5INJUlV7JbnxrG4qkIEd2viBj+Sir30jF3z503nTm/5rjn/en1x7bPOmD137+MRXvyxfv2hz9t57r3z9os15+X96YZLkecc/M//w+Y/mnM1n5Xl/cGye+ayZbRkD5tSLX3FinvL7L8jXv7ElD3vsU/O3f3/mak+JtePYJHdN8vQkR3X39ybj90ty6qxuWt09q9dmQe15k/38RwPs0BWXfnK1pwCsETe+7Z1qmvOr6tZJvtczjFgryAAAzKWqenlV3WXy+KZV9bEkX03y/1XVw2d1X4EMAMC8OirJBZPHvzf55z5JHpzkz2d1U4EMAMC8unLYSvGIJKd399Xd/eVcv48r3iGBDADAvPpxVd2tqvZJ8ltJPjQc23tWN51ZeQMAwPX0H5O8J0vbKl7X3V9Lkqp6VJLPzeqmAhkAgLnU3Wcnucs2xjdW1Tmzuq8tFgAArAlVdauqOraqPhIryAAA3BBNvjXvyCTHJLlnkpsneWyST8zqnlaQAQCYS1X19iRfSXJoktcnuWOSy7v74919zazuK5ABAJhXBye5PMmXk3y5u69OMvNv9BXIAADMpe6+R5InZWlbxYer6lNJbl5VvzjL+9YMv8aaBbXnTfbzHw2wQ1dc+snVngKwRtz4tneqXT23qu6Vpb3Iv5NkS3f/xizm5E16AACsCd19TpJzqupFSR44q/sIZAAA5lJVvT473nM8k0+yEMgAAMyrzcPj/5zkFStxU3uQmZo9yMDO2IMM7Kpd3YNcVZ/r7nvOej6JT7EAAGBtWLEFOoEMAAADe5ABAJhLVfUv+enK8d5V9YOth5J0d99iFvcVyAAAzKXuvvlq3NcWCwAAGAhkAAAYCGQAABgIZAAAGAhkAAAYCGQAABgIZAAAGAhkAAAYCGQAABgIZAAAGAhkAAAYCGQAABgIZAAAGAhkAAAYCGQAABgIZAAAGAhkAAAYCGQAABgIZAAAGAhkAAAYCGQAABgIZAAAGAhkAAAYCGQAABgIZAAAGAhkAAAYCGQAABgIZAAAGAhkAAAYCGQAABgIZAAAGAhkAAAYCLbiyGUAAAgZSURBVGQAABgIZAAAGAhkAAAYCGQAABgIZAAAGAhkAAAYCGQAABgIZAAAGAhkAAAYCGQAABgIZAAAGAhkAAAYCGQAABgIZAAAGAhkAAAYCGQAABgIZAAAGAhkAAAYCGQAABgIZAAAGAhkAAAYCGQAABgIZAAAGAhkAAAYCGQAABgIZAAAGAhkAAAYCGQAABgIZAAAGAhkAAAYCGQAABgIZAAAGAhkAAAYCGQAABgIZAAAGAhkAAAYCGQAABgIZAAAGAhkAAAYCGQAABgIZAAAGAhkAAAYCGQAABgIZAAAGAhkAAAYCGQAABgIZAAAGAhkAAAYCGQAABgIZAAAGAhkAAAYCGQAABgIZAAAGAhkAAAYCGQAABgIZAAAGAhkAAAYCGQAABgIZAAAGAhkAAAYCGQAABgIZAAAGAhkAAAYCGQAABgIZAAAGAhkAAAYCGQAABgIZAAAGAhkAAAYCGQAABgIZAAAGAhkAAAYCGQAABgIZAAAGAhkAAAYCGQAABgIZAAAGFR3r/YcgDWuqo7r7vWrPQ9gvvldwVphBRnYHY5b7QkAa4LfFawJAhkAAAYCGQAABgIZ2B3sKQR2hd8VrAnepAcAAAMryAAAMBDIsKCq6her6u1VdVFVnVNVn6mqx1XVQ6rq+1X1+ao6v6r+9+Gap1fVP0+Obf1zcFXdsaquWDb+u5Nrvl5Vfzu8xhOr6i3DHM6oqn+oqvOqauNk/I5V9cXhmmdP5njrqnpLVT1xMv7xqto8nLeuqj4+6393wK6pqn9d9vzpVfWGZWOfr6rTl43dr6rOnhz7clW9cjK+zd8ZsNL2XO0JALtfVVWS9yV5a3cfMxn7pSSPSXJ5kk92929X1V5JPldV7+3uT08uf2d3H7/s9e6Y5KvdfY/t3PJeVXVwd5+3bPyEJGd1919PXufu25jr05I8L8lDu/vypan/jNtV1SO7+wO79MMDc6OqfjXJHkkeWFW/0N0/nBx6a5Indfc/VNUeSX5lMr7T3xmwEqwgw2J6aJIru/tNWwe6+5+6+/XjSd19RZLPJ9nvet7vL5O8bBvjd0iyZbjfF8aDVfWkJC9Nclh3f2c7r/2a7bw2MP+enOS0JB9KcuQwfrsk30yS7r56+D/XO/ydAStFIMNiumuSc3d2UlXdOslBST4xDB+1bCvFXpPxOy8bf+BwzbuSHFJVv7zsFiclObmqPlZVL6uqfYdjv5TkDVmK42/tYJqfSXJlVf3Wzn4eYMXtNf5eyNIK8OioJKcneUeWYnmr1yW5oKreW1W/X1U3m4zv6HcGrBiBDDcAVXXSZE/fpsnQA6vqH5JckuTMZYH6zu6+x/Dnisn4V5eNf3K45uosrfT+8Xjf7j4zyZ2SvDnJXbK0nWOfyeF/TvKNJE/ahR/hVUn+dIofGVgZV4y/F5K8fOuBqlqX5Dvd/Y0kH0lyz6r6d0nS3SckWZelleVjknxwMr6j3xmwYgQyLKYvJTlk65Pu/oMkD0uy9X9oPtndv56lleZjq2p7e4uncVqSByU5YBzs7su6++3d/bQkmybnJMm/JXlUkudU1VN29MLd/dEkeyW5326YJ7AynpzkLlX19SRfTXKLJE/YerC7v9rdb8zS76Zfr6rbTMa39zsDVoxAhsX00SQ3q6rnDmN7Lz+pu7+W5MQkL7m+N+zun2Tpr01fsHWsqh5aVXtPHt88yZ2ztGq89ZpvJzk8yZ9X1SN2cotXJfmj6ztPYPaq6kZZ+tuhX+vuO3b3HbO0B/nJk+OPrp++I/egLP0t1Pd29jsDVopAhgXUS98A9NgkD66qr1XVZ7P0rvFthfCbkjxo8kkVyc/vQf6NyfjyPcj/2zZe6+T87Kfj3CvJ5qr6Qpb2Ev/37t40XjCJ9MckOaWq7rODn2ljlrZlAPPvgUku6e5Lh7FPJDm4qu6Q5GlZ2oP8+Sz97dNTuvvq7MLvDFgJvkkPAAAGVpABAGAgkAEAYCCQAQBgIJABAGAgkAEAYCCQAfgZk6/5fcSysedX1Rt38foTqurhOznn6b5GGJhXAhmA5d6R5OhlY0dPxneoqvbo7pd394d3curTkwhkYC4JZACWe0+SR1fVTZJk8iUy+yZ5clVtrqovVdV/3npyVX29qv6iqs5N8jtV9ZaqeuLk2L2q6v+uqnOq6syqusPk2Lokb5t86cyjq+p9w+sdWlXvXbkfF+BnCWQAfkZ3X5bks0keORk6Osm7krysu9cluXuWvqXx7sNl3+3uQ7r79K0DVXXjJK9P8sTuvleSU5L8l+5+T5LNWfr2tHsk2ZjkLlW1z+TSZ0zOBVgVAhmAbRm3WWzdXvGkySrx55LcNcnBw/nv3MZr/EqSuyU5a/KVwn+aZP/lJ02+Gv20JE+tqlsluX+SD+ymnwNganuu9gQAmEv/V5LXVdUhSfZOclmSFyW5d3dfXlVvSXKz4fwfbuM1KsmXuvv+u3C/U5P8fZIfJXl3d191fSYPcH1YQQbg53T3vyb5WJa2OrwjyS2yFMHfr6pfzE+3X+zIBUn2qar7J0tbLqrqrpNj/5Lk5sP9Lk1yaZZWmU/dXT8HwHVhBRmA7XlHkvcmObq7z6+qzyU5P8nFST69s4u7+8rJG/L+pqpumaX/zfmrJF9K8pYkb6qqK5Lcv7uvSPK2JPt095dn8tMA7KJa2voFAKurqt6Q5HPdffJqzwW4YRPIAKy6qjonS1s4Du3uH6/2fIAbNoEMAAADb9IDAICBQAYAgIFABgCAgUAGAICBQAYAgIFABgCAwf8P/Xcvyxt4G3AAAAAASUVORK5CYII=\n",
            "text/plain": [
              "<Figure size 720x720 with 4 Axes>"
            ]
          },
          "metadata": {
            "tags": [],
            "needs_background": "light"
          }
        }
      ]
    },
    {
      "cell_type": "markdown",
      "metadata": {
        "id": "8_FfTkLl-DfQ",
        "colab_type": "text"
      },
      "source": [
        "# Pandas Review\n",
        "\n",
        "- Pandas extends numpy with more complex datastructures and algorithms.\n",
        "- If you understand numpy, you understand 90% of pandas.\n",
        "- `groupby`, `set_index`, and `unstack` are powerful tools for working with categorical data.\n",
        "- Avocado prices are surprisingly interesting :)"
      ]
    },
    {
      "cell_type": "markdown",
      "metadata": {
        "id": "AwTo7sl3-DfR",
        "colab_type": "text"
      },
      "source": [
        "# Thanks!"
      ]
    }
  ]
}

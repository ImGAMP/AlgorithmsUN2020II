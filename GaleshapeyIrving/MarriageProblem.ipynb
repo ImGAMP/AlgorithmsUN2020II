{
  "nbformat": 4,
  "nbformat_minor": 0,
  "metadata": {
    "colab": {
      "name": "MarriageProblem.ipynb",
      "provenance": [],
      "collapsed_sections": []
    },
    "kernelspec": {
      "name": "python3",
      "display_name": "Python 3"
    }
  },
  "cells": [
    {
      "cell_type": "markdown",
      "metadata": {
        "id": "koGzSeuntYiS"
      },
      "source": [
        "#**Lab 9**\n",
        "Gale-Shapley and Irving Algorithms\n"
      ]
    },
    {
      "cell_type": "markdown",
      "metadata": {
        "id": "iNty_4zTt8lw"
      },
      "source": [
        "###1. Find the best and worst cases for the Gale-Shapley and Irving ( [An Efficient Algorithm for the “Stable Roommates” Problem](http://www.dcs.gla.ac.uk/~pat/jchoco/roommates/papers/Comp_sdarticle.pdf)) Algorithms and run in Colab these algorithms for those cases for n=4 and 40."
      ]
    },
    {
      "cell_type": "code",
      "metadata": {
        "id": "FQvPfYhbqOol"
      },
      "source": [
        "import pandas as pd\n",
        "import numpy as np\n",
        "import matplotlib.pyplot as plt\n",
        "from collections import Counter\n",
        "from copy import copy\n",
        "import random, itertools, pprint, sys\n"
      ],
      "execution_count": 35,
      "outputs": []
    },
    {
      "cell_type": "code",
      "metadata": {
        "id": "uYHmAV-P1RKi"
      },
      "source": [
        "\n",
        "def case(inicial, final):\n",
        "  a=[]\n",
        "  b=[]\n",
        "  for h in range(inicial,final+1):\n",
        "    b.append(h)\n",
        "  for m in range(len(b)):\n",
        "    x = random.randrange(len(b))\n",
        "    a.append(b[x])\n",
        "    b.remove(b[x])\n",
        "  return a\n",
        "\n",
        "def llenarLista(inicial1, inicial2,final1, final2):\n",
        "  m = final1-inicial1 +1\n",
        "  a = []\n",
        "  for j in range(m*2):\n",
        "      if (j < m): \n",
        "        a.append(case(inicial1, final1))\n",
        "      else: \n",
        "        a.append(case(inicial2 ,final2))\n",
        "  return a\n",
        "\n",
        "def llenarDic(conjunto,inicial,index, final):\n",
        "  n = final - inicial + 1\n",
        "  dic = {}\n",
        "  for i in range(n):\n",
        "    dic[conjunto[i]] = case(inicial,final)\n",
        "  df = pd.DataFrame(dic)\n",
        "  df.index = index\n",
        "  return df\n",
        "      "
      ],
      "execution_count": 49,
      "outputs": []
    },
    {
      "cell_type": "code",
      "metadata": {
        "id": "_VlGXaQ1wCSV"
      },
      "source": [
        "\n",
        "#Galey-Shapley Algorithm\n",
        "def matchingGS(man, woman, valores, tam):\n",
        "\n",
        "  #Crear datagrama\n",
        "\n",
        "  man_df = llenarDic(woman,valores,man,tam)\n",
        "  woman_df = llenarDic(woman,valores,man,tam)\n",
        "\n",
        "  print(man_df)\n",
        "  print(\"-----------\")\n",
        "  print(woman_df)\n",
        "\n",
        "  #Inicializacion datos \n",
        "\n",
        "  women_available = {men:woman for men in man }\n",
        "  waiting_list = []\n",
        "  proposals = {}\n",
        "  count = 0\n",
        "\n",
        "  #Mientras haya hombre solteros\n",
        "\n",
        "  for i in range(tam): \n",
        "\n",
        "   while len(waiting_list) < len(man):\n",
        "\n",
        "    #Propuesta\n",
        "\n",
        "    for men in man:\n",
        "      if men not in waiting_list:\n",
        "        #Hacer propuesta al top\n",
        "        women = women_available[men]\n",
        "        best_choice = man_df.loc[men][man_df.loc[men].index.isin(women)].idxmin()\n",
        "        proposals[(men, best_choice)] = (man_df.loc[men][best_choice], woman_df.loc[men][best_choice])         \n",
        "\n",
        "        #Si hay mas de una propuesta\n",
        "        overlays = Counter([key[1] for key in proposals.keys()])\n",
        "\n",
        "        #Escoger la mejor opcion\n",
        "        for women in overlays.keys():\n",
        "          if overlays[women] > 1:\n",
        "            pairs_to_drop = sorted({pair: proposals[pair] for pair in proposals.keys() if women in pair}.items(), key= lambda x: x[1][1])[1:]\n",
        "\n",
        "            #\n",
        "            for p_to_drop in pairs_to_drop:\n",
        "              del proposals[p_to_drop[0]]\n",
        "              _women = copy(women_available[p_to_drop[0][0]])\n",
        "              _women.remove(p_to_drop[0][1])\n",
        "              women_available[p_to_drop[0][0]] = _women\n",
        "\n",
        "    #Añadir hombre al waiting_list\n",
        "    waiting_list = [men[0] for men in proposals.keys()]\n",
        "\n",
        "    #update counter\n",
        "    count += 1\n",
        "\n",
        "  print(\"Las parejas estan formadas por: {0}\".format(proposals))\n",
        "  print(\"Veces contadas: {0}\".format(count))\n",
        "  return count\n"
      ],
      "execution_count": 64,
      "outputs": []
    },
    {
      "cell_type": "code",
      "metadata": {
        "id": "gup9HnlxpbNG"
      },
      "source": [
        "#Stable Marriage\n",
        "#Escoger preferencia de la mujer entre m y m1\n",
        "def wPrefersM1OverM(prefer,w,m,m1,N): \n",
        "  for i in range(N):\n",
        "    if(prefer[w][i] == m1):\n",
        "      return True\n",
        "    if(prefer[w][i] == m):\n",
        "      return False\n",
        "\n",
        "def stableMarriage(prefer,N):\n",
        "  #\n",
        "  wPartner = [-1 for i in range(N)]\n",
        "  #\n",
        "  mFree = [False for i in range(N)]\n",
        "\n",
        "  freeCount = N\n",
        "\n",
        "  count = 0\n",
        "\n",
        "  #Mientras haya hombres libres\n",
        "  while (freeCount > 0):\n",
        "    \n",
        "    #Encontrar el primer hombre soltero\n",
        "    m = 0\n",
        "    while (m < N):\n",
        "      if (mFree[m]==False):\n",
        "        break\n",
        "      m +=1\n",
        "\n",
        "    #\n",
        "    i = 0\n",
        "    while i < N and mFree[m] == False:\n",
        "      w = prefer[m][i]\n",
        "\n",
        "      #\n",
        "      if (wPartner[w-N] == -1):\n",
        "        wPartner[w-N] = m\n",
        "        mFree[m]= True\n",
        "        freeCount -=1\n",
        "      else:\n",
        "\n",
        "        #Si la mujer no está libre\n",
        "        m1 = wPartner[w-N]\n",
        "\n",
        "        #Buscar la preferencia \n",
        "        if( wPrefersM1OverM(prefer,w,m,m1,N)==False):\n",
        "          wPartner[w-N]= m\n",
        "          mFree[m] = True\n",
        "          mFree[m1] = False\n",
        "        \n",
        "      i += 1\n",
        "      #update counter\n",
        "      count += 1\n",
        "\n",
        "  print(\"Woman\",\"Man\")\n",
        "  for i in range(N):\n",
        "    print(i + N, \"\\t\", wPartner[i])\n",
        "  print(\"Veces contadas: {0}\".format(count))\n",
        "\n",
        "  return count"
      ],
      "execution_count": 71,
      "outputs": []
    },
    {
      "cell_type": "markdown",
      "metadata": {
        "id": "KsD-21IqdovY"
      },
      "source": [
        "$n=4$"
      ]
    },
    {
      "cell_type": "code",
      "metadata": {
        "id": "IMZd-8IgmxUc"
      },
      "source": [
        "a = 0\n",
        "b = 0"
      ],
      "execution_count": 62,
      "outputs": []
    },
    {
      "cell_type": "code",
      "metadata": {
        "id": "U1CQLmbj_8Ts",
        "outputId": "b212ec24-0e3b-41d2-c43f-844f6d9cbda2",
        "colab": {
          "base_uri": "https://localhost:8080/"
        }
      },
      "source": [
        "man_list = ['a','b','c','d']\n",
        "woman_list = [\"A\", \"B\", \"C\", \"D\"]\n",
        "c = matchingGS(man_list,woman_list,1,4)\n",
        "if c>a:\n",
        "  a=c\n",
        "elif c<b:\n",
        "  b=c\n",
        "if b == 0:\n",
        "  b=c\n",
        "print(\"El peor caso encontrado: {}\".format(a))\n",
        "print(\"El mejor caso encontrado: {}\".format(b))"
      ],
      "execution_count": 113,
      "outputs": [
        {
          "output_type": "stream",
          "text": [
            "   A  B  C  D\n",
            "a  1  2  4  2\n",
            "b  2  1  1  1\n",
            "c  4  4  2  3\n",
            "d  3  3  3  4\n",
            "-----------\n",
            "   A  B  C  D\n",
            "a  4  1  1  2\n",
            "b  1  2  4  3\n",
            "c  2  4  3  1\n",
            "d  3  3  2  4\n",
            "Las parejas estan formadas por: {('c', 'C'): (2, 3), ('d', 'A'): (3, 3), ('a', 'B'): (2, 1), ('b', 'D'): (1, 3)}\n",
            "Veces contadas: 4\n",
            "El peor caso encontrado: 6\n",
            "El mejor caso encontrado: 1\n"
          ],
          "name": "stdout"
        }
      ]
    },
    {
      "cell_type": "code",
      "metadata": {
        "id": "-NeDk0P7oGHV"
      },
      "source": [
        "x = 0\n",
        "y = 0"
      ],
      "execution_count": 82,
      "outputs": []
    },
    {
      "cell_type": "code",
      "metadata": {
        "id": "eNxN1IZUFGuw",
        "outputId": "b3249058-5f4a-4906-cc0e-313fdb99ec39",
        "colab": {
          "base_uri": "https://localhost:8080/"
        }
      },
      "source": [
        "prefer = llenarLista(0,4,3,7)\n",
        "z = stableMarriage(prefer,4) \n",
        "print(\"---------\")\n",
        "print(prefer)\n",
        "if z>x:\n",
        "  x=z\n",
        "elif z<y:\n",
        "  y=z\n",
        "if y == 0:\n",
        "  y=z\n",
        "print(\"El peor caso encontrado: {}\".format(x))\n",
        "print(\"El mejor caso encontrado: {}\".format(y))"
      ],
      "execution_count": 112,
      "outputs": [
        {
          "output_type": "stream",
          "text": [
            "Woman Man\n",
            "4 \t 2\n",
            "5 \t 0\n",
            "6 \t 3\n",
            "7 \t 1\n",
            "Veces contadas: 6\n",
            "---------\n",
            "[[1, 2, 3, 0], [3, 0, 1, 2], [1, 0, 3, 2], [0, 2, 1, 3], [7, 5, 4, 6], [6, 4, 7, 5], [7, 5, 6, 4], [4, 5, 7, 6]]\n",
            "El peor caso encontrado: 12\n",
            "El mejor caso encontrado: 4\n"
          ],
          "name": "stdout"
        }
      ]
    },
    {
      "cell_type": "markdown",
      "metadata": {
        "id": "mLnfapvadsIf"
      },
      "source": [
        "$n=40$"
      ]
    },
    {
      "cell_type": "code",
      "metadata": {
        "id": "VM1r_U3ZpqKt"
      },
      "source": [
        "a1= 0\n",
        "b1= 0"
      ],
      "execution_count": 115,
      "outputs": []
    },
    {
      "cell_type": "code",
      "metadata": {
        "id": "WEHRPPpHj41k",
        "outputId": "d86b2f39-4834-4a1a-d502-87f83e431f8b",
        "colab": {
          "base_uri": "https://localhost:8080/"
        }
      },
      "source": [
        "man_list =   ['a','b','c','d','e','f','g','h','i','j','k','l','m','n','ñ','o','p','q','r','s','t','u','v','w','x','y','z','aa','ab','ac','ad','ae','af','ag','ah','ai','aj','ak','al','am']\n",
        "woman_list = ['A','B','C','D','E','F','G','H','I','J','K','L','M','N','Ñ','O','P','Q','R','S','T','U','V','W','X','Y','Z','AA','AB','AC','AD','AE','AF','AG','AH','AI','AJ','AK','AL','AM']\n",
        "c1 = matchingGS(man_list,woman_list,1,40)\n",
        "if c1>a1:\n",
        "  a1=c1\n",
        "elif c1<b1:\n",
        "  b1=c1\n",
        "if b1 == 0:\n",
        "  b1=c1\n",
        "print(\"El peor caso encontrado: {}\".format(a1))\n",
        "print(\"El mejor caso encontrado: {}\".format(b1))"
      ],
      "execution_count": 125,
      "outputs": [
        {
          "output_type": "stream",
          "text": [
            "     A   B   C   D   E   F   G   H   I  ...  AE  AF  AG  AH  AI  AJ  AK  AL  AM\n",
            "a   14  14  31  31  15  10   6   9  16  ...  31  12   4   9   7  39  11  20  33\n",
            "b   23   5  37  26  30  36   4  10  28  ...  37  25  21  16   6  19  39  35   6\n",
            "c    9  21   3  29  19  39  34  27  37  ...   2  13   9  22  38  17   3  32  34\n",
            "d   32   4  33  30  35  13  23  25  35  ...   8  20  40  25  31   2  10  40  20\n",
            "e   16  29  28  10  31  25  40  29  31  ...  24  22  26  38  17  15   5  14  38\n",
            "f   13  37   6  32   2  27  14  13  36  ...  39  33  38  10  33  31  23  17  27\n",
            "g   21  10  14  36  26   9  18  36  21  ...   7  29  25  29  37  35  33  26  24\n",
            "h    5  31   8  11   1  30  32  17  39  ...  23  30  39  18   4  21   6  21  35\n",
            "i   29  25  34   7  16  17  21  39  18  ...   4  35  29  12  20  36  28  39  25\n",
            "j   39  16  15  13  29   2  17  37   5  ...  15  23   8  30  25  28   4  11  30\n",
            "k   31   8   5  38  20  40  19  18  14  ...  26  28  11  37  28   1  15   7  17\n",
            "l    6  19  23   8  10  14  30  19  19  ...  20  17  35   2  29   8  26  15  31\n",
            "m   25   7   1  16  39  22  13   5   6  ...  25  36  18  32  40   9  14   2  32\n",
            "n   15   9  12   1  18   6  28  32   7  ...  28  32   1   1  12  23  25  38  21\n",
            "ñ   22  35  11   5  21  19  27  12   4  ...   5   1  27  20  36  34  36  10  11\n",
            "o   18  39  16  33   5   3  31  22   3  ...  11   2  36  34  15  10   2  22  13\n",
            "p    8  30  19  21  25  26   1  28  33  ...  22  14  31  36  14  33  30  23   4\n",
            "q   35   3   9  14   8   8  37  40   2  ...  18  24  19  40   5   3  20   1   8\n",
            "r   17  20  39  35  14  31   5  30  38  ...   6  19  20   6   2  25  13  33  28\n",
            "s   24   2  40  27   3   5  25  34  17  ...  17  18  16   4  11  38  37   5  19\n",
            "t   37  40  17  24  17   7   8   6  25  ...  36   5  10  24  19  13   8  19  10\n",
            "u    4  12  18  19  33  34  22  15  27  ...  12  21  14  21  35  12   1  34   1\n",
            "v   34   6  29  39   9  12   3   4  23  ...  29  26  12  11  24  37  35   4   7\n",
            "w   20  38  21  20  28  37  33   7  22  ...  19  37  30  14  23   4  17  16  37\n",
            "x   40   1  36   4  34   4  15  33  29  ...  16   7  34   7  39  11   7   9  39\n",
            "y   27  34   7  15  38  20   2   8  12  ...   9  38  15   5  10  40  24  29  22\n",
            "z   11  13  25  22  27  23  16  23  15  ...  33   4  33  19   8  32  32  18  26\n",
            "aa  26  28  27   2  22  21  26  24  20  ...  40  40  13  28  32  16   9  13  23\n",
            "ab  19  24  13  17  23  16  36  14  32  ...  30   3  37  15  21   6  19   6  36\n",
            "ac   7  22   4  12  11   1  11   2  40  ...  27   8   3  13  27   7  38  30  16\n",
            "ad  12  11  10  23  24  28   9  11   8  ...  13  34  28  35  16  22  21  36  29\n",
            "ae  33  36  20  25  36  38  24  26  26  ...   1  10   2  39   1  18  22   8  15\n",
            "af   2  33  32   3   6  24  39  31  10  ...   3  11   5   3   9  14  16  27  12\n",
            "ag  10  27  24  37  12  18  35  35   9  ...  21  16  32  26  13  29  40  28   9\n",
            "ah  30  23  22  28  32  32  20  16  30  ...  32  31   6  33  18   5  18  24  18\n",
            "ai  38  15  35  18  40  29  38  20  24  ...  34   6  17  23  26  20  29   3   3\n",
            "aj  36  18  38   9  37  15  12   1  11  ...  35  15  24  17  30  27  34  12  14\n",
            "ak   3  26  26   6  13  33   7   3  34  ...  38   9  22  31   3  24  12  37  40\n",
            "al  28  32  30  34   4  35  29  38   1  ...  10  27  23  27  22  30  27  31   5\n",
            "am   1  17   2  40   7  11  10  21  13  ...  14  39   7   8  34  26  31  25   2\n",
            "\n",
            "[40 rows x 40 columns]\n",
            "-----------\n",
            "     A   B   C   D   E   F   G   H   I  ...  AE  AF  AG  AH  AI  AJ  AK  AL  AM\n",
            "a   35  30  25  33  29  32  38  27  13  ...  10  40  25   9  32  36  33  11  38\n",
            "b    6  27  29  36   5  17  16  25  18  ...   8  15  21   2   2  38  29  33  23\n",
            "c    2  26  21  29  21  21  15  30   2  ...  36  25  32  34   4  12   3  18   3\n",
            "d   40  32  32   4  30  11  14  18   3  ...   4   1  26  36  22  23  38  40   2\n",
            "e   28   2  17   1  15  40  13   6   9  ...  24  11  11  17  27  22  24  27  31\n",
            "f   27  11  40  22  35  38  21  20  28  ...  25  22  19  14  17  26  30  22  35\n",
            "g   32  31  27  26  11   9  29   8  22  ...  14  32   5   3  40  10  22  31  29\n",
            "h   11  29  10  31  18   2   8  12  25  ...   6  28  23  39  19  27  40  19  30\n",
            "i   15  15  36  18   6  14  11  37  15  ...  29  33  33  15  26  31  20  12  33\n",
            "j   30  10  26  14  17  36  12   5  24  ...  35   2  13  38  18  20  18   7  11\n",
            "k   23   1  23  27  32  18   2  13   4  ...  18  20  24  24  15   8  25  15  18\n",
            "l    7  34  30  19   3  12   7  17  31  ...  15  17  40  40  39   7  32  26  24\n",
            "m   29  24   7   3  12  10  35   7   6  ...  38  13   3  19   5   3  34  17  19\n",
            "n   39  18   5   7  24  20   1  29  36  ...  27   9  18   4  20  30  28  10  27\n",
            "ñ   19  17   3  37  20   3  32  24  12  ...  23  21  10  27  30  15   7  13  32\n",
            "o   36  37  14   9   9  24   9  35  11  ...  26   3  29  11  28  16   5  36  14\n",
            "p    3   7  37  30  36  27  22  31  20  ...  11  39  22  12  10  25  35   9  17\n",
            "q   38  28  35   2   4   8  10  40  27  ...  21  19   2  20  35   2   2  32  20\n",
            "r   13  25   1  39   1   5   4  19  26  ...  32  34   1  16  12  29  17  21  10\n",
            "s   12  20   6   8  19  13  19  22  19  ...  31  14  28  31  13   1  11  39   6\n",
            "t    9  22   9  21  40   1  27  34  35  ...   2  29  39  33  31  34  10   8  40\n",
            "u   33  33   2  32  14  34  26  33   8  ...  39   5  38   1  16  19  12  35   7\n",
            "v   25   3  20  23  26  23  33   3  17  ...   3   4  14  23  25  11   1   2   9\n",
            "w   14  23  18  28  37  16  24  28   1  ...  34  16   9  18  21  18  37  34   8\n",
            "x   16  16  13  24  33   7  34  39   7  ...  28   6   4  10   9   9   4   6  36\n",
            "y   24  14  28  11  38  35  23  32  21  ...  17  18  37  26   8  13   8  24  16\n",
            "z   37   8   4   5   8  19  30   2   5  ...  30  27  17  25  33  24  26   4  37\n",
            "aa  10  12  38  35  22  29   5  21  33  ...  37  23   8  32  24  28  31   5  13\n",
            "ab  34  40  11  10  25   6   3   9  10  ...  33  30   7   7   1  33  21  28  26\n",
            "ac   4   9  22  15  23  26  20  11  40  ...  13  31  35  35   7   5  16  23  39\n",
            "ad  17  36  39  16  27  31   6   1  39  ...  19  12  16  28  34  35  36  37  22\n",
            "ae  26  21  24   6  13  33  39  26  23  ...  16  35  34   5  38  32  15  29  28\n",
            "af  22  19  33  12  16  37  28   4  14  ...  22   8  36   8  36   4  19  30  21\n",
            "ag  20  38  19  40   7   4  36  14  32  ...   9  10   6  29  14  39   9  20   4\n",
            "ah   8  13  15  34  31  28  25  15  37  ...  40   7  30  21  23   6  23  14  25\n",
            "ai  18   5  16  17  39  25  31  10  29  ...   5  26  31  22  29  17  39  16   5\n",
            "aj   1  39  31  38  10  39  17  16  38  ...   7  36  27  13   6  40  14  25  12\n",
            "ak   5  35  12  25   2  22  40  23  30  ...  12  38  15  30   3  37  13  38  15\n",
            "al  21   4  34  13  28  15  37  38  34  ...  20  24  12   6  11  14  27   3  34\n",
            "am  31   6   8  20  34  30  18  36  16  ...   1  37  20  37  37  21   6   1   1\n",
            "\n",
            "[40 rows x 40 columns]\n",
            "Las parejas estan formadas por: {('a', 'U'): (3, 23), ('f', 'S'): (1, 26), ('g', 'V'): (1, 15), ('h', 'E'): (1, 18), ('j', 'N'): (1, 13), ('k', 'AJ'): (1, 8), ('m', 'C'): (1, 7), ('ñ', 'AF'): (1, 21), ('o', 'W'): (1, 19), ('q', 'AL'): (1, 32), ('r', 'Ñ'): (1, 21), ('u', 'AK'): (1, 12), ('x', 'B'): (1, 16), ('ac', 'F'): (1, 26), ('ae', 'AB'): (1, 12), ('ah', 'T'): (1, 8), ('s', 'X'): (2, 21), ('t', 'L'): (4, 16), ('w', 'J'): (3, 11), ('y', 'P'): (2, 21), ('ad', 'G'): (9, 6), ('d', 'AC'): (3, 10), ('p', 'O'): (2, 15), ('v', 'H'): (4, 3), ('ak', 'A'): (3, 5), ('z', 'AI'): (8, 33), ('ai', 'Y'): (1, 19), ('am', 'AD'): (2, 2), ('af', 'AE'): (3, 22), ('ab', 'Z'): (4, 6), ('aj', 'AA'): (5, 15), ('b', 'M'): (4, 18), ('l', 'AH'): (2, 40), ('ag', 'I'): (9, 32), ('aa', 'K'): (8, 15), ('c', 'Q'): (1, 2), ('i', 'R'): (3, 3), ('al', 'AM'): (5, 34), ('e', 'D'): (10, 1), ('n', 'AG'): (1, 18)}\n",
            "Veces contadas: 17\n",
            "El peor caso encontrado: 77\n",
            "El mejor caso encontrado: 13\n"
          ],
          "name": "stdout"
        }
      ]
    },
    {
      "cell_type": "code",
      "metadata": {
        "id": "0RRTmEJkqIZq"
      },
      "source": [
        "a2= 0\n",
        "b2= 0"
      ],
      "execution_count": 126,
      "outputs": []
    },
    {
      "cell_type": "code",
      "metadata": {
        "id": "G_h7sRyEkd6p",
        "outputId": "1e0b9130-71ac-4fb0-ccd4-528f272d77ad",
        "colab": {
          "base_uri": "https://localhost:8080/"
        }
      },
      "source": [
        "prefer = llenarLista(0,40,39,79)\n",
        "c2= stableMarriage(prefer,40) \n",
        "if c2>a2:\n",
        "  a2=c2\n",
        "elif c2<b2:\n",
        "  b2=c2\n",
        "if b2 == 0:\n",
        "  b2=c2\n",
        "print(\"El peor caso encontrado: {}\".format(a2))\n",
        "print(\"El mejor caso encontrado: {}\".format(b2))"
      ],
      "execution_count": 134,
      "outputs": [
        {
          "output_type": "stream",
          "text": [
            "Woman Man\n",
            "40 \t 25\n",
            "41 \t 31\n",
            "42 \t 20\n",
            "43 \t 0\n",
            "44 \t 19\n",
            "45 \t 18\n",
            "46 \t 35\n",
            "47 \t 16\n",
            "48 \t 11\n",
            "49 \t 24\n",
            "50 \t 8\n",
            "51 \t 26\n",
            "52 \t 14\n",
            "53 \t 22\n",
            "54 \t 3\n",
            "55 \t 27\n",
            "56 \t 7\n",
            "57 \t 17\n",
            "58 \t 5\n",
            "59 \t 10\n",
            "60 \t 2\n",
            "61 \t 34\n",
            "62 \t 12\n",
            "63 \t 28\n",
            "64 \t 9\n",
            "65 \t 6\n",
            "66 \t 13\n",
            "67 \t 15\n",
            "68 \t 23\n",
            "69 \t 36\n",
            "70 \t 4\n",
            "71 \t 1\n",
            "72 \t 32\n",
            "73 \t 33\n",
            "74 \t 21\n",
            "75 \t 30\n",
            "76 \t 29\n",
            "77 \t 39\n",
            "78 \t 38\n",
            "79 \t 37\n",
            "Veces contadas: 281\n",
            "El peor caso encontrado: 306\n",
            "El mejor caso encontrado: 200\n"
          ],
          "name": "stdout"
        }
      ]
    },
    {
      "cell_type": "markdown",
      "metadata": {
        "id": "7chylMAQQNb5"
      },
      "source": [
        "____________________________________________"
      ]
    },
    {
      "cell_type": "markdown",
      "metadata": {
        "id": "b95daUIrW45L"
      },
      "source": [
        "###2. Run the Gale-Shapley Algorithm 100 times using random permutations as preference lists for n=4 and 40. Find the minimum, maximum and average number of iterations and plot the distribution of the number of iterations."
      ]
    },
    {
      "cell_type": "code",
      "metadata": {
        "id": "L51k3-i_W83J"
      },
      "source": [
        "\n",
        "#Galey-Shapley Algorithm\n",
        "def matchingGSDis(man, woman, valores, tam):\n",
        "\n",
        "  #Crear datagrama\n",
        "\n",
        "  man_df = llenarDic(woman,valores,man,tam)\n",
        "  woman_df = llenarDic(woman,valores,man,tam)\n",
        "  #Inicializacion datos \n",
        "\n",
        "  women_available = {men:woman for men in man }\n",
        "  waiting_list = []\n",
        "  proposals = {}\n",
        "  count = 0\n",
        "\n",
        "  #Mientras haya hombre solteros\n",
        "\n",
        "  for i in range(tam): \n",
        "\n",
        "   while len(waiting_list) < len(man):\n",
        "\n",
        "    #Propuesta\n",
        "\n",
        "    for men in man:\n",
        "      if men not in waiting_list:\n",
        "        #Hacer propuesta al top\n",
        "        women = women_available[men]\n",
        "        best_choice = man_df.loc[men][man_df.loc[men].index.isin(women)].idxmin()\n",
        "        proposals[(men, best_choice)] = (man_df.loc[men][best_choice], woman_df.loc[men][best_choice])         \n",
        "\n",
        "        #Si hay mas de una propuesta\n",
        "        overlays = Counter([key[1] for key in proposals.keys()])\n",
        "\n",
        "        #Escoger la mejor opcion\n",
        "        for women in overlays.keys():\n",
        "          if overlays[women] > 1:\n",
        "            pairs_to_drop = sorted({pair: proposals[pair] for pair in proposals.keys() if women in pair}.items(), key= lambda x: x[1][1])[1:]\n",
        "\n",
        "            #\n",
        "            for p_to_drop in pairs_to_drop:\n",
        "              del proposals[p_to_drop[0]]\n",
        "              _women = copy(women_available[p_to_drop[0][0]])\n",
        "              _women.remove(p_to_drop[0][1])\n",
        "              women_available[p_to_drop[0][0]] = _women\n",
        "\n",
        "    #Añadir hombre al waiting_list\n",
        "    waiting_list = [men[0] for men in proposals.keys()]\n",
        "\n",
        "    #update counter\n",
        "    count += 1\n",
        "\n",
        "  return count\n",
        "\n"
      ],
      "execution_count": 18,
      "outputs": []
    },
    {
      "cell_type": "code",
      "metadata": {
        "id": "p5gujRF2XwUk"
      },
      "source": [
        "#Stable Marriage\n",
        "def wPrefersM1OverM(prefer,w,m,m1,N): \n",
        "  for i in range(N):\n",
        "    if(prefer[w][i] == m1):\n",
        "      return True\n",
        "    if(prefer[w][i] == m):\n",
        "      return False\n",
        "\n",
        "def stableMarriageDis(prefer,N):\n",
        "  #\n",
        "  wPartner = [-1 for i in range(N)]\n",
        "  #\n",
        "  mFree = [False for i in range(N)]\n",
        "\n",
        "  freeCount = N\n",
        "\n",
        "  count = 0\n",
        "\n",
        "  #Mientras haya hombres libres\n",
        "  while (freeCount > 0):\n",
        "    \n",
        "    #Encontrar el primer hombre soltero\n",
        "    m = 0\n",
        "    while (m < N):\n",
        "      if (mFree[m]==False):\n",
        "        break\n",
        "      m +=1\n",
        "\n",
        "    #\n",
        "    i = 0\n",
        "    while i < N and mFree[m] == False:\n",
        "      w = prefer[m][i]\n",
        "\n",
        "      #\n",
        "      if (wPartner[w-N]==-1):\n",
        "        wPartner[w-N] = m\n",
        "        mFree[m]= True\n",
        "        freeCount -=1\n",
        "      else:\n",
        "\n",
        "        #Si la mujer no está libre\n",
        "        m1 = wPartner[w-N]\n",
        "\n",
        "        #Buscar la preferencia \n",
        "        if( wPrefersM1OverM(prefer,w,m,m1,N)==False):\n",
        "          wPartner[w-N]= m\n",
        "          mFree[m] = True\n",
        "          mFree[m1] = False\n",
        "        \n",
        "      i += 1\n",
        "      #update counter\n",
        "      count += 1\n",
        "\n",
        "  return count"
      ],
      "execution_count": 17,
      "outputs": []
    },
    {
      "cell_type": "markdown",
      "metadata": {
        "id": "hCTgLii0bs6d"
      },
      "source": [
        "$n = 4$"
      ]
    },
    {
      "cell_type": "code",
      "metadata": {
        "id": "XNm-wzvWX9IE",
        "outputId": "7693bce1-271f-4fab-8511-6b4e22d24f41",
        "colab": {
          "base_uri": "https://localhost:8080/",
          "height": 347
        }
      },
      "source": [
        "n = 100\n",
        "nc_to_win = []\n",
        "man_list = ['a','b','c','d']\n",
        "woman_list = [\"A\", \"B\", \"C\", \"D\"]\n",
        "\n",
        "for i in range(n):\n",
        "    nc_to_win.append(matchingGSDis(man_list,woman_list,1,4))\n",
        "\n",
        "plt.figure()\n",
        "plt.hist(nc_to_win, density=True, bins=13)\n",
        "plt.title(\"Distribution of Matching Gale-Shapley\")\n",
        "plt.xlabel(\"Number of counts\")\n",
        "plt.ylabel(\"Relative Frequency\")\n",
        "plt.show\n",
        "\n",
        "print(\"El minimo numero de iteraciones es: {0}\".format(min(nc_to_win)))\n",
        "print(\"El promedio numero de iteraciones es: {0}\".format(int(np.mean(nc_to_win))))\n",
        "print(\"El máximo numero de iteraciones es: {0}\".format(max(nc_to_win)))"
      ],
      "execution_count": 55,
      "outputs": [
        {
          "output_type": "stream",
          "text": [
            "El minimo numero de iteraciones es: 1\n",
            "El promedio numero de iteraciones es: 2\n",
            "El máximo numero de iteraciones es: 7\n"
          ],
          "name": "stdout"
        },
        {
          "output_type": "display_data",
          "data": {
            "image/png": "[encoded data removed]",
            "text/plain": [
              "<Figure size 432x288 with 1 Axes>"
            ]
          },
          "metadata": {
            "tags": [],
            "needs_background": "light"
          }
        }
      ]
    },
    {
      "cell_type": "code",
      "metadata": {
        "id": "n08kYoqqY8vz",
        "outputId": "5fd6352f-f844-4c17-e72a-730d789e097b",
        "colab": {
          "base_uri": "https://localhost:8080/",
          "height": 347
        }
      },
      "source": [
        "n = 100\n",
        "nc_to_win = []\n",
        "\n",
        "for i in range(n):\n",
        "\n",
        "    prefer = llenarLista(0,4,3,7)\n",
        "    nc_to_win.append(stableMarriageDis(prefer,4))\n",
        "\n",
        "plt.figure()\n",
        "plt.hist(nc_to_win, density=True, bins=13)\n",
        "plt.title(\"Distribution of Stable Marriage\")\n",
        "plt.xlabel(\"Number of counts\")\n",
        "plt.ylabel(\"Relative Frequency\")\n",
        "plt.show\n",
        "\n",
        "print(\"El minimo numero de iteraciones es: {0}\".format(min(nc_to_win)))\n",
        "print(\"El promedio numero de iteraciones es: {0}\".format(int(np.mean(nc_to_win))))\n",
        "print(\"El máximo numero de iteraciones es: {0}\".format(max(nc_to_win)))"
      ],
      "execution_count": 56,
      "outputs": [
        {
          "output_type": "stream",
          "text": [
            "El minimo numero de iteraciones es: 4\n",
            "El promedio numero de iteraciones es: 7\n",
            "El máximo numero de iteraciones es: 16\n"
          ],
          "name": "stdout"
        },
        {
          "output_type": "display_data",
          "data": {
            "image/png": "[encoded data removed]",
            "text/plain": [
              "<Figure size 432x288 with 1 Axes>"
            ]
          },
          "metadata": {
            "tags": [],
            "needs_background": "light"
          }
        }
      ]
    },
    {
      "cell_type": "markdown",
      "metadata": {
        "id": "d7sRM-dVcqEK"
      },
      "source": [
        "$n= 40$"
      ]
    },
    {
      "cell_type": "code",
      "metadata": {
        "id": "rsGeRj37Zf2G",
        "outputId": "d7c104d2-a512-4bac-ecc5-edb0659ae622",
        "colab": {
          "base_uri": "https://localhost:8080/",
          "height": 347
        }
      },
      "source": [
        "man_list =   ['a','b','c','d','e','f','g','h','i','j','k','l','m','n','ñ','o','p','q','r','s','t','u','v','w','x','y','z','aa','ab','ac','ad','ae','af','ag','ah','ai','aj','ak','al','am']\n",
        "woman_list = ['A','B','C','D','E','F','G','H','I','J','K','L','M','N','Ñ','O','P','Q','R','S','T','U','V','W','X','Y','Z','AA','AB','AC','AD','AE','AF','AG','AH','AI','AJ','AK','AL','AM']\n",
        "nc_to_win = []\n",
        "\n",
        "\n",
        "for i in range(n):\n",
        "    nc_to_win.append(matchingGSDis(man_list,woman_list,1,40))\n",
        "\n",
        "plt.figure()\n",
        "plt.hist(nc_to_win, density=True, bins=13)\n",
        "plt.title(\"Distribution of Matching Gale-Shapley\")\n",
        "plt.xlabel(\"Number of counts\")\n",
        "plt.ylabel(\"Relative Frequency\")\n",
        "plt.show\n",
        "\n",
        "print(\"El minimo numero de iteraciones es: {0}\".format(min(nc_to_win)))\n",
        "print(\"El promedio numero de iteraciones es: {0}\".format(int(np.mean(nc_to_win))))\n",
        "print(\"El máximo numero de iteraciones es: {0}\".format(max(nc_to_win)))"
      ],
      "execution_count": 88,
      "outputs": [
        {
          "output_type": "stream",
          "text": [
            "El minimo numero de iteraciones es: 9\n",
            "El promedio numero de iteraciones es: 37\n",
            "El máximo numero de iteraciones es: 113\n"
          ],
          "name": "stdout"
        },
        {
          "output_type": "display_data",
          "data": {
            "image/png": "[encoded data removed]",
            "text/plain": [
              "<Figure size 432x288 with 1 Axes>"
            ]
          },
          "metadata": {
            "tags": [],
            "needs_background": "light"
          }
        }
      ]
    },
    {
      "cell_type": "code",
      "metadata": {
        "id": "vES35IPbiXlH",
        "outputId": "ad15642e-c4e4-482b-df6e-8b893d5f6384",
        "colab": {
          "base_uri": "https://localhost:8080/",
          "height": 347
        }
      },
      "source": [
        "n = 100\n",
        "nc_to_win = []\n",
        "for i in range(n):\n",
        "\n",
        "    prefer = llenarLista(0,40,39,79)\n",
        "    nc_to_win.append(stableMarriageDis(prefer,40))\n",
        "\n",
        "plt.figure()\n",
        "plt.hist(nc_to_win, density=True, bins=13)\n",
        "plt.title(\"Distribution of Stable Marriage\")\n",
        "plt.xlabel(\"Number of counts\")\n",
        "plt.ylabel(\"Relative Frequency\")\n",
        "plt.show\n",
        "\n",
        "print(\"El minimo numero de iteraciones es: {0}\".format(min(nc_to_win)))\n",
        "print(\"El promedio numero de iteraciones es: {0}\".format(int(np.mean(nc_to_win))))\n",
        "print(\"El máximo numero de iteraciones es: {0}\".format(max(nc_to_win)))"
      ],
      "execution_count": 58,
      "outputs": [
        {
          "output_type": "stream",
          "text": [
            "El minimo numero de iteraciones es: 102\n",
            "El promedio numero de iteraciones es: 247\n",
            "El máximo numero de iteraciones es: 428\n"
          ],
          "name": "stdout"
        },
        {
          "output_type": "display_data",
          "data": {
            "image/png": "[encoded data removed]",
            "text/plain": [
              "<Figure size 432x288 with 1 Axes>"
            ]
          },
          "metadata": {
            "tags": [],
            "needs_background": "light"
          }
        }
      ]
    },
    {
      "cell_type": "code",
      "metadata": {
        "id": "90CNH4u8PjeV"
      },
      "source": [
        ""
      ],
      "execution_count": null,
      "outputs": []
    }
  ]
}
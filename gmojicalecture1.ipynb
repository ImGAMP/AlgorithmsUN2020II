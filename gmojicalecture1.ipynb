{
 "cells": [
  {
   "cell_type": "markdown",
   "metadata": {},
   "source": [
    "#Introduction to the Research Environment\n",
    "\n",
    "The research environment is powered by IPython notebooks, which allow one to perform a great deal of data analysis and statistical validation. We'll demonstrate a few simple techniques here."
   ]
  },
  {
   "cell_type": "markdown",
   "metadata": {},
   "source": [
    "##Code Cells vs. Text Cells\n",
    "\n",
    "As you can see, each cell can be either code or text. To select between them, choose from the 'Cell Type' dropdown menu on the top left."
   ]
  },
  {
   "cell_type": "markdown",
   "metadata": {},
   "source": [
    "##Executing a Command\n",
    "\n",
    "A code cell will be evaluated when you press play, or when you press the shortcut, shift-enter. Evaluating a cell evaluates each line of code in sequence, and prints the results of the last line below the cell."
   ]
  },
  {
   "cell_type": "code",
   "execution_count": null,
   "metadata": {},
   "outputs": [],
   "source": [
    "2 + 2"
   ]
  },
  {
   "cell_type": "code",
   "execution_count": 1,
   "metadata": {},
   "outputs": [
    {
     "data": {
      "text/plain": [
       "17"
      ]
     },
     "execution_count": 1,
     "metadata": {},
     "output_type": "execute_result"
    }
   ],
   "source": [
    "6 + 11"
   ]
  },
  {
   "cell_type": "markdown",
   "metadata": {},
   "source": [
    "Sometimes there is no result to be printed, as is the case with assignment."
   ]
  },
  {
   "cell_type": "code",
   "execution_count": null,
   "metadata": {
    "collapsed": true
   },
   "outputs": [],
   "source": [
    "X = 2"
   ]
  },
  {
   "cell_type": "code",
   "execution_count": 2,
   "metadata": {},
   "outputs": [],
   "source": [
    "G = 11"
   ]
  },
  {
   "cell_type": "markdown",
   "metadata": {},
   "source": [
    "Remember that only the result from the last line is printed."
   ]
  },
  {
   "cell_type": "code",
   "execution_count": null,
   "metadata": {},
   "outputs": [],
   "source": [
    "2 + 2\n",
    "3 + 3"
   ]
  },
  {
   "cell_type": "code",
   "execution_count": 3,
   "metadata": {},
   "outputs": [
    {
     "data": {
      "text/plain": [
       "12"
      ]
     },
     "execution_count": 3,
     "metadata": {},
     "output_type": "execute_result"
    }
   ],
   "source": [
    "5 + 11\n",
    "6 + 6 "
   ]
  },
  {
   "cell_type": "markdown",
   "metadata": {},
   "source": [
    "However, you can print whichever lines you want using the `print` statement."
   ]
  },
  {
   "cell_type": "code",
   "execution_count": null,
   "metadata": {},
   "outputs": [],
   "source": [
    "print 2 + 2\n",
    "3 + 3"
   ]
  },
  {
   "cell_type": "code",
   "execution_count": 4,
   "metadata": {},
   "outputs": [
    {
     "name": "stdout",
     "output_type": "stream",
     "text": [
      "16\n"
     ]
    },
    {
     "data": {
      "text/plain": [
       "12"
      ]
     },
     "execution_count": 4,
     "metadata": {},
     "output_type": "execute_result"
    }
   ],
   "source": [
    "print 5 + 11\n",
    "6 + 6 "
   ]
  },
  {
   "cell_type": "markdown",
   "metadata": {},
   "source": [
    "##Knowing When a Cell is Running\n",
    "\n",
    "While a cell is running, a `[*]` will display on the left. When a cell has yet to be executed, `[ ]` will display. When it has been run, a number will display indicating the order in which it was run during the execution of the notebook `[5]`. Try on this cell and note it happening."
   ]
  },
  {
   "cell_type": "code",
   "execution_count": null,
   "metadata": {},
   "outputs": [],
   "source": [
    "#Take some time to run something\n",
    "c = 0\n",
    "for i in range(10000000):\n",
    "    c = c + i\n",
    "c"
   ]
  },
  {
   "cell_type": "code",
   "execution_count": 5,
   "metadata": {},
   "outputs": [
    {
     "data": {
      "text/plain": [
       "4500001500001"
      ]
     },
     "execution_count": 5,
     "metadata": {},
     "output_type": "execute_result"
    }
   ],
   "source": [
    "a = 1\n",
    "for i in range(3000001):\n",
    "    a = a + i\n",
    "a"
   ]
  },
  {
   "cell_type": "markdown",
   "metadata": {},
   "source": [
    "##Importing Libraries\n",
    "\n",
    "The vast majority of the time, you'll want to use functions from pre-built libraries. You can't import every library on Quantopian due to security issues, but you can import most of the common scientific ones. Here I import numpy and pandas, the two most common and useful libraries in quant finance. I recommend copying this import statement to every new notebook.\n",
    "\n",
    "Notice that you can rename libraries to whatever you want after importing. The `as` statement allows this. Here we use `np` and `pd` as aliases for `numpy` and `pandas`. This is a very common aliasing and will be found in most code snippets around the web. The point behind this is to allow you to type fewer characters when you are frequently accessing these libraries."
   ]
  },
  {
   "cell_type": "code",
   "execution_count": 6,
   "metadata": {},
   "outputs": [],
   "source": [
    "import numpy as np\n",
    "import pandas as pd\n",
    "\n",
    "# This is a plotting library for pretty pictures.\n",
    "import matplotlib.pyplot as plt"
   ]
  },
  {
   "cell_type": "markdown",
   "metadata": {},
   "source": [
    "##Tab Autocomplete\n",
    "\n",
    "Pressing tab will give you a list of IPython's best guesses for what you might want to type next. This is incredibly valuable and will save you a lot of time. If there is only one possible option for what you could type next, IPython will fill that in for you. Try pressing tab very frequently, it will seldom fill in anything you don't want, as if there is ambiguity a list will be shown. This is a great way to see what functions are available in a library.\n",
    "\n",
    "Try placing your cursor after the `.` and pressing tab."
   ]
  },
  {
   "cell_type": "code",
   "execution_count": null,
   "metadata": {},
   "outputs": [],
   "source": [
    "np.random."
   ]
  },
  {
   "cell_type": "code",
   "execution_count": 7,
   "metadata": {},
   "outputs": [
    {
     "data": {
      "text/plain": [
       "<function RandomState.gamma>"
      ]
     },
     "execution_count": 7,
     "metadata": {},
     "output_type": "execute_result"
    }
   ],
   "source": [
    "np.random.gamma"
   ]
  },
  {
   "cell_type": "markdown",
   "metadata": {},
   "source": [
    "##Getting Documentation Help\n",
    "\n",
    "Placing a question mark after a function and executing that line of code will give you the documentation IPython has for that function. It's often best to do this in a new cell, as you avoid re-executing other code and running into bugs."
   ]
  },
  {
   "cell_type": "code",
   "execution_count": null,
   "metadata": {
    "collapsed": true
   },
   "outputs": [],
   "source": [
    "np.random.normal?"
   ]
  },
  {
   "cell_type": "code",
   "execution_count": 8,
   "metadata": {},
   "outputs": [
    {
     "ename": "TypeError",
     "evalue": "argument of type 'NoneType' is not iterable",
     "output_type": "error",
     "traceback": [
      "\u001b[0;31m---------------------------------------------------------------------------\u001b[0m",
      "\u001b[0;31mTypeError\u001b[0m                                 Traceback (most recent call last)",
      "\u001b[0;32m<ipython-input-8-98f129573dd3>\u001b[0m in \u001b[0;36m<module>\u001b[0;34m()\u001b[0m\n\u001b[0;32m----> 1\u001b[0;31m \u001b[0m__info\u001b[0m\u001b[0;34m(\u001b[0m\u001b[0;34m'np.random.laplace'\u001b[0m\u001b[0;34m)\u001b[0m\u001b[0;34m\u001b[0m\u001b[0m\n\u001b[0m",
      "\u001b[0;32m/build/src/extensions/extensions/main.py\u001b[0m in \u001b[0;36minfo\u001b[0;34m(arg)\u001b[0m\n\u001b[1;32m     88\u001b[0m     \u001b[0;32mif\u001b[0m \u001b[0;32mnot\u001b[0m \u001b[0misinstance\u001b[0m\u001b[0;34m(\u001b[0m\u001b[0marg\u001b[0m\u001b[0;34m,\u001b[0m \u001b[0mstring_types\u001b[0m\u001b[0;34m)\u001b[0m\u001b[0;34m:\u001b[0m\u001b[0;34m\u001b[0m\u001b[0m\n\u001b[1;32m     89\u001b[0m         \u001b[0;32mraise\u001b[0m \u001b[0mValueError\u001b[0m\u001b[0;34m(\u001b[0m\u001b[0;34m\"Must call info with a string.\"\u001b[0m\u001b[0;34m)\u001b[0m\u001b[0;34m\u001b[0m\u001b[0m\n\u001b[0;32m---> 90\u001b[0;31m     \u001b[0mget_ipython\u001b[0m\u001b[0;34m(\u001b[0m\u001b[0;34m)\u001b[0m\u001b[0;34m.\u001b[0m\u001b[0mrun_line_magic\u001b[0m\u001b[0;34m(\u001b[0m\u001b[0;34m'pinfo'\u001b[0m\u001b[0;34m,\u001b[0m \u001b[0marg\u001b[0m\u001b[0;34m)\u001b[0m\u001b[0;34m\u001b[0m\u001b[0m\n\u001b[0m\u001b[1;32m     91\u001b[0m \u001b[0;34m\u001b[0m\u001b[0m\n\u001b[1;32m     92\u001b[0m \u001b[0;34m\u001b[0m\u001b[0m\n",
      "\u001b[0;32m/venvs/py35/lib/python3.5/site-packages/IPython/core/interactiveshell.py\u001b[0m in \u001b[0;36mrun_line_magic\u001b[0;34m(self, magic_name, line)\u001b[0m\n\u001b[1;32m   2079\u001b[0m                 \u001b[0mkwargs\u001b[0m\u001b[0;34m[\u001b[0m\u001b[0;34m'local_ns'\u001b[0m\u001b[0;34m]\u001b[0m \u001b[0;34m=\u001b[0m \u001b[0msys\u001b[0m\u001b[0;34m.\u001b[0m\u001b[0m_getframe\u001b[0m\u001b[0;34m(\u001b[0m\u001b[0mstack_depth\u001b[0m\u001b[0;34m)\u001b[0m\u001b[0;34m.\u001b[0m\u001b[0mf_locals\u001b[0m\u001b[0;34m\u001b[0m\u001b[0m\n\u001b[1;32m   2080\u001b[0m             \u001b[0;32mwith\u001b[0m \u001b[0mself\u001b[0m\u001b[0;34m.\u001b[0m\u001b[0mbuiltin_trap\u001b[0m\u001b[0;34m:\u001b[0m\u001b[0;34m\u001b[0m\u001b[0m\n\u001b[0;32m-> 2081\u001b[0;31m                 \u001b[0mresult\u001b[0m \u001b[0;34m=\u001b[0m \u001b[0mfn\u001b[0m\u001b[0;34m(\u001b[0m\u001b[0;34m*\u001b[0m\u001b[0margs\u001b[0m\u001b[0;34m,\u001b[0m\u001b[0;34m**\u001b[0m\u001b[0mkwargs\u001b[0m\u001b[0;34m)\u001b[0m\u001b[0;34m\u001b[0m\u001b[0m\n\u001b[0m\u001b[1;32m   2082\u001b[0m             \u001b[0;32mreturn\u001b[0m \u001b[0mresult\u001b[0m\u001b[0;34m\u001b[0m\u001b[0m\n\u001b[1;32m   2083\u001b[0m \u001b[0;34m\u001b[0m\u001b[0m\n",
      "\u001b[0;32m/venvs/py35/lib/python3.5/site-packages/IPython/core/magics/namespace.py\u001b[0m in \u001b[0;36mpinfo\u001b[0;34m(self, parameter_s, namespaces)\u001b[0m\n",
      "\u001b[0;32m/venvs/py35/lib/python3.5/site-packages/IPython/core/magic.py\u001b[0m in \u001b[0;36m<lambda>\u001b[0;34m(f, *a, **k)\u001b[0m\n\u001b[1;32m    186\u001b[0m     \u001b[0;31m# but it's overkill for just that one bit of state.\u001b[0m\u001b[0;34m\u001b[0m\u001b[0;34m\u001b[0m\u001b[0m\n\u001b[1;32m    187\u001b[0m     \u001b[0;32mdef\u001b[0m \u001b[0mmagic_deco\u001b[0m\u001b[0;34m(\u001b[0m\u001b[0marg\u001b[0m\u001b[0;34m)\u001b[0m\u001b[0;34m:\u001b[0m\u001b[0;34m\u001b[0m\u001b[0m\n\u001b[0;32m--> 188\u001b[0;31m         \u001b[0mcall\u001b[0m \u001b[0;34m=\u001b[0m \u001b[0;32mlambda\u001b[0m \u001b[0mf\u001b[0m\u001b[0;34m,\u001b[0m \u001b[0;34m*\u001b[0m\u001b[0ma\u001b[0m\u001b[0;34m,\u001b[0m \u001b[0;34m**\u001b[0m\u001b[0mk\u001b[0m\u001b[0;34m:\u001b[0m \u001b[0mf\u001b[0m\u001b[0;34m(\u001b[0m\u001b[0;34m*\u001b[0m\u001b[0ma\u001b[0m\u001b[0;34m,\u001b[0m \u001b[0;34m**\u001b[0m\u001b[0mk\u001b[0m\u001b[0;34m)\u001b[0m\u001b[0;34m\u001b[0m\u001b[0m\n\u001b[0m\u001b[1;32m    189\u001b[0m \u001b[0;34m\u001b[0m\u001b[0m\n\u001b[1;32m    190\u001b[0m         \u001b[0;32mif\u001b[0m \u001b[0mcallable\u001b[0m\u001b[0;34m(\u001b[0m\u001b[0marg\u001b[0m\u001b[0;34m)\u001b[0m\u001b[0;34m:\u001b[0m\u001b[0;34m\u001b[0m\u001b[0m\n",
      "\u001b[0;32m/venvs/py35/lib/python3.5/site-packages/IPython/core/magics/namespace.py\u001b[0m in \u001b[0;36mpinfo\u001b[0;34m(self, parameter_s, namespaces)\u001b[0m\n\u001b[1;32m     59\u001b[0m         \u001b[0;32melse\u001b[0m\u001b[0;34m:\u001b[0m\u001b[0;34m\u001b[0m\u001b[0m\n\u001b[1;32m     60\u001b[0m             self.shell._inspect('pinfo', oname, detail_level=detail_level,\n\u001b[0;32m---> 61\u001b[0;31m                                 namespaces=namespaces)\n\u001b[0m\u001b[1;32m     62\u001b[0m \u001b[0;34m\u001b[0m\u001b[0m\n\u001b[1;32m     63\u001b[0m     \u001b[0;34m@\u001b[0m\u001b[0mline_magic\u001b[0m\u001b[0;34m\u001b[0m\u001b[0m\n",
      "\u001b[0;32m/venvs/py35/lib/python3.5/site-packages/IPython/core/interactiveshell.py\u001b[0m in \u001b[0;36m_inspect\u001b[0;34m(self, meth, oname, namespaces, **kw)\u001b[0m\n\u001b[1;32m   1534\u001b[0m             \u001b[0;32melif\u001b[0m \u001b[0mmeth\u001b[0m \u001b[0;34m==\u001b[0m \u001b[0;34m'pinfo'\u001b[0m\u001b[0;34m:\u001b[0m\u001b[0;34m\u001b[0m\u001b[0m\n\u001b[1;32m   1535\u001b[0m                 pmethod(info.obj, oname, formatter, info, \n\u001b[0;32m-> 1536\u001b[0;31m                         enable_html_pager=self.enable_html_pager, **kw)\n\u001b[0m\u001b[1;32m   1537\u001b[0m             \u001b[0;32melse\u001b[0m\u001b[0;34m:\u001b[0m\u001b[0;34m\u001b[0m\u001b[0m\n\u001b[1;32m   1538\u001b[0m                 \u001b[0mpmethod\u001b[0m\u001b[0;34m(\u001b[0m\u001b[0minfo\u001b[0m\u001b[0;34m.\u001b[0m\u001b[0mobj\u001b[0m\u001b[0;34m,\u001b[0m \u001b[0moname\u001b[0m\u001b[0;34m)\u001b[0m\u001b[0;34m\u001b[0m\u001b[0m\n",
      "\u001b[0;32m/venvs/py35/lib/python3.5/site-packages/IPython/core/oinspect.py\u001b[0m in \u001b[0;36mpinfo\u001b[0;34m(self, obj, oname, formatter, info, detail_level, enable_html_pager)\u001b[0m\n\u001b[1;32m    713\u001b[0m         \u001b[0;34m-\u001b[0m \u001b[0mdetail_level\u001b[0m\u001b[0;34m:\u001b[0m \u001b[0;32mif\u001b[0m \u001b[0mset\u001b[0m \u001b[0mto\u001b[0m \u001b[0;36m1\u001b[0m\u001b[0;34m,\u001b[0m \u001b[0mmore\u001b[0m \u001b[0minformation\u001b[0m \u001b[0;32mis\u001b[0m \u001b[0mgiven\u001b[0m\u001b[0;34m.\u001b[0m\u001b[0;34m\u001b[0m\u001b[0m\n\u001b[1;32m    714\u001b[0m         \"\"\"\n\u001b[0;32m--> 715\u001b[0;31m         \u001b[0minfo\u001b[0m \u001b[0;34m=\u001b[0m \u001b[0mself\u001b[0m\u001b[0;34m.\u001b[0m\u001b[0m_get_info\u001b[0m\u001b[0;34m(\u001b[0m\u001b[0mobj\u001b[0m\u001b[0;34m,\u001b[0m \u001b[0moname\u001b[0m\u001b[0;34m,\u001b[0m \u001b[0mformatter\u001b[0m\u001b[0;34m,\u001b[0m \u001b[0minfo\u001b[0m\u001b[0;34m,\u001b[0m \u001b[0mdetail_level\u001b[0m\u001b[0;34m)\u001b[0m\u001b[0;34m\u001b[0m\u001b[0m\n\u001b[0m\u001b[1;32m    716\u001b[0m         \u001b[0;32mif\u001b[0m \u001b[0;32mnot\u001b[0m \u001b[0menable_html_pager\u001b[0m\u001b[0;34m:\u001b[0m\u001b[0;34m\u001b[0m\u001b[0m\n\u001b[1;32m    717\u001b[0m             \u001b[0;32mdel\u001b[0m \u001b[0minfo\u001b[0m\u001b[0;34m[\u001b[0m\u001b[0;34m'text/html'\u001b[0m\u001b[0;34m]\u001b[0m\u001b[0;34m\u001b[0m\u001b[0m\n",
      "\u001b[0;32m/venvs/py35/lib/python3.5/site-packages/IPython/core/oinspect.py\u001b[0m in \u001b[0;36m_get_info\u001b[0;34m(self, obj, oname, formatter, info, detail_level)\u001b[0m\n\u001b[1;32m    614\u001b[0m         \u001b[0;34m\"\"\"Retrieve an info dict and format it.\"\"\"\u001b[0m\u001b[0;34m\u001b[0m\u001b[0m\n\u001b[1;32m    615\u001b[0m \u001b[0;34m\u001b[0m\u001b[0m\n\u001b[0;32m--> 616\u001b[0;31m         \u001b[0minfo\u001b[0m \u001b[0;34m=\u001b[0m \u001b[0mself\u001b[0m\u001b[0;34m.\u001b[0m\u001b[0m_info\u001b[0m\u001b[0;34m(\u001b[0m\u001b[0mobj\u001b[0m\u001b[0;34m,\u001b[0m \u001b[0moname\u001b[0m\u001b[0;34m=\u001b[0m\u001b[0moname\u001b[0m\u001b[0;34m,\u001b[0m \u001b[0minfo\u001b[0m\u001b[0;34m=\u001b[0m\u001b[0minfo\u001b[0m\u001b[0;34m,\u001b[0m \u001b[0mdetail_level\u001b[0m\u001b[0;34m=\u001b[0m\u001b[0mdetail_level\u001b[0m\u001b[0;34m)\u001b[0m\u001b[0;34m\u001b[0m\u001b[0m\n\u001b[0m\u001b[1;32m    617\u001b[0m \u001b[0;34m\u001b[0m\u001b[0m\n\u001b[1;32m    618\u001b[0m         _mime = {\n",
      "\u001b[0;32m/build/src/extensions/extensions/main.py\u001b[0m in \u001b[0;36m_info\u001b[0;34m(*args, **kwargs)\u001b[0m\n\u001b[1;32m    349\u001b[0m     \u001b[0;32mdef\u001b[0m \u001b[0m_info\u001b[0m\u001b[0;34m(\u001b[0m\u001b[0;34m*\u001b[0m\u001b[0margs\u001b[0m\u001b[0;34m,\u001b[0m \u001b[0;34m**\u001b[0m\u001b[0mkwargs\u001b[0m\u001b[0;34m)\u001b[0m\u001b[0;34m:\u001b[0m\u001b[0;34m\u001b[0m\u001b[0m\n\u001b[1;32m    350\u001b[0m         \u001b[0minfodict\u001b[0m \u001b[0;34m=\u001b[0m \u001b[0morig\u001b[0m\u001b[0;34m(\u001b[0m\u001b[0;34m*\u001b[0m\u001b[0margs\u001b[0m\u001b[0;34m,\u001b[0m \u001b[0;34m**\u001b[0m\u001b[0mkwargs\u001b[0m\u001b[0;34m)\u001b[0m\u001b[0;34m\u001b[0m\u001b[0m\n\u001b[0;32m--> 351\u001b[0;31m         \u001b[0;32mif\u001b[0m \u001b[0;34m'qexec'\u001b[0m \u001b[0;32min\u001b[0m \u001b[0minfodict\u001b[0m\u001b[0;34m.\u001b[0m\u001b[0mget\u001b[0m\u001b[0;34m(\u001b[0m\u001b[0;34m'file'\u001b[0m\u001b[0;34m)\u001b[0m\u001b[0;34m:\u001b[0m\u001b[0;34m\u001b[0m\u001b[0m\n\u001b[0m\u001b[1;32m    352\u001b[0m             \u001b[0minfodict\u001b[0m\u001b[0;34m[\u001b[0m\u001b[0;34m'file'\u001b[0m\u001b[0;34m]\u001b[0m \u001b[0;34m=\u001b[0m \u001b[0;34m'<quantopian>'\u001b[0m\u001b[0;34m\u001b[0m\u001b[0m\n\u001b[1;32m    353\u001b[0m         \u001b[0;32mreturn\u001b[0m \u001b[0minfodict\u001b[0m\u001b[0;34m\u001b[0m\u001b[0m\n",
      "\u001b[0;31mTypeError\u001b[0m: argument of type 'NoneType' is not iterable"
     ]
    }
   ],
   "source": [
    "np.random.laplace?"
   ]
  },
  {
   "cell_type": "markdown",
   "metadata": {},
   "source": [
    "##Sampling\n",
    "\n",
    "We'll sample some random data using a function from `numpy`."
   ]
  },
  {
   "cell_type": "code",
   "execution_count": null,
   "metadata": {},
   "outputs": [],
   "source": [
    "# Sample 100 points with a mean of 0 and an std of 1. This is a standard normal distribution.\n",
    "X = np.random.normal(0, 1, 100)"
   ]
  },
  {
   "cell_type": "code",
   "execution_count": 10,
   "metadata": {},
   "outputs": [
    {
     "name": "stdout",
     "output_type": "stream",
     "text": [
      "[1 0 1 ..., 1 2 1]\n"
     ]
    }
   ],
   "source": [
    "Y = np.random.binomial(9, 0.1, 20000)\n",
    "print Y "
   ]
  },
  {
   "cell_type": "markdown",
   "metadata": {},
   "source": [
    "##Plotting\n",
    "\n",
    "We can use the plotting library we imported as follows."
   ]
  },
  {
   "cell_type": "code",
   "execution_count": null,
   "metadata": {},
   "outputs": [],
   "source": [
    "plt.plot(X)"
   ]
  },
  {
   "cell_type": "code",
   "execution_count": 11,
   "metadata": {},
   "outputs": [
    {
     "data": {
      "text/plain": [
       "[<matplotlib.lines.Line2D at 0x7f31304bf4a8>]"
      ]
     },
     "execution_count": 11,
     "metadata": {},
     "output_type": "execute_result"
    },
    {
     "data": {
      "image/png": "[encoded data removed]",
      "text/plain": [
       "<Figure size 1008x576 with 1 Axes>"
      ]
     },
     "metadata": {},
     "output_type": "display_data"
    }
   ],
   "source": [
    "plt.plot(Y)"
   ]
  },
  {
   "cell_type": "markdown",
   "metadata": {},
   "source": [
    "###Squelching Line Output\n",
    "\n",
    "You might have noticed the annoying line of the form `[<matplotlib.lines.Line2D at 0x7f72fdbc1710>]` before the plots. This is because the `.plot` function actually produces output. Sometimes we wish not to display output, we can accomplish this with the semi-colon as follows."
   ]
  },
  {
   "cell_type": "code",
   "execution_count": null,
   "metadata": {},
   "outputs": [],
   "source": [
    "plt.plot(X);"
   ]
  },
  {
   "cell_type": "code",
   "execution_count": 12,
   "metadata": {},
   "outputs": [
    {
     "data": {
      "image/png": "[encoded data removed]",
      "text/plain": [
       "<Figure size 1008x576 with 1 Axes>"
      ]
     },
     "metadata": {},
     "output_type": "display_data"
    }
   ],
   "source": [
    "plt.plot(Y);"
   ]
  },
  {
   "cell_type": "markdown",
   "metadata": {},
   "source": [
    "###Adding Axis Labels\n",
    "\n",
    "No self-respecting quant leaves a graph without labeled axes. Here are some commands to help with that."
   ]
  },
  {
   "cell_type": "code",
   "execution_count": null,
   "metadata": {},
   "outputs": [],
   "source": [
    "X = np.random.normal(0, 1, 100)\n",
    "X2 = np.random.normal(0, 1, 100)\n",
    "\n",
    "plt.plot(X);\n",
    "plt.plot(X2);\n",
    "plt.xlabel('Time') # The data we generated is unitless, but don't forget units in general.\n",
    "plt.ylabel('Returns')\n",
    "plt.legend(['X', 'X2']);"
   ]
  },
  {
   "cell_type": "code",
   "execution_count": 13,
   "metadata": {},
   "outputs": [
    {
     "data": {
      "image/png": "[encoded data removed]",
      "text/plain": [
       "<Figure size 1008x576 with 1 Axes>"
      ]
     },
     "metadata": {},
     "output_type": "display_data"
    }
   ],
   "source": [
    "Y = np.random.binomial(9, 0.1, 20000)\n",
    "Y2 = np.random.binomial(9, 0.1, 20000)\n",
    "\n",
    "plt.plot(Y);\n",
    "plt.plot(Y2);\n",
    "plt.xlabel('Time') # The data we generated is unitless, but don't forget units in general.\n",
    "plt.ylabel('Returns')\n",
    "plt.legend(['Y', 'Y2']);"
   ]
  },
  {
   "cell_type": "markdown",
   "metadata": {},
   "source": [
    "##Generating Statistics\n",
    "\n",
    "Let's use `numpy` to take some simple statistics."
   ]
  },
  {
   "cell_type": "code",
   "execution_count": null,
   "metadata": {},
   "outputs": [],
   "source": [
    "np.mean(X)"
   ]
  },
  {
   "cell_type": "code",
   "execution_count": null,
   "metadata": {},
   "outputs": [],
   "source": [
    "np.std(X)"
   ]
  },
  {
   "cell_type": "code",
   "execution_count": 14,
   "metadata": {},
   "outputs": [
    {
     "data": {
      "text/plain": [
       "0.89754999999999996"
      ]
     },
     "execution_count": 14,
     "metadata": {},
     "output_type": "execute_result"
    }
   ],
   "source": [
    "np.mean(Y)"
   ]
  },
  {
   "cell_type": "code",
   "execution_count": 15,
   "metadata": {},
   "outputs": [
    {
     "data": {
      "text/plain": [
       "0.8989182373831337"
      ]
     },
     "execution_count": 15,
     "metadata": {},
     "output_type": "execute_result"
    }
   ],
   "source": [
    "np.std(Y)"
   ]
  },
  {
   "cell_type": "markdown",
   "metadata": {},
   "source": [
    "##Getting Real Pricing Data\n",
    "\n",
    "Randomly sampled data can be great for testing ideas, but let's get some real data. We can use `get_pricing` to do that. You can use the `?` syntax as discussed above to get more information on `get_pricing`'s arguments."
   ]
  },
  {
   "cell_type": "code",
   "execution_count": 22,
   "metadata": {},
   "outputs": [],
   "source": [
    "data = get_pricing('MSFT', start_date='2012-1-1', end_date='2015-6-1')"
   ]
  },
  {
   "cell_type": "code",
   "execution_count": 27,
   "metadata": {},
   "outputs": [],
   "source": [
    "deta = get_pricing('MSFT', start_date='2012-1-1', end_date='2014-6-1')"
   ]
  },
  {
   "cell_type": "markdown",
   "metadata": {},
   "source": [
    "Our data is now a dataframe. You can see the datetime index and the colums with different pricing data."
   ]
  },
  {
   "cell_type": "code",
   "execution_count": null,
   "metadata": {},
   "outputs": [],
   "source": [
    "data"
   ]
  },
  {
   "cell_type": "code",
   "execution_count": 28,
   "metadata": {},
   "outputs": [
    {
     "data": {
      "text/html": [
       "<div>\n",
       "<table border=\"1\" class=\"dataframe\">\n",
       "  <thead>\n",
       "    <tr style=\"text-align: right;\">\n",
       "      <th></th>\n",
       "      <th>open_price</th>\n",
       "      <th>high</th>\n",
       "      <th>low</th>\n",
       "      <th>close_price</th>\n",
       "      <th>volume</th>\n",
       "      <th>price</th>\n",
       "    </tr>\n",
       "  </thead>\n",
       "  <tbody>\n",
       "    <tr>\n",
       "      <th>2012-01-03 00:00:00+00:00</th>\n",
       "      <td>24.701</td>\n",
       "      <td>25.082</td>\n",
       "      <td>24.552</td>\n",
       "      <td>24.961</td>\n",
       "      <td>60891291.0</td>\n",
       "      <td>24.961</td>\n",
       "    </tr>\n",
       "    <tr>\n",
       "      <th>2012-01-04 00:00:00+00:00</th>\n",
       "      <td>24.951</td>\n",
       "      <td>25.557</td>\n",
       "      <td>24.915</td>\n",
       "      <td>25.482</td>\n",
       "      <td>76534029.0</td>\n",
       "      <td>25.482</td>\n",
       "    </tr>\n",
       "    <tr>\n",
       "      <th>2012-01-05 00:00:00+00:00</th>\n",
       "      <td>25.473</td>\n",
       "      <td>25.797</td>\n",
       "      <td>25.389</td>\n",
       "      <td>25.743</td>\n",
       "      <td>53479335.0</td>\n",
       "      <td>25.743</td>\n",
       "    </tr>\n",
       "    <tr>\n",
       "      <th>2012-01-06 00:00:00+00:00</th>\n",
       "      <td>25.613</td>\n",
       "      <td>26.227</td>\n",
       "      <td>25.608</td>\n",
       "      <td>26.161</td>\n",
       "      <td>91671771.0</td>\n",
       "      <td>26.161</td>\n",
       "    </tr>\n",
       "    <tr>\n",
       "      <th>2012-01-09 00:00:00+00:00</th>\n",
       "      <td>26.096</td>\n",
       "      <td>26.143</td>\n",
       "      <td>25.789</td>\n",
       "      <td>25.808</td>\n",
       "      <td>56352965.0</td>\n",
       "      <td>25.808</td>\n",
       "    </tr>\n",
       "    <tr>\n",
       "      <th>2012-01-10 00:00:00+00:00</th>\n",
       "      <td>25.985</td>\n",
       "      <td>26.189</td>\n",
       "      <td>25.817</td>\n",
       "      <td>25.901</td>\n",
       "      <td>54223945.0</td>\n",
       "      <td>25.901</td>\n",
       "    </tr>\n",
       "    <tr>\n",
       "      <th>2012-01-11 00:00:00+00:00</th>\n",
       "      <td>25.519</td>\n",
       "      <td>26.031</td>\n",
       "      <td>25.464</td>\n",
       "      <td>25.789</td>\n",
       "      <td>62855941.0</td>\n",
       "      <td>25.789</td>\n",
       "    </tr>\n",
       "    <tr>\n",
       "      <th>2012-01-12 00:00:00+00:00</th>\n",
       "      <td>25.929</td>\n",
       "      <td>26.068</td>\n",
       "      <td>25.719</td>\n",
       "      <td>26.050</td>\n",
       "      <td>46186121.0</td>\n",
       "      <td>26.050</td>\n",
       "    </tr>\n",
       "    <tr>\n",
       "      <th>2012-01-13 00:00:00+00:00</th>\n",
       "      <td>25.985</td>\n",
       "      <td>26.282</td>\n",
       "      <td>25.854</td>\n",
       "      <td>26.282</td>\n",
       "      <td>55326851.0</td>\n",
       "      <td>26.282</td>\n",
       "    </tr>\n",
       "    <tr>\n",
       "      <th>2012-01-17 00:00:00+00:00</th>\n",
       "      <td>26.422</td>\n",
       "      <td>26.654</td>\n",
       "      <td>26.208</td>\n",
       "      <td>26.292</td>\n",
       "      <td>66537766.0</td>\n",
       "      <td>26.292</td>\n",
       "    </tr>\n",
       "    <tr>\n",
       "      <th>2012-01-18 00:00:00+00:00</th>\n",
       "      <td>26.338</td>\n",
       "      <td>26.422</td>\n",
       "      <td>26.022</td>\n",
       "      <td>26.264</td>\n",
       "      <td>60912302.0</td>\n",
       "      <td>26.264</td>\n",
       "    </tr>\n",
       "    <tr>\n",
       "      <th>2012-01-19 00:00:00+00:00</th>\n",
       "      <td>26.199</td>\n",
       "      <td>26.454</td>\n",
       "      <td>26.078</td>\n",
       "      <td>26.171</td>\n",
       "      <td>66169544.0</td>\n",
       "      <td>26.171</td>\n",
       "    </tr>\n",
       "    <tr>\n",
       "      <th>2012-01-20 00:00:00+00:00</th>\n",
       "      <td>26.813</td>\n",
       "      <td>27.669</td>\n",
       "      <td>26.748</td>\n",
       "      <td>27.641</td>\n",
       "      <td>157989713.0</td>\n",
       "      <td>27.641</td>\n",
       "    </tr>\n",
       "    <tr>\n",
       "      <th>2012-01-23 00:00:00+00:00</th>\n",
       "      <td>27.492</td>\n",
       "      <td>27.864</td>\n",
       "      <td>27.306</td>\n",
       "      <td>27.659</td>\n",
       "      <td>70185739.0</td>\n",
       "      <td>27.659</td>\n",
       "    </tr>\n",
       "    <tr>\n",
       "      <th>2012-01-24 00:00:00+00:00</th>\n",
       "      <td>27.417</td>\n",
       "      <td>27.510</td>\n",
       "      <td>27.148</td>\n",
       "      <td>27.296</td>\n",
       "      <td>48606276.0</td>\n",
       "      <td>27.296</td>\n",
       "    </tr>\n",
       "    <tr>\n",
       "      <th>2012-01-25 00:00:00+00:00</th>\n",
       "      <td>27.045</td>\n",
       "      <td>27.585</td>\n",
       "      <td>27.045</td>\n",
       "      <td>27.510</td>\n",
       "      <td>55871304.0</td>\n",
       "      <td>27.510</td>\n",
       "    </tr>\n",
       "    <tr>\n",
       "      <th>2012-01-26 00:00:00+00:00</th>\n",
       "      <td>27.548</td>\n",
       "      <td>27.631</td>\n",
       "      <td>27.352</td>\n",
       "      <td>27.455</td>\n",
       "      <td>46229333.0</td>\n",
       "      <td>27.455</td>\n",
       "    </tr>\n",
       "    <tr>\n",
       "      <th>2012-01-27 00:00:00+00:00</th>\n",
       "      <td>27.399</td>\n",
       "      <td>27.473</td>\n",
       "      <td>27.138</td>\n",
       "      <td>27.185</td>\n",
       "      <td>41452599.0</td>\n",
       "      <td>27.185</td>\n",
       "    </tr>\n",
       "    <tr>\n",
       "      <th>2012-01-30 00:00:00+00:00</th>\n",
       "      <td>26.952</td>\n",
       "      <td>27.557</td>\n",
       "      <td>26.822</td>\n",
       "      <td>27.548</td>\n",
       "      <td>46520829.0</td>\n",
       "      <td>27.548</td>\n",
       "    </tr>\n",
       "    <tr>\n",
       "      <th>2012-01-31 00:00:00+00:00</th>\n",
       "      <td>27.594</td>\n",
       "      <td>27.631</td>\n",
       "      <td>27.194</td>\n",
       "      <td>27.483</td>\n",
       "      <td>40812893.0</td>\n",
       "      <td>27.483</td>\n",
       "    </tr>\n",
       "    <tr>\n",
       "      <th>2012-02-01 00:00:00+00:00</th>\n",
       "      <td>27.715</td>\n",
       "      <td>27.957</td>\n",
       "      <td>27.687</td>\n",
       "      <td>27.808</td>\n",
       "      <td>64067228.0</td>\n",
       "      <td>27.808</td>\n",
       "    </tr>\n",
       "    <tr>\n",
       "      <th>2012-02-02 00:00:00+00:00</th>\n",
       "      <td>27.817</td>\n",
       "      <td>28.069</td>\n",
       "      <td>27.641</td>\n",
       "      <td>27.859</td>\n",
       "      <td>49959760.0</td>\n",
       "      <td>27.859</td>\n",
       "    </tr>\n",
       "    <tr>\n",
       "      <th>2012-02-03 00:00:00+00:00</th>\n",
       "      <td>28.041</td>\n",
       "      <td>28.283</td>\n",
       "      <td>27.994</td>\n",
       "      <td>28.115</td>\n",
       "      <td>38728694.0</td>\n",
       "      <td>28.115</td>\n",
       "    </tr>\n",
       "    <tr>\n",
       "      <th>2012-02-06 00:00:00+00:00</th>\n",
       "      <td>27.948</td>\n",
       "      <td>28.115</td>\n",
       "      <td>27.883</td>\n",
       "      <td>28.097</td>\n",
       "      <td>26067704.0</td>\n",
       "      <td>28.097</td>\n",
       "    </tr>\n",
       "    <tr>\n",
       "      <th>2012-02-07 00:00:00+00:00</th>\n",
       "      <td>28.050</td>\n",
       "      <td>28.362</td>\n",
       "      <td>27.957</td>\n",
       "      <td>28.245</td>\n",
       "      <td>36751791.0</td>\n",
       "      <td>28.245</td>\n",
       "    </tr>\n",
       "    <tr>\n",
       "      <th>2012-02-08 00:00:00+00:00</th>\n",
       "      <td>28.152</td>\n",
       "      <td>28.534</td>\n",
       "      <td>28.115</td>\n",
       "      <td>28.524</td>\n",
       "      <td>47382414.0</td>\n",
       "      <td>28.524</td>\n",
       "    </tr>\n",
       "    <tr>\n",
       "      <th>2012-02-09 00:00:00+00:00</th>\n",
       "      <td>28.543</td>\n",
       "      <td>28.655</td>\n",
       "      <td>28.357</td>\n",
       "      <td>28.627</td>\n",
       "      <td>45580004.0</td>\n",
       "      <td>28.627</td>\n",
       "    </tr>\n",
       "    <tr>\n",
       "      <th>2012-02-10 00:00:00+00:00</th>\n",
       "      <td>28.506</td>\n",
       "      <td>28.655</td>\n",
       "      <td>28.245</td>\n",
       "      <td>28.352</td>\n",
       "      <td>38526519.0</td>\n",
       "      <td>28.352</td>\n",
       "    </tr>\n",
       "    <tr>\n",
       "      <th>2012-02-13 00:00:00+00:00</th>\n",
       "      <td>28.497</td>\n",
       "      <td>28.627</td>\n",
       "      <td>28.311</td>\n",
       "      <td>28.431</td>\n",
       "      <td>31447419.0</td>\n",
       "      <td>28.431</td>\n",
       "    </tr>\n",
       "    <tr>\n",
       "      <th>2012-02-14 00:00:00+00:00</th>\n",
       "      <td>28.403</td>\n",
       "      <td>28.525</td>\n",
       "      <td>27.954</td>\n",
       "      <td>28.328</td>\n",
       "      <td>50770567.0</td>\n",
       "      <td>28.328</td>\n",
       "    </tr>\n",
       "    <tr>\n",
       "      <th>...</th>\n",
       "      <td>...</td>\n",
       "      <td>...</td>\n",
       "      <td>...</td>\n",
       "      <td>...</td>\n",
       "      <td>...</td>\n",
       "      <td>...</td>\n",
       "    </tr>\n",
       "    <tr>\n",
       "      <th>2014-04-17 00:00:00+00:00</th>\n",
       "      <td>39.730</td>\n",
       "      <td>39.913</td>\n",
       "      <td>39.233</td>\n",
       "      <td>39.730</td>\n",
       "      <td>30337192.0</td>\n",
       "      <td>39.730</td>\n",
       "    </tr>\n",
       "    <tr>\n",
       "      <th>2014-04-21 00:00:00+00:00</th>\n",
       "      <td>39.849</td>\n",
       "      <td>39.869</td>\n",
       "      <td>39.511</td>\n",
       "      <td>39.640</td>\n",
       "      <td>19367484.0</td>\n",
       "      <td>39.640</td>\n",
       "    </tr>\n",
       "    <tr>\n",
       "      <th>2014-04-22 00:00:00+00:00</th>\n",
       "      <td>39.680</td>\n",
       "      <td>39.859</td>\n",
       "      <td>39.551</td>\n",
       "      <td>39.700</td>\n",
       "      <td>20069220.0</td>\n",
       "      <td>39.700</td>\n",
       "    </tr>\n",
       "    <tr>\n",
       "      <th>2014-04-23 00:00:00+00:00</th>\n",
       "      <td>39.710</td>\n",
       "      <td>39.710</td>\n",
       "      <td>39.193</td>\n",
       "      <td>39.402</td>\n",
       "      <td>20535372.0</td>\n",
       "      <td>39.402</td>\n",
       "    </tr>\n",
       "    <tr>\n",
       "      <th>2014-04-24 00:00:00+00:00</th>\n",
       "      <td>39.462</td>\n",
       "      <td>39.690</td>\n",
       "      <td>39.025</td>\n",
       "      <td>39.571</td>\n",
       "      <td>34647051.0</td>\n",
       "      <td>39.571</td>\n",
       "    </tr>\n",
       "    <tr>\n",
       "      <th>2014-04-25 00:00:00+00:00</th>\n",
       "      <td>40.008</td>\n",
       "      <td>40.395</td>\n",
       "      <td>39.471</td>\n",
       "      <td>39.630</td>\n",
       "      <td>51340367.0</td>\n",
       "      <td>39.630</td>\n",
       "    </tr>\n",
       "    <tr>\n",
       "      <th>2014-04-28 00:00:00+00:00</th>\n",
       "      <td>39.859</td>\n",
       "      <td>41.001</td>\n",
       "      <td>39.809</td>\n",
       "      <td>40.574</td>\n",
       "      <td>46924571.0</td>\n",
       "      <td>40.574</td>\n",
       "    </tr>\n",
       "    <tr>\n",
       "      <th>2014-04-29 00:00:00+00:00</th>\n",
       "      <td>40.812</td>\n",
       "      <td>40.901</td>\n",
       "      <td>40.107</td>\n",
       "      <td>40.216</td>\n",
       "      <td>26826926.0</td>\n",
       "      <td>40.216</td>\n",
       "    </tr>\n",
       "    <tr>\n",
       "      <th>2014-04-30 00:00:00+00:00</th>\n",
       "      <td>40.117</td>\n",
       "      <td>40.216</td>\n",
       "      <td>39.889</td>\n",
       "      <td>40.117</td>\n",
       "      <td>29083628.0</td>\n",
       "      <td>40.117</td>\n",
       "    </tr>\n",
       "    <tr>\n",
       "      <th>2014-05-01 00:00:00+00:00</th>\n",
       "      <td>39.958</td>\n",
       "      <td>40.077</td>\n",
       "      <td>39.670</td>\n",
       "      <td>39.710</td>\n",
       "      <td>26558628.0</td>\n",
       "      <td>39.710</td>\n",
       "    </tr>\n",
       "    <tr>\n",
       "      <th>2014-05-02 00:00:00+00:00</th>\n",
       "      <td>40.028</td>\n",
       "      <td>40.057</td>\n",
       "      <td>39.382</td>\n",
       "      <td>39.412</td>\n",
       "      <td>40683911.0</td>\n",
       "      <td>39.412</td>\n",
       "    </tr>\n",
       "    <tr>\n",
       "      <th>2014-05-05 00:00:00+00:00</th>\n",
       "      <td>39.243</td>\n",
       "      <td>39.362</td>\n",
       "      <td>39.025</td>\n",
       "      <td>39.154</td>\n",
       "      <td>19852459.0</td>\n",
       "      <td>39.154</td>\n",
       "    </tr>\n",
       "    <tr>\n",
       "      <th>2014-05-06 00:00:00+00:00</th>\n",
       "      <td>39.015</td>\n",
       "      <td>39.074</td>\n",
       "      <td>38.677</td>\n",
       "      <td>38.786</td>\n",
       "      <td>23295386.0</td>\n",
       "      <td>38.786</td>\n",
       "    </tr>\n",
       "    <tr>\n",
       "      <th>2014-05-07 00:00:00+00:00</th>\n",
       "      <td>38.945</td>\n",
       "      <td>39.233</td>\n",
       "      <td>38.240</td>\n",
       "      <td>39.124</td>\n",
       "      <td>37985966.0</td>\n",
       "      <td>39.124</td>\n",
       "    </tr>\n",
       "    <tr>\n",
       "      <th>2014-05-08 00:00:00+00:00</th>\n",
       "      <td>39.064</td>\n",
       "      <td>39.620</td>\n",
       "      <td>38.697</td>\n",
       "      <td>39.362</td>\n",
       "      <td>25911866.0</td>\n",
       "      <td>39.362</td>\n",
       "    </tr>\n",
       "    <tr>\n",
       "      <th>2014-05-09 00:00:00+00:00</th>\n",
       "      <td>39.263</td>\n",
       "      <td>39.571</td>\n",
       "      <td>39.094</td>\n",
       "      <td>39.263</td>\n",
       "      <td>26564033.0</td>\n",
       "      <td>39.263</td>\n",
       "    </tr>\n",
       "    <tr>\n",
       "      <th>2014-05-12 00:00:00+00:00</th>\n",
       "      <td>39.462</td>\n",
       "      <td>39.740</td>\n",
       "      <td>39.372</td>\n",
       "      <td>39.680</td>\n",
       "      <td>18390945.0</td>\n",
       "      <td>39.680</td>\n",
       "    </tr>\n",
       "    <tr>\n",
       "      <th>2014-05-13 00:00:00+00:00</th>\n",
       "      <td>39.920</td>\n",
       "      <td>40.500</td>\n",
       "      <td>39.850</td>\n",
       "      <td>40.420</td>\n",
       "      <td>24441969.0</td>\n",
       "      <td>40.420</td>\n",
       "    </tr>\n",
       "    <tr>\n",
       "      <th>2014-05-14 00:00:00+00:00</th>\n",
       "      <td>40.300</td>\n",
       "      <td>40.450</td>\n",
       "      <td>40.050</td>\n",
       "      <td>40.240</td>\n",
       "      <td>16468392.0</td>\n",
       "      <td>40.240</td>\n",
       "    </tr>\n",
       "    <tr>\n",
       "      <th>2014-05-15 00:00:00+00:00</th>\n",
       "      <td>40.090</td>\n",
       "      <td>40.400</td>\n",
       "      <td>39.510</td>\n",
       "      <td>39.610</td>\n",
       "      <td>34638064.0</td>\n",
       "      <td>39.610</td>\n",
       "    </tr>\n",
       "    <tr>\n",
       "      <th>2014-05-16 00:00:00+00:00</th>\n",
       "      <td>39.670</td>\n",
       "      <td>39.840</td>\n",
       "      <td>39.270</td>\n",
       "      <td>39.820</td>\n",
       "      <td>25445864.0</td>\n",
       "      <td>39.820</td>\n",
       "    </tr>\n",
       "    <tr>\n",
       "      <th>2014-05-19 00:00:00+00:00</th>\n",
       "      <td>39.610</td>\n",
       "      <td>39.820</td>\n",
       "      <td>39.460</td>\n",
       "      <td>39.740</td>\n",
       "      <td>17083622.0</td>\n",
       "      <td>39.740</td>\n",
       "    </tr>\n",
       "    <tr>\n",
       "      <th>2014-05-20 00:00:00+00:00</th>\n",
       "      <td>39.680</td>\n",
       "      <td>39.940</td>\n",
       "      <td>39.460</td>\n",
       "      <td>39.690</td>\n",
       "      <td>18379015.0</td>\n",
       "      <td>39.690</td>\n",
       "    </tr>\n",
       "    <tr>\n",
       "      <th>2014-05-21 00:00:00+00:00</th>\n",
       "      <td>39.800</td>\n",
       "      <td>40.350</td>\n",
       "      <td>39.740</td>\n",
       "      <td>40.350</td>\n",
       "      <td>19251297.0</td>\n",
       "      <td>40.350</td>\n",
       "    </tr>\n",
       "    <tr>\n",
       "      <th>2014-05-22 00:00:00+00:00</th>\n",
       "      <td>40.290</td>\n",
       "      <td>40.350</td>\n",
       "      <td>39.850</td>\n",
       "      <td>40.105</td>\n",
       "      <td>17750381.0</td>\n",
       "      <td>40.105</td>\n",
       "    </tr>\n",
       "    <tr>\n",
       "      <th>2014-05-23 00:00:00+00:00</th>\n",
       "      <td>40.370</td>\n",
       "      <td>40.370</td>\n",
       "      <td>40.000</td>\n",
       "      <td>40.120</td>\n",
       "      <td>15037442.0</td>\n",
       "      <td>40.120</td>\n",
       "    </tr>\n",
       "    <tr>\n",
       "      <th>2014-05-27 00:00:00+00:00</th>\n",
       "      <td>40.260</td>\n",
       "      <td>40.260</td>\n",
       "      <td>39.810</td>\n",
       "      <td>40.190</td>\n",
       "      <td>20000457.0</td>\n",
       "      <td>40.190</td>\n",
       "    </tr>\n",
       "    <tr>\n",
       "      <th>2014-05-28 00:00:00+00:00</th>\n",
       "      <td>40.140</td>\n",
       "      <td>40.190</td>\n",
       "      <td>39.820</td>\n",
       "      <td>40.000</td>\n",
       "      <td>20631863.0</td>\n",
       "      <td>40.000</td>\n",
       "    </tr>\n",
       "    <tr>\n",
       "      <th>2014-05-29 00:00:00+00:00</th>\n",
       "      <td>40.150</td>\n",
       "      <td>40.350</td>\n",
       "      <td>39.910</td>\n",
       "      <td>40.340</td>\n",
       "      <td>17793034.0</td>\n",
       "      <td>40.340</td>\n",
       "    </tr>\n",
       "    <tr>\n",
       "      <th>2014-05-30 00:00:00+00:00</th>\n",
       "      <td>40.450</td>\n",
       "      <td>40.970</td>\n",
       "      <td>40.250</td>\n",
       "      <td>40.930</td>\n",
       "      <td>27215584.0</td>\n",
       "      <td>40.930</td>\n",
       "    </tr>\n",
       "  </tbody>\n",
       "</table>\n",
       "<p>605 rows × 6 columns</p>\n",
       "</div>"
      ],
      "text/plain": [
       "                           open_price    high     low  close_price  \\\n",
       "2012-01-03 00:00:00+00:00      24.701  25.082  24.552       24.961   \n",
       "2012-01-04 00:00:00+00:00      24.951  25.557  24.915       25.482   \n",
       "2012-01-05 00:00:00+00:00      25.473  25.797  25.389       25.743   \n",
       "2012-01-06 00:00:00+00:00      25.613  26.227  25.608       26.161   \n",
       "2012-01-09 00:00:00+00:00      26.096  26.143  25.789       25.808   \n",
       "2012-01-10 00:00:00+00:00      25.985  26.189  25.817       25.901   \n",
       "2012-01-11 00:00:00+00:00      25.519  26.031  25.464       25.789   \n",
       "2012-01-12 00:00:00+00:00      25.929  26.068  25.719       26.050   \n",
       "2012-01-13 00:00:00+00:00      25.985  26.282  25.854       26.282   \n",
       "2012-01-17 00:00:00+00:00      26.422  26.654  26.208       26.292   \n",
       "2012-01-18 00:00:00+00:00      26.338  26.422  26.022       26.264   \n",
       "2012-01-19 00:00:00+00:00      26.199  26.454  26.078       26.171   \n",
       "2012-01-20 00:00:00+00:00      26.813  27.669  26.748       27.641   \n",
       "2012-01-23 00:00:00+00:00      27.492  27.864  27.306       27.659   \n",
       "2012-01-24 00:00:00+00:00      27.417  27.510  27.148       27.296   \n",
       "2012-01-25 00:00:00+00:00      27.045  27.585  27.045       27.510   \n",
       "2012-01-26 00:00:00+00:00      27.548  27.631  27.352       27.455   \n",
       "2012-01-27 00:00:00+00:00      27.399  27.473  27.138       27.185   \n",
       "2012-01-30 00:00:00+00:00      26.952  27.557  26.822       27.548   \n",
       "2012-01-31 00:00:00+00:00      27.594  27.631  27.194       27.483   \n",
       "2012-02-01 00:00:00+00:00      27.715  27.957  27.687       27.808   \n",
       "2012-02-02 00:00:00+00:00      27.817  28.069  27.641       27.859   \n",
       "2012-02-03 00:00:00+00:00      28.041  28.283  27.994       28.115   \n",
       "2012-02-06 00:00:00+00:00      27.948  28.115  27.883       28.097   \n",
       "2012-02-07 00:00:00+00:00      28.050  28.362  27.957       28.245   \n",
       "2012-02-08 00:00:00+00:00      28.152  28.534  28.115       28.524   \n",
       "2012-02-09 00:00:00+00:00      28.543  28.655  28.357       28.627   \n",
       "2012-02-10 00:00:00+00:00      28.506  28.655  28.245       28.352   \n",
       "2012-02-13 00:00:00+00:00      28.497  28.627  28.311       28.431   \n",
       "2012-02-14 00:00:00+00:00      28.403  28.525  27.954       28.328   \n",
       "...                               ...     ...     ...          ...   \n",
       "2014-04-17 00:00:00+00:00      39.730  39.913  39.233       39.730   \n",
       "2014-04-21 00:00:00+00:00      39.849  39.869  39.511       39.640   \n",
       "2014-04-22 00:00:00+00:00      39.680  39.859  39.551       39.700   \n",
       "2014-04-23 00:00:00+00:00      39.710  39.710  39.193       39.402   \n",
       "2014-04-24 00:00:00+00:00      39.462  39.690  39.025       39.571   \n",
       "2014-04-25 00:00:00+00:00      40.008  40.395  39.471       39.630   \n",
       "2014-04-28 00:00:00+00:00      39.859  41.001  39.809       40.574   \n",
       "2014-04-29 00:00:00+00:00      40.812  40.901  40.107       40.216   \n",
       "2014-04-30 00:00:00+00:00      40.117  40.216  39.889       40.117   \n",
       "2014-05-01 00:00:00+00:00      39.958  40.077  39.670       39.710   \n",
       "2014-05-02 00:00:00+00:00      40.028  40.057  39.382       39.412   \n",
       "2014-05-05 00:00:00+00:00      39.243  39.362  39.025       39.154   \n",
       "2014-05-06 00:00:00+00:00      39.015  39.074  38.677       38.786   \n",
       "2014-05-07 00:00:00+00:00      38.945  39.233  38.240       39.124   \n",
       "2014-05-08 00:00:00+00:00      39.064  39.620  38.697       39.362   \n",
       "2014-05-09 00:00:00+00:00      39.263  39.571  39.094       39.263   \n",
       "2014-05-12 00:00:00+00:00      39.462  39.740  39.372       39.680   \n",
       "2014-05-13 00:00:00+00:00      39.920  40.500  39.850       40.420   \n",
       "2014-05-14 00:00:00+00:00      40.300  40.450  40.050       40.240   \n",
       "2014-05-15 00:00:00+00:00      40.090  40.400  39.510       39.610   \n",
       "2014-05-16 00:00:00+00:00      39.670  39.840  39.270       39.820   \n",
       "2014-05-19 00:00:00+00:00      39.610  39.820  39.460       39.740   \n",
       "2014-05-20 00:00:00+00:00      39.680  39.940  39.460       39.690   \n",
       "2014-05-21 00:00:00+00:00      39.800  40.350  39.740       40.350   \n",
       "2014-05-22 00:00:00+00:00      40.290  40.350  39.850       40.105   \n",
       "2014-05-23 00:00:00+00:00      40.370  40.370  40.000       40.120   \n",
       "2014-05-27 00:00:00+00:00      40.260  40.260  39.810       40.190   \n",
       "2014-05-28 00:00:00+00:00      40.140  40.190  39.820       40.000   \n",
       "2014-05-29 00:00:00+00:00      40.150  40.350  39.910       40.340   \n",
       "2014-05-30 00:00:00+00:00      40.450  40.970  40.250       40.930   \n",
       "\n",
       "                                volume   price  \n",
       "2012-01-03 00:00:00+00:00   60891291.0  24.961  \n",
       "2012-01-04 00:00:00+00:00   76534029.0  25.482  \n",
       "2012-01-05 00:00:00+00:00   53479335.0  25.743  \n",
       "2012-01-06 00:00:00+00:00   91671771.0  26.161  \n",
       "2012-01-09 00:00:00+00:00   56352965.0  25.808  \n",
       "2012-01-10 00:00:00+00:00   54223945.0  25.901  \n",
       "2012-01-11 00:00:00+00:00   62855941.0  25.789  \n",
       "2012-01-12 00:00:00+00:00   46186121.0  26.050  \n",
       "2012-01-13 00:00:00+00:00   55326851.0  26.282  \n",
       "2012-01-17 00:00:00+00:00   66537766.0  26.292  \n",
       "2012-01-18 00:00:00+00:00   60912302.0  26.264  \n",
       "2012-01-19 00:00:00+00:00   66169544.0  26.171  \n",
       "2012-01-20 00:00:00+00:00  157989713.0  27.641  \n",
       "2012-01-23 00:00:00+00:00   70185739.0  27.659  \n",
       "2012-01-24 00:00:00+00:00   48606276.0  27.296  \n",
       "2012-01-25 00:00:00+00:00   55871304.0  27.510  \n",
       "2012-01-26 00:00:00+00:00   46229333.0  27.455  \n",
       "2012-01-27 00:00:00+00:00   41452599.0  27.185  \n",
       "2012-01-30 00:00:00+00:00   46520829.0  27.548  \n",
       "2012-01-31 00:00:00+00:00   40812893.0  27.483  \n",
       "2012-02-01 00:00:00+00:00   64067228.0  27.808  \n",
       "2012-02-02 00:00:00+00:00   49959760.0  27.859  \n",
       "2012-02-03 00:00:00+00:00   38728694.0  28.115  \n",
       "2012-02-06 00:00:00+00:00   26067704.0  28.097  \n",
       "2012-02-07 00:00:00+00:00   36751791.0  28.245  \n",
       "2012-02-08 00:00:00+00:00   47382414.0  28.524  \n",
       "2012-02-09 00:00:00+00:00   45580004.0  28.627  \n",
       "2012-02-10 00:00:00+00:00   38526519.0  28.352  \n",
       "2012-02-13 00:00:00+00:00   31447419.0  28.431  \n",
       "2012-02-14 00:00:00+00:00   50770567.0  28.328  \n",
       "...                                ...     ...  \n",
       "2014-04-17 00:00:00+00:00   30337192.0  39.730  \n",
       "2014-04-21 00:00:00+00:00   19367484.0  39.640  \n",
       "2014-04-22 00:00:00+00:00   20069220.0  39.700  \n",
       "2014-04-23 00:00:00+00:00   20535372.0  39.402  \n",
       "2014-04-24 00:00:00+00:00   34647051.0  39.571  \n",
       "2014-04-25 00:00:00+00:00   51340367.0  39.630  \n",
       "2014-04-28 00:00:00+00:00   46924571.0  40.574  \n",
       "2014-04-29 00:00:00+00:00   26826926.0  40.216  \n",
       "2014-04-30 00:00:00+00:00   29083628.0  40.117  \n",
       "2014-05-01 00:00:00+00:00   26558628.0  39.710  \n",
       "2014-05-02 00:00:00+00:00   40683911.0  39.412  \n",
       "2014-05-05 00:00:00+00:00   19852459.0  39.154  \n",
       "2014-05-06 00:00:00+00:00   23295386.0  38.786  \n",
       "2014-05-07 00:00:00+00:00   37985966.0  39.124  \n",
       "2014-05-08 00:00:00+00:00   25911866.0  39.362  \n",
       "2014-05-09 00:00:00+00:00   26564033.0  39.263  \n",
       "2014-05-12 00:00:00+00:00   18390945.0  39.680  \n",
       "2014-05-13 00:00:00+00:00   24441969.0  40.420  \n",
       "2014-05-14 00:00:00+00:00   16468392.0  40.240  \n",
       "2014-05-15 00:00:00+00:00   34638064.0  39.610  \n",
       "2014-05-16 00:00:00+00:00   25445864.0  39.820  \n",
       "2014-05-19 00:00:00+00:00   17083622.0  39.740  \n",
       "2014-05-20 00:00:00+00:00   18379015.0  39.690  \n",
       "2014-05-21 00:00:00+00:00   19251297.0  40.350  \n",
       "2014-05-22 00:00:00+00:00   17750381.0  40.105  \n",
       "2014-05-23 00:00:00+00:00   15037442.0  40.120  \n",
       "2014-05-27 00:00:00+00:00   20000457.0  40.190  \n",
       "2014-05-28 00:00:00+00:00   20631863.0  40.000  \n",
       "2014-05-29 00:00:00+00:00   17793034.0  40.340  \n",
       "2014-05-30 00:00:00+00:00   27215584.0  40.930  \n",
       "\n",
       "[605 rows x 6 columns]"
      ]
     },
     "execution_count": 28,
     "metadata": {},
     "output_type": "execute_result"
    }
   ],
   "source": [
    "deta"
   ]
  },
  {
   "cell_type": "markdown",
   "metadata": {},
   "source": [
    "This is a pandas dataframe, so we can index in to just get price like this. For more info on pandas, please [click here](http://pandas.pydata.org/pandas-docs/stable/10min.html)."
   ]
  },
  {
   "cell_type": "code",
   "execution_count": null,
   "metadata": {},
   "outputs": [],
   "source": [
    "X = data['price']"
   ]
  },
  {
   "cell_type": "code",
   "execution_count": 29,
   "metadata": {},
   "outputs": [],
   "source": [
    "Y = deta['price']"
   ]
  },
  {
   "cell_type": "markdown",
   "metadata": {},
   "source": [
    "Because there is now also date information in our data, we provide two series to `.plot`. `X.index` gives us the datetime index, and `X.values` gives us the pricing values. These are used as the X and Y coordinates to make a graph."
   ]
  },
  {
   "cell_type": "code",
   "execution_count": null,
   "metadata": {},
   "outputs": [],
   "source": [
    "plt.plot(X.index, X.values)\n",
    "plt.ylabel('Price')\n",
    "plt.legend(['MSFT']);"
   ]
  },
  {
   "cell_type": "code",
   "execution_count": 30,
   "metadata": {},
   "outputs": [
    {
     "data": {
      "image/png": "[encoded data removed]",
      "text/plain": [
       "<Figure size 1008x576 with 1 Axes>"
      ]
     },
     "metadata": {},
     "output_type": "display_data"
    }
   ],
   "source": [
    "plt.plot(Y.index, Y.values)\n",
    "plt.ylabel('Price')\n",
    "plt.legend(['MSFT']);"
   ]
  },
  {
   "cell_type": "markdown",
   "metadata": {},
   "source": [
    "We can get statistics again on real data."
   ]
  },
  {
   "cell_type": "code",
   "execution_count": null,
   "metadata": {},
   "outputs": [],
   "source": [
    "np.mean(X)"
   ]
  },
  {
   "cell_type": "code",
   "execution_count": null,
   "metadata": {},
   "outputs": [],
   "source": [
    "np.std(X)"
   ]
  },
  {
   "cell_type": "code",
   "execution_count": 31,
   "metadata": {},
   "outputs": [
    {
     "data": {
      "text/plain": [
       "31.284692561983462"
      ]
     },
     "execution_count": 31,
     "metadata": {},
     "output_type": "execute_result"
    }
   ],
   "source": [
    "np.mean(Y)"
   ]
  },
  {
   "cell_type": "code",
   "execution_count": 32,
   "metadata": {},
   "outputs": [
    {
     "data": {
      "text/plain": [
       "4.372249360543279"
      ]
     },
     "execution_count": 32,
     "metadata": {},
     "output_type": "execute_result"
    }
   ],
   "source": [
    "np.std(Y)"
   ]
  },
  {
   "cell_type": "markdown",
   "metadata": {},
   "source": [
    "##Getting Returns from Prices\n",
    "\n",
    "We can use the `pct_change` function to get returns. Notice how we drop the first element after doing this, as it will be `NaN` (nothing -> something results in a NaN percent change)."
   ]
  },
  {
   "cell_type": "code",
   "execution_count": null,
   "metadata": {},
   "outputs": [],
   "source": [
    "R = X.pct_change()[1:]"
   ]
  },
  {
   "cell_type": "code",
   "execution_count": 34,
   "metadata": {},
   "outputs": [],
   "source": [
    "S = Y.pct_change()[2:]"
   ]
  },
  {
   "cell_type": "markdown",
   "metadata": {},
   "source": [
    "We can plot the returns distribution as a histogram."
   ]
  },
  {
   "cell_type": "code",
   "execution_count": null,
   "metadata": {},
   "outputs": [],
   "source": [
    "plt.hist(R, bins=20)\n",
    "plt.xlabel('Return')\n",
    "plt.ylabel('Frequency')\n",
    "plt.legend(['MSFT Returns']);"
   ]
  },
  {
   "cell_type": "code",
   "execution_count": 35,
   "metadata": {},
   "outputs": [
    {
     "data": {
      "image/png": "[encoded data removed]",
      "text/plain": [
       "<Figure size 1008x576 with 1 Axes>"
      ]
     },
     "metadata": {},
     "output_type": "display_data"
    }
   ],
   "source": [
    "plt.hist(S, bins=10)\n",
    "plt.xlabel('Return')\n",
    "plt.ylabel('Frequency')\n",
    "plt.legend(['MSFT Returns']);"
   ]
  },
  {
   "cell_type": "markdown",
   "metadata": {},
   "source": [
    "Get statistics again."
   ]
  },
  {
   "cell_type": "code",
   "execution_count": null,
   "metadata": {},
   "outputs": [],
   "source": [
    "np.mean(R)"
   ]
  },
  {
   "cell_type": "code",
   "execution_count": null,
   "metadata": {},
   "outputs": [],
   "source": [
    "np.std(R)"
   ]
  },
  {
   "cell_type": "code",
   "execution_count": 36,
   "metadata": {},
   "outputs": [
    {
     "data": {
      "text/plain": [
       "0.0008862005736912346"
      ]
     },
     "execution_count": 36,
     "metadata": {},
     "output_type": "execute_result"
    }
   ],
   "source": [
    "np.mean(S)"
   ]
  },
  {
   "cell_type": "code",
   "execution_count": 37,
   "metadata": {},
   "outputs": [
    {
     "data": {
      "text/plain": [
       "0.01411659098050143"
      ]
     },
     "execution_count": 37,
     "metadata": {},
     "output_type": "execute_result"
    }
   ],
   "source": [
    "np.std(S)"
   ]
  },
  {
   "cell_type": "markdown",
   "metadata": {},
   "source": [
    "Now let's go backwards and generate data out of a normal distribution using the statistics we estimated from Microsoft's returns. We'll see that we have good reason to suspect Microsoft's returns may not be normal, as the resulting normal distribution looks far different."
   ]
  },
  {
   "cell_type": "code",
   "execution_count": null,
   "metadata": {},
   "outputs": [],
   "source": [
    "plt.hist(np.random.normal(np.mean(R), np.std(R), 10000), bins=20)\n",
    "plt.xlabel('Return')\n",
    "plt.ylabel('Frequency')\n",
    "plt.legend(['Normally Distributed Returns']);"
   ]
  },
  {
   "cell_type": "code",
   "execution_count": 42,
   "metadata": {},
   "outputs": [
    {
     "data": {
      "image/png": "[encoded data removed]",
      "text/plain": [
       "<Figure size 1008x576 with 1 Axes>"
      ]
     },
     "metadata": {},
     "output_type": "display_data"
    }
   ],
   "source": [
    "plt.hist(np.random.binomial(np.mean(S), np.std(S), 100000), bins=20)\n",
    "plt.xlabel('Return')\n",
    "plt.ylabel('Frequency')\n",
    "plt.legend(['Binomially Distributed Returns']);"
   ]
  },
  {
   "cell_type": "markdown",
   "metadata": {},
   "source": [
    "##Generating a Moving Average\n",
    "\n",
    "`pandas` has some nice tools to allow us to generate rolling statistics. Here's an example. Notice how there's no moving average for the first 60 days, as we don't have 60 days of data on which to generate the statistic."
   ]
  },
  {
   "cell_type": "code",
   "execution_count": null,
   "metadata": {},
   "outputs": [],
   "source": [
    "# Take the average of the last 60 days at each timepoint.\n",
    "MAVG = pd.rolling_mean(X, window=60)\n",
    "plt.plot(X.index, X.values)\n",
    "plt.plot(MAVG.index, MAVG.values)\n",
    "plt.ylabel('Price')\n",
    "plt.legend(['MSFT', '60-day MAVG']);"
   ]
  },
  {
   "cell_type": "code",
   "execution_count": 43,
   "metadata": {},
   "outputs": [
    {
     "name": "stderr",
     "output_type": "stream",
     "text": [
      "/venvs/py35/lib/python3.5/site-packages/ipykernel_launcher.py:1: FutureWarning: pd.rolling_mean is deprecated for Series and will be removed in a future version, replace with \n",
      "\tSeries.rolling(center=False,window=30).mean()\n",
      "  \"\"\"Entry point for launching an IPython kernel.\n"
     ]
    },
    {
     "data": {
      "image/png": "[encoded data removed]",
      "text/plain": [
       "<Figure size 1008x576 with 1 Axes>"
      ]
     },
     "metadata": {},
     "output_type": "display_data"
    }
   ],
   "source": [
    "MAVG = pd.rolling_mean(Y, window=30)\n",
    "plt.plot(Y.index, Y.values)\n",
    "plt.plot(MAVG.index, MAVG.values)\n",
    "plt.ylabel('Price')\n",
    "plt.legend(['MSFT', '30-day MAVG']);"
   ]
  },
  {
   "cell_type": "markdown",
   "metadata": {},
   "source": [
    "This presentation is for informational purposes only and does not constitute an offer to sell, a solicitation to buy, or a recommendation for any security; nor does it constitute an offer to provide investment advisory or other services by Quantopian, Inc. (\"Quantopian\"). Nothing contained herein constitutes investment advice or offers any opinion with respect to the suitability of any security, and any views expressed herein should not be taken as advice to buy, sell, or hold any security or as an endorsement of any security or company. In preparing the information contained herein, Quantopian, Inc. has not taken into account the investment needs, objectives, and financial circumstances of any particular investor. Any views expressed and data illustrated herein were prepared based upon information, believed to be reliable, available to Quantopian, Inc. at the time of publication. Quantopian makes no guarantees as to their accuracy or completeness. All information is subject to change and may quickly become unreliable for various reasons, including changes in market conditions or economic circumstances."
   ]
  }
 ],
 "metadata": {
  "kernelspec": {
   "display_name": "Python 3.5",
   "language": "python",
   "name": "py35"
  },
  "language_info": {
   "codemirror_mode": {
    "name": "ipython",
    "version": 3
   },
   "file_extension": ".py",
   "mimetype": "text/x-python",
   "name": "python",
   "nbconvert_exporter": "python",
   "pygments_lexer": "ipython3",
   "version": "3.5.9"
  }
 },
 "nbformat": 4,
 "nbformat_minor": 1
}
